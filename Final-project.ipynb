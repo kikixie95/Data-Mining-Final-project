{
 "cells": [
  {
   "cell_type": "markdown",
   "metadata": {
    "toc": true
   },
   "source": [
    "<h1>Table of Contents<span class=\"tocSkip\"></span></h1>\n",
    "<div class=\"toc\"><ul class=\"toc-item\"><li><span><a href=\"#Exploratory-data-analysis\" data-toc-modified-id=\"Exploratory-data-analysis-1\"><span class=\"toc-item-num\">1&nbsp;&nbsp;</span>Exploratory data analysis</a></span><ul class=\"toc-item\"><li><span><a href=\"#Null-value-exploratory\" data-toc-modified-id=\"Null-value-exploratory-1.1\"><span class=\"toc-item-num\">1.1&nbsp;&nbsp;</span>Null value exploratory</a></span></li><li><span><a href=\"#Extract-histogram-features\" data-toc-modified-id=\"Extract-histogram-features-1.2\"><span class=\"toc-item-num\">1.2&nbsp;&nbsp;</span>Extract histogram features</a></span></li></ul></li><li><span><a href=\"#Data-Preprocessing\" data-toc-modified-id=\"Data-Preprocessing-2\"><span class=\"toc-item-num\">2&nbsp;&nbsp;</span>Data Preprocessing</a></span><ul class=\"toc-item\"><li><span><a href=\"#Drop-null-values\" data-toc-modified-id=\"Drop-null-values-2.1\"><span class=\"toc-item-num\">2.1&nbsp;&nbsp;</span>Drop null values</a></span></li><li><span><a href=\"#Fill-null-values-with-mean-and-create-null-indicator-features\" data-toc-modified-id=\"Fill-null-values-with-mean-and-create-null-indicator-features-2.2\"><span class=\"toc-item-num\">2.2&nbsp;&nbsp;</span>Fill null values with mean and create null indicator features</a></span></li><li><span><a href=\"#Convert-to-proper-dtypes\" data-toc-modified-id=\"Convert-to-proper-dtypes-2.3\"><span class=\"toc-item-num\">2.3&nbsp;&nbsp;</span>Convert to proper dtypes</a></span></li><li><span><a href=\"#Save-preprocessed-data-with-labels\" data-toc-modified-id=\"Save-preprocessed-data-with-labels-2.4\"><span class=\"toc-item-num\">2.4&nbsp;&nbsp;</span>Save preprocessed data with labels</a></span></li></ul></li><li><span><a href=\"#Modeling\" data-toc-modified-id=\"Modeling-3\"><span class=\"toc-item-num\">3&nbsp;&nbsp;</span>Modeling</a></span><ul class=\"toc-item\"><li><span><a href=\"#Dummy-model\" data-toc-modified-id=\"Dummy-model-3.1\"><span class=\"toc-item-num\">3.1&nbsp;&nbsp;</span>Dummy model</a></span></li><li><span><a href=\"#Logistic-Regression\" data-toc-modified-id=\"Logistic-Regression-3.2\"><span class=\"toc-item-num\">3.2&nbsp;&nbsp;</span>Logistic Regression</a></span></li><li><span><a href=\"#K-Nearest-Neighbors\" data-toc-modified-id=\"K-Nearest-Neighbors-3.3\"><span class=\"toc-item-num\">3.3&nbsp;&nbsp;</span>K-Nearest Neighbors</a></span></li><li><span><a href=\"#Random-Forest\" data-toc-modified-id=\"Random-Forest-3.4\"><span class=\"toc-item-num\">3.4&nbsp;&nbsp;</span>Random Forest</a></span></li><li><span><a href=\"#XGBoost\" data-toc-modified-id=\"XGBoost-3.5\"><span class=\"toc-item-num\">3.5&nbsp;&nbsp;</span>XGBoost</a></span></li><li><span><a href=\"#LightGBM\" data-toc-modified-id=\"LightGBM-3.6\"><span class=\"toc-item-num\">3.6&nbsp;&nbsp;</span>LightGBM</a></span><ul class=\"toc-item\"><li><span><a href=\"#data-preprocessing-for-LightGBM\" data-toc-modified-id=\"data-preprocessing-for-LightGBM-3.6.1\"><span class=\"toc-item-num\">3.6.1&nbsp;&nbsp;</span>data preprocessing for LightGBM</a></span></li><li><span><a href=\"#train-and-test-lightgbm-model\" data-toc-modified-id=\"train-and-test-lightgbm-model-3.6.2\"><span class=\"toc-item-num\">3.6.2&nbsp;&nbsp;</span>train and test lightgbm model</a></span></li><li><span><a href=\"#data-preprocessing-for-LightGBM-without-null-indicator\" data-toc-modified-id=\"data-preprocessing-for-LightGBM-without-null-indicator-3.6.3\"><span class=\"toc-item-num\">3.6.3&nbsp;&nbsp;</span>data preprocessing for LightGBM without null indicator</a></span></li><li><span><a href=\"#train-and-test-lightgbm-model-without-null-indicator\" data-toc-modified-id=\"train-and-test-lightgbm-model-without-null-indicator-3.6.4\"><span class=\"toc-item-num\">3.6.4&nbsp;&nbsp;</span>train and test lightgbm model without null indicator</a></span></li></ul></li><li><span><a href=\"#CatBoost\" data-toc-modified-id=\"CatBoost-3.7\"><span class=\"toc-item-num\">3.7&nbsp;&nbsp;</span>CatBoost</a></span></li></ul></li></ul></div>"
   ]
  },
  {
   "cell_type": "code",
   "execution_count": 16,
   "metadata": {},
   "outputs": [],
   "source": [
    "import pickle\n",
    "import numpy as np\n",
    "import pandas as pd\n",
    "import seaborn as sns\n",
    "import matplotlib.pyplot as plt\n",
    "from collections import Counter\n",
    "from sklearn.impute import SimpleImputer\n",
    "from pyautomodel import utils"
   ]
  },
  {
   "cell_type": "code",
   "execution_count": 4,
   "metadata": {},
   "outputs": [
    {
     "data": {
      "text/html": [
       "<style>.container { width:90% !important; }</style>"
      ],
      "text/plain": [
       "<IPython.core.display.HTML object>"
      ]
     },
     "metadata": {},
     "output_type": "display_data"
    }
   ],
   "source": [
    "pd.set_option(\"display.max_columns\", None)\n",
    "pd.set_option(\"display.max_rows\", 20)\n",
    "from IPython.core.display import display, HTML\n",
    "display(HTML(\"<style>.container { width:90% !important; }</style>\"))"
   ]
  },
  {
   "cell_type": "code",
   "execution_count": 3,
   "metadata": {},
   "outputs": [],
   "source": [
    "## load dataset\n",
    "data = pd.read_csv('./aps_failure_training_set.csv')\n",
    "target = data['class'].map({'neg': 0, 'pos': 1})\n",
    "data = data.drop('class', axis=1)"
   ]
  },
  {
   "cell_type": "markdown",
   "metadata": {},
   "source": [
    "# Exploratory data analysis"
   ]
  },
  {
   "cell_type": "markdown",
   "metadata": {},
   "source": [
    "## Null value exploratory"
   ]
  },
  {
   "cell_type": "code",
   "execution_count": 6,
   "metadata": {},
   "outputs": [
    {
     "data": {
      "image/png": "[encoded data removed]",
      "text/plain": [
       "<Figure size 1152x360 with 2 Axes>"
      ]
     },
     "metadata": {
      "needs_background": "light"
     },
     "output_type": "display_data"
    }
   ],
   "source": [
    "## null value statistics by columns and by rows\n",
    "_ = data.isnull()\n",
    "null_stats_row = _.sum(axis=1) / data.shape[1]\n",
    "null_stats_col = _.sum(axis=0) / data.shape[0]\n",
    "\n",
    "# plot the null statistics\n",
    "f, axs = plt.subplots(1, 2, figsize=(16, 5))\n",
    "sns.distplot(null_stats_row, ax=axs[0], bins=30, axlabel= 'feature null ratio', label='null stats by feature').legend()\n",
    "sns.distplot(null_stats_col, ax=axs[1], bins=30, axlabel='sample null ratio', label='null stats by sample').legend()\n",
    "axs[0].set_title('null stats by features')\n",
    "axs[1].set_title('null stats by samples')\n",
    "plt.show()"
   ]
  },
  {
   "cell_type": "markdown",
   "metadata": {},
   "source": [
    "`Comment:\n",
    "    From the 'null stats by features' plot, we can find that most features have low null ratio, i.e. less than 0.2, so we choose 0.2 as the threshold to drop these features with null ratio geater than 0.2.\n",
    "    From the 'null stats by samples' plot, we can find that most samples have low null ratio, i.e. less than 0.4, so we choose 0.4 as the threshold to drop these samples with null ratio greater than 0.4.`"
   ]
  },
  {
   "cell_type": "markdown",
   "metadata": {},
   "source": [
    "## Extract histogram features"
   ]
  },
  {
   "cell_type": "code",
   "execution_count": 7,
   "metadata": {
    "scrolled": true
   },
   "outputs": [],
   "source": [
    "## There are some features are derived from original attributes.\n",
    "## E.g. features 'ee_000, ee_001, ee_002, ee_003, ee_004, ee_005, ee_006, ee_007, ee_008, ee_009' were derived from original attribute 'ee' by applying histogram to bin it.\n",
    "## I.e., let's say there are N_i values in that original attribute 'ee' of a sample_i (other samples may have different number of values, i.e. N_j may differ from N_i), \n",
    "## there is a count n_0 of values that fall into range 'ee_000', a count n_1 of values that fall into range 'ee_001' and so on,\n",
    "## then assign n_0 to feature 'ee_000', assign n_1 to feature 'ee_001' and so on.\n",
    "## So, if we apply argmax('ee000, ..., ee009'), then we can get the bin the original attribute 'ee' is falls into most frequently, \n",
    "## we use it as a new feature and vice versa (i.e. argmin('ee000, ..., ee009'))\n",
    "original_attrs = [attr for attr, count in Counter([col[:2] for col in data.columns]).items() if count > 1]\n",
    "for attr in original_attrs:\n",
    "    data[f'{attr}_max'] = data.filter(regex=f\"^{attr}_[0-9]*$\").apply(lambda row: np.nanargmax(row) if not np.isnan(row).any() else np.NaN, \n",
    "                                                                      axis=1, raw=True, result_type='reduce')\n",
    "    data[f'{attr}_min'] = data.filter(regex=f\"^{attr}_[0-9]*$\").apply(lambda row: np.nanargmin(row) if not np.isnan(row).any() else np.NaN, \n",
    "                                                                      axis=1, raw=True, result_type='reduce')\n",
    "## normalize the histogram features\n",
    "for attr in original_attrs:\n",
    "    _df = data.filter(regex=f\"^{attr}_[0-9]*$\").apply(lambda row: row / np.nansum(row) if not np.nansum(row) == 0 else [0] * len(row), \n",
    "                                                      axis=1, raw=True, result_type='expand').add_suffix('_norm')\n",
    "    data = pd.concat([data, _df], axis=1)"
   ]
  },
  {
   "cell_type": "markdown",
   "metadata": {},
   "source": [
    "# Data Preprocessing"
   ]
  },
  {
   "cell_type": "markdown",
   "metadata": {},
   "source": [
    "## Drop null values"
   ]
  },
  {
   "cell_type": "code",
   "execution_count": 8,
   "metadata": {},
   "outputs": [],
   "source": [
    "## drop features and columns by threshold\n",
    "# use 0.4 as feature null stats threshold to drop features\n",
    "# use 0.2 as sample null stats threshold to drop samples\n",
    "THRESHOLD_COL = 0.2\n",
    "THRESHOLD_ROW = 0.4\n",
    "drop_features = null_stats_col.index[null_stats_col > THRESHOLD_COL]\n",
    "drop_samples = null_stats_row.index[null_stats_row > THRESHOLD_ROW]\n",
    "data.drop(drop_features, axis=1, inplace=True)\n",
    "data.drop(drop_samples, axis=0, inplace=True)\n",
    "target.drop(drop_samples, inplace=True)"
   ]
  },
  {
   "cell_type": "markdown",
   "metadata": {},
   "source": [
    "## Fill null values with mean and create null indicator features"
   ]
  },
  {
   "cell_type": "code",
   "execution_count": 9,
   "metadata": {},
   "outputs": [],
   "source": [
    "## fill null values with mean strategy, and create null value indicator features\n",
    "imp_mean = SimpleImputer(missing_values=np.NaN, strategy='mean', add_indicator=True).fit(data)\n",
    "data = pd.DataFrame(imp_mean.transform(data), \n",
    "                    columns=data.columns.to_list() + (data.columns[imp_mean.indicator_.features_] + '_null_indic').to_list(), \n",
    "                    index=data.index)"
   ]
  },
  {
   "cell_type": "markdown",
   "metadata": {},
   "source": [
    "## Convert to proper dtypes"
   ]
  },
  {
   "cell_type": "code",
   "execution_count": 10,
   "metadata": {},
   "outputs": [],
   "source": [
    "## convert float dtype columns with only integers to int dtype\n",
    "# NOTE: make sure there is no NaN value\n",
    "for col in data.columns:\n",
    "    if data[col].apply(float.is_integer, convert_dtype=False).all():\n",
    "        data[col] = data[col].astype(np.int)\n",
    "# reduce memory usage\n",
    "data = utils.reduce_mem_usage(data)"
   ]
  },
  {
   "cell_type": "markdown",
   "metadata": {},
   "source": [
    "## Save preprocessed data with labels"
   ]
  },
  {
   "cell_type": "code",
   "execution_count": 11,
   "metadata": {},
   "outputs": [],
   "source": [
    "pd.concat([data, target], axis=1).to_pickle('./preprc_data.pkl')"
   ]
  },
  {
   "cell_type": "markdown",
   "metadata": {},
   "source": [
    "# Modeling"
   ]
  },
  {
   "cell_type": "markdown",
   "metadata": {},
   "source": [
    "## Dummy model"
   ]
  },
  {
   "cell_type": "code",
   "execution_count": 12,
   "metadata": {},
   "outputs": [],
   "source": [
    "from sklearn.dummy import DummyClassifier"
   ]
  },
  {
   "cell_type": "code",
   "execution_count": 14,
   "metadata": {},
   "outputs": [
    {
     "data": {
      "text/plain": [
       "0.9835301271980945"
      ]
     },
     "execution_count": 14,
     "metadata": {},
     "output_type": "execute_result"
    }
   ],
   "source": [
    "dummy_clf = DummyClassifier(strategy='most_frequent').fit(data, target)\n",
    "dummy_clf.score(data, target)"
   ]
  },
  {
   "cell_type": "markdown",
   "metadata": {},
   "source": [
    "## Logistic Regression"
   ]
  },
  {
   "cell_type": "code",
   "execution_count": 57,
   "metadata": {},
   "outputs": [],
   "source": [
    "from sklearn.preprocessing import StandardScaler\n",
    "from sklearn.linear_model import LogisticRegression\n",
    "from sklearn.model_selection import train_test_split\n",
    "from sklearn.metrics import accuracy_score\n",
    "from pyautomodel.automodel.logisticOptimizer import LogisticOptimizer"
   ]
  },
  {
   "cell_type": "code",
   "execution_count": 49,
   "metadata": {},
   "outputs": [],
   "source": [
    "## load data\n",
    "data = pd.read_pickle('./preprc_data.pkl')\n",
    "\n",
    "## scaling original features\n",
    "original_feats = data.filter(regex='[0-9]$').columns.to_list()\n",
    "data[original_feats] = StandardScaler().fit_transform(data[original_feats])\n",
    "\n",
    "## split target and features\n",
    "X, y = data.drop('class', axis=1), data['class']"
   ]
  },
  {
   "cell_type": "code",
   "execution_count": 70,
   "metadata": {},
   "outputs": [],
   "source": [
    "## training and testing set split\n",
    "X_train, X_test, y_train, y_test = train_test_split(X, y, test_size=0.2, random_state=0)"
   ]
  },
  {
   "cell_type": "code",
   "execution_count": 71,
   "metadata": {},
   "outputs": [],
   "source": [
    "lr = LogisticRegression(penalty='elasticnet', class_weight='balanced', solver='saga', l1_ratio=0.2, max_iter=5000).fit(X_train, y_train)"
   ]
  },
  {
   "cell_type": "code",
   "execution_count": 73,
   "metadata": {},
   "outputs": [
    {
     "data": {
      "text/plain": [
       "0.9757601351351352"
      ]
     },
     "execution_count": 73,
     "metadata": {},
     "output_type": "execute_result"
    }
   ],
   "source": [
    "lr.score(test_X, test_y)"
   ]
  },
  {
   "cell_type": "markdown",
   "metadata": {},
   "source": [
    "## K-Nearest Neighbors"
   ]
  },
  {
   "cell_type": "code",
   "execution_count": null,
   "metadata": {},
   "outputs": [],
   "source": []
  },
  {
   "cell_type": "markdown",
   "metadata": {},
   "source": [
    "## Random Forest"
   ]
  },
  {
   "cell_type": "code",
   "execution_count": 10,
   "metadata": {},
   "outputs": [],
   "source": [
    "from pyautomodel.automodel.logisticOptimizer import LogisticOptimizer"
   ]
  },
  {
   "cell_type": "code",
   "execution_count": null,
   "metadata": {},
   "outputs": [],
   "source": [
    "LogisticOptimizer()"
   ]
  },
  {
   "cell_type": "code",
   "execution_count": null,
   "metadata": {},
   "outputs": [],
   "source": [
    "rf_clf = RandomForestClassifier(n_estimators=100).fit()"
   ]
  },
  {
   "cell_type": "code",
   "execution_count": null,
   "metadata": {},
   "outputs": [],
   "source": []
  },
  {
   "cell_type": "code",
   "execution_count": null,
   "metadata": {},
   "outputs": [],
   "source": []
  },
  {
   "cell_type": "markdown",
   "metadata": {},
   "source": [
    "## XGBoost"
   ]
  },
  {
   "cell_type": "code",
   "execution_count": null,
   "metadata": {},
   "outputs": [],
   "source": []
  },
  {
   "cell_type": "markdown",
   "metadata": {},
   "source": [
    "## LightGBM"
   ]
  },
  {
   "cell_type": "markdown",
   "metadata": {},
   "source": [
    "### data preprocessing for LightGBM"
   ]
  },
  {
   "cell_type": "code",
   "execution_count": 5,
   "metadata": {
    "scrolled": true
   },
   "outputs": [],
   "source": [
    "## load dataset\n",
    "data = pd.read_csv('./aps_failure_training_set.csv')\n",
    "target = data['class'].map({'pos': 1, 'neg': 0})\n",
    "data = data.drop('class', axis=1)\n",
    "## extract histogram features\n",
    "original_attrs = [attr for attr, count in Counter([col[:2] for col in data.columns]).items() if count > 1]\n",
    "for attr in original_attrs:\n",
    "    data[f'{attr}_max'] = data.filter(regex=f\"^{attr}_[0-9]*$\").apply(lambda row: np.nanargmax(row) if not np.isnan(row).any() else np.NaN, \n",
    "                                                                      axis=1, raw=True, result_type='reduce')\n",
    "    data[f'{attr}_min'] = data.filter(regex=f\"^{attr}_[0-9]*$\").apply(lambda row: np.nanargmin(row) if not np.isnan(row).any() else np.NaN, \n",
    "                                                                      axis=1, raw=True, result_type='reduce')\n",
    "## normalize the histogram features and add histogram features null value indicator features\n",
    "for attr in original_attrs:\n",
    "    _df = data.filter(regex=f\"^{attr}_[0-9]*$\").apply(lambda row: row / np.nansum(row) if not np.nansum(row) == 0 else [0] * len(row), \n",
    "                                                      axis=1, raw=True, result_type='expand').add_suffix('_norm')\n",
    "    data = pd.concat([data, _df], axis=1)\n",
    "## convert float dtypes to integer if possible\n",
    "for col in data.columns[data.dtypes == 'float']:\n",
    "    if data[col].apply(float.is_integer, convert_dtype=False).all():\n",
    "        data[col] = data[col].astype(np.int)\n",
    "# reduce memory usage\n",
    "data = utils.reduce_mem_usage(data)"
   ]
  },
  {
   "cell_type": "markdown",
   "metadata": {},
   "source": [
    "### train and test lightgbm model"
   ]
  },
  {
   "cell_type": "code",
   "execution_count": 6,
   "metadata": {},
   "outputs": [],
   "source": [
    "from pyautomodel.automodel import PARAMS_EXAMPLES\n",
    "from pyautomodel.automodel.lightgbmOptimizer import LightgbmOptimizerBinary"
   ]
  },
  {
   "cell_type": "code",
   "execution_count": 7,
   "metadata": {},
   "outputs": [],
   "source": [
    "base_params = PARAMS_EXAMPLES['lightgbm']['base_params']\n",
    "cat_params = PARAMS_EXAMPLES['lightgbm']['cat_params']\n",
    "int_params = PARAMS_EXAMPLES['lightgbm']['int_params']\n",
    "float_params = PARAMS_EXAMPLES['lightgbm']['float_params']"
   ]
  },
  {
   "cell_type": "code",
   "execution_count": 8,
   "metadata": {},
   "outputs": [],
   "source": [
    "lgb_optimizer = LightgbmOptimizerBinary(data, target, base_params, cat_params, int_params, float_params, \n",
    "                                        num_opts=1000, trials_path='./trials.pkl', load_trials=True, \n",
    "                                        lgb_num_boost_round=3000, lgb_early_stopping_rounds=400, \n",
    "                                        test_size=0.25, shuffle=True, random_state=0, cv=5, strategy='stratified', group=None)"
   ]
  },
  {
   "cell_type": "code",
   "execution_count": 9,
   "metadata": {},
   "outputs": [
    {
     "name": "stdout",
     "output_type": "stream",
     "text": [
      "100%|██████████| 1000/1000 [1:20:38<00:00,  5.30s/it, best loss: -0.9818797033898307]\n"
     ]
    }
   ],
   "source": [
    "lgb_optimizer.optimize()"
   ]
  },
  {
   "cell_type": "code",
   "execution_count": 14,
   "metadata": {
    "collapsed": true
   },
   "outputs": [
    {
     "name": "stdout",
     "output_type": "stream",
     "text": [
      "[1]\tTrain's auc: 0.95178\tTrain's binary_logloss: 1.73538\tTrain's binary_error: 0.0881778\tEval's auc: 0.941723\tEval's binary_logloss: 1.7649\tEval's binary_error: 0.0898\n",
      "Training until validation scores don't improve for 400 rounds\n",
      "[2]\tTrain's auc: 0.961946\tTrain's binary_logloss: 1.10089\tTrain's binary_error: 0.0903778\tEval's auc: 0.9511\tEval's binary_logloss: 1.12363\tEval's binary_error: 0.0925333\n",
      "[3]\tTrain's auc: 0.96215\tTrain's binary_logloss: 0.38996\tTrain's binary_error: 0.0893111\tEval's auc: 0.950401\tEval's binary_logloss: 0.401129\tEval's binary_error: 0.0919333\n",
      "[4]\tTrain's auc: 0.978277\tTrain's binary_logloss: 0.237965\tTrain's binary_error: 0.0890889\tEval's auc: 0.964031\tEval's binary_logloss: 0.2476\tEval's binary_error: 0.0910667\n",
      "[5]\tTrain's auc: 0.983482\tTrain's binary_logloss: 0.18675\tTrain's binary_error: 0.0516444\tEval's auc: 0.968589\tEval's binary_logloss: 0.196069\tEval's binary_error: 0.0555333\n",
      "[6]\tTrain's auc: 0.985588\tTrain's binary_logloss: 0.16837\tTrain's binary_error: 0.0482889\tEval's auc: 0.971116\tEval's binary_logloss: 0.177004\tEval's binary_error: 0.0526\n",
      "[7]\tTrain's auc: 0.98699\tTrain's binary_logloss: 0.151248\tTrain's binary_error: 0.0457111\tEval's auc: 0.974658\tEval's binary_logloss: 0.158905\tEval's binary_error: 0.049\n",
      "[8]\tTrain's auc: 0.98781\tTrain's binary_logloss: 0.137038\tTrain's binary_error: 0.043\tEval's auc: 0.976308\tEval's binary_logloss: 0.143603\tEval's binary_error: 0.0466\n",
      "[9]\tTrain's auc: 0.988508\tTrain's binary_logloss: 0.12994\tTrain's binary_error: 0.0401333\tEval's auc: 0.977622\tEval's binary_logloss: 0.136192\tEval's binary_error: 0.0435333\n",
      "[10]\tTrain's auc: 0.989281\tTrain's binary_logloss: 0.12265\tTrain's binary_error: 0.0371333\tEval's auc: 0.978824\tEval's binary_logloss: 0.128793\tEval's binary_error: 0.0408667\n",
      "[11]\tTrain's auc: 0.989811\tTrain's binary_logloss: 0.116101\tTrain's binary_error: 0.0341778\tEval's auc: 0.979616\tEval's binary_logloss: 0.122343\tEval's binary_error: 0.0376667\n",
      "[12]\tTrain's auc: 0.99028\tTrain's binary_logloss: 0.109347\tTrain's binary_error: 0.0322889\tEval's auc: 0.979604\tEval's binary_logloss: 0.115226\tEval's binary_error: 0.0356667\n",
      "[13]\tTrain's auc: 0.990493\tTrain's binary_logloss: 0.10662\tTrain's binary_error: 0.0314667\tEval's auc: 0.979774\tEval's binary_logloss: 0.112823\tEval's binary_error: 0.0349333\n",
      "[14]\tTrain's auc: 0.99083\tTrain's binary_logloss: 0.104214\tTrain's binary_error: 0.0307778\tEval's auc: 0.979882\tEval's binary_logloss: 0.110408\tEval's binary_error: 0.0347333\n",
      "[15]\tTrain's auc: 0.990823\tTrain's binary_logloss: 0.101898\tTrain's binary_error: 0.0298\tEval's auc: 0.979393\tEval's binary_logloss: 0.108101\tEval's binary_error: 0.0335333\n",
      "[16]\tTrain's auc: 0.990915\tTrain's binary_logloss: 0.0996875\tTrain's binary_error: 0.0291556\tEval's auc: 0.979979\tEval's binary_logloss: 0.10588\tEval's binary_error: 0.0326667\n",
      "[17]\tTrain's auc: 0.991036\tTrain's binary_logloss: 0.0986503\tTrain's binary_error: 0.0289111\tEval's auc: 0.979802\tEval's binary_logloss: 0.104581\tEval's binary_error: 0.0327333\n",
      "[18]\tTrain's auc: 0.991139\tTrain's binary_logloss: 0.0961108\tTrain's binary_error: 0.0283333\tEval's auc: 0.979786\tEval's binary_logloss: 0.102253\tEval's binary_error: 0.0318667\n",
      "[19]\tTrain's auc: 0.991364\tTrain's binary_logloss: 0.0943032\tTrain's binary_error: 0.0280444\tEval's auc: 0.980247\tEval's binary_logloss: 0.100118\tEval's binary_error: 0.0312667\n",
      "[20]\tTrain's auc: 0.991538\tTrain's binary_logloss: 0.0918883\tTrain's binary_error: 0.0273333\tEval's auc: 0.980313\tEval's binary_logloss: 0.0975703\tEval's binary_error: 0.0307333\n",
      "[21]\tTrain's auc: 0.991587\tTrain's binary_logloss: 0.0905528\tTrain's binary_error: 0.0271333\tEval's auc: 0.980465\tEval's binary_logloss: 0.0963265\tEval's binary_error: 0.03\n",
      "[22]\tTrain's auc: 0.991694\tTrain's binary_logloss: 0.088736\tTrain's binary_error: 0.0265556\tEval's auc: 0.980675\tEval's binary_logloss: 0.0942811\tEval's binary_error: 0.0296\n",
      "[23]\tTrain's auc: 0.991743\tTrain's binary_logloss: 0.0886374\tTrain's binary_error: 0.0266\tEval's auc: 0.98053\tEval's binary_logloss: 0.0942965\tEval's binary_error: 0.0296\n",
      "[24]\tTrain's auc: 0.991739\tTrain's binary_logloss: 0.0880827\tTrain's binary_error: 0.0266222\tEval's auc: 0.980561\tEval's binary_logloss: 0.0937529\tEval's binary_error: 0.0298667\n",
      "[25]\tTrain's auc: 0.991756\tTrain's binary_logloss: 0.0874943\tTrain's binary_error: 0.0264667\tEval's auc: 0.980611\tEval's binary_logloss: 0.0932183\tEval's binary_error: 0.0296667\n",
      "[26]\tTrain's auc: 0.991887\tTrain's binary_logloss: 0.0868479\tTrain's binary_error: 0.0266667\tEval's auc: 0.980796\tEval's binary_logloss: 0.0924143\tEval's binary_error: 0.0298\n",
      "[27]\tTrain's auc: 0.991978\tTrain's binary_logloss: 0.0861993\tTrain's binary_error: 0.0267111\tEval's auc: 0.980773\tEval's binary_logloss: 0.0918864\tEval's binary_error: 0.0296667\n",
      "[28]\tTrain's auc: 0.992068\tTrain's binary_logloss: 0.0845125\tTrain's binary_error: 0.0265333\tEval's auc: 0.980905\tEval's binary_logloss: 0.089976\tEval's binary_error: 0.0290667\n",
      "[29]\tTrain's auc: 0.992182\tTrain's binary_logloss: 0.0838636\tTrain's binary_error: 0.0266222\tEval's auc: 0.980917\tEval's binary_logloss: 0.0893268\tEval's binary_error: 0.0294\n",
      "[30]\tTrain's auc: 0.9922\tTrain's binary_logloss: 0.083208\tTrain's binary_error: 0.0264222\tEval's auc: 0.980923\tEval's binary_logloss: 0.0887598\tEval's binary_error: 0.0289333\n",
      "[31]\tTrain's auc: 0.992203\tTrain's binary_logloss: 0.0829361\tTrain's binary_error: 0.0264444\tEval's auc: 0.980758\tEval's binary_logloss: 0.0885085\tEval's binary_error: 0.0290667\n",
      "[32]\tTrain's auc: 0.992203\tTrain's binary_logloss: 0.0829361\tTrain's binary_error: 0.0264444\tEval's auc: 0.980758\tEval's binary_logloss: 0.0885085\tEval's binary_error: 0.0290667\n",
      "[33]\tTrain's auc: 0.992239\tTrain's binary_logloss: 0.0822686\tTrain's binary_error: 0.0262444\tEval's auc: 0.980791\tEval's binary_logloss: 0.087847\tEval's binary_error: 0.0288\n",
      "[34]\tTrain's auc: 0.992239\tTrain's binary_logloss: 0.0822686\tTrain's binary_error: 0.0262444\tEval's auc: 0.980791\tEval's binary_logloss: 0.087847\tEval's binary_error: 0.0288\n",
      "[35]\tTrain's auc: 0.992249\tTrain's binary_logloss: 0.0821085\tTrain's binary_error: 0.0260889\tEval's auc: 0.980819\tEval's binary_logloss: 0.0877292\tEval's binary_error: 0.0289333\n",
      "[36]\tTrain's auc: 0.992291\tTrain's binary_logloss: 0.0815799\tTrain's binary_error: 0.0259111\tEval's auc: 0.980842\tEval's binary_logloss: 0.0872604\tEval's binary_error: 0.0286667\n",
      "[37]\tTrain's auc: 0.992291\tTrain's binary_logloss: 0.0815799\tTrain's binary_error: 0.0259111\tEval's auc: 0.980842\tEval's binary_logloss: 0.0872604\tEval's binary_error: 0.0286667\n",
      "[38]\tTrain's auc: 0.992291\tTrain's binary_logloss: 0.0815799\tTrain's binary_error: 0.0259111\tEval's auc: 0.980842\tEval's binary_logloss: 0.0872604\tEval's binary_error: 0.0286667\n",
      "[39]\tTrain's auc: 0.992291\tTrain's binary_logloss: 0.0815799\tTrain's binary_error: 0.0259111\tEval's auc: 0.980842\tEval's binary_logloss: 0.0872604\tEval's binary_error: 0.0286667\n",
      "[40]\tTrain's auc: 0.992291\tTrain's binary_logloss: 0.0815799\tTrain's binary_error: 0.0259111\tEval's auc: 0.980842\tEval's binary_logloss: 0.0872604\tEval's binary_error: 0.0286667\n",
      "[41]\tTrain's auc: 0.992291\tTrain's binary_logloss: 0.0815799\tTrain's binary_error: 0.0259111\tEval's auc: 0.980842\tEval's binary_logloss: 0.0872604\tEval's binary_error: 0.0286667\n",
      "[42]\tTrain's auc: 0.992291\tTrain's binary_logloss: 0.0815799\tTrain's binary_error: 0.0259111\tEval's auc: 0.980842\tEval's binary_logloss: 0.0872604\tEval's binary_error: 0.0286667\n",
      "[43]\tTrain's auc: 0.992291\tTrain's binary_logloss: 0.0815799\tTrain's binary_error: 0.0259111\tEval's auc: 0.980842\tEval's binary_logloss: 0.0872604\tEval's binary_error: 0.0286667\n",
      "[44]\tTrain's auc: 0.992291\tTrain's binary_logloss: 0.0815799\tTrain's binary_error: 0.0259111\tEval's auc: 0.980842\tEval's binary_logloss: 0.0872604\tEval's binary_error: 0.0286667\n",
      "[45]\tTrain's auc: 0.992291\tTrain's binary_logloss: 0.0815799\tTrain's binary_error: 0.0259111\tEval's auc: 0.980842\tEval's binary_logloss: 0.0872604\tEval's binary_error: 0.0286667\n",
      "[46]\tTrain's auc: 0.992291\tTrain's binary_logloss: 0.0815799\tTrain's binary_error: 0.0259111\tEval's auc: 0.980842\tEval's binary_logloss: 0.0872604\tEval's binary_error: 0.0286667\n",
      "[47]\tTrain's auc: 0.992291\tTrain's binary_logloss: 0.0815799\tTrain's binary_error: 0.0259111\tEval's auc: 0.980842\tEval's binary_logloss: 0.0872604\tEval's binary_error: 0.0286667\n",
      "[48]\tTrain's auc: 0.992291\tTrain's binary_logloss: 0.0815799\tTrain's binary_error: 0.0259111\tEval's auc: 0.980842\tEval's binary_logloss: 0.0872604\tEval's binary_error: 0.0286667\n",
      "[49]\tTrain's auc: 0.992291\tTrain's binary_logloss: 0.0815799\tTrain's binary_error: 0.0259111\tEval's auc: 0.980842\tEval's binary_logloss: 0.0872604\tEval's binary_error: 0.0286667\n",
      "[50]\tTrain's auc: 0.992291\tTrain's binary_logloss: 0.0815799\tTrain's binary_error: 0.0259111\tEval's auc: 0.980842\tEval's binary_logloss: 0.0872604\tEval's binary_error: 0.0286667\n",
      "[51]\tTrain's auc: 0.992291\tTrain's binary_logloss: 0.0815799\tTrain's binary_error: 0.0259111\tEval's auc: 0.980842\tEval's binary_logloss: 0.0872604\tEval's binary_error: 0.0286667\n",
      "[52]\tTrain's auc: 0.992291\tTrain's binary_logloss: 0.0815799\tTrain's binary_error: 0.0259111\tEval's auc: 0.980842\tEval's binary_logloss: 0.0872604\tEval's binary_error: 0.0286667\n",
      "[53]\tTrain's auc: 0.992291\tTrain's binary_logloss: 0.0815799\tTrain's binary_error: 0.0259111\tEval's auc: 0.980842\tEval's binary_logloss: 0.0872604\tEval's binary_error: 0.0286667\n",
      "[54]\tTrain's auc: 0.992291\tTrain's binary_logloss: 0.0815799\tTrain's binary_error: 0.0259111\tEval's auc: 0.980842\tEval's binary_logloss: 0.0872604\tEval's binary_error: 0.0286667\n",
      "[55]\tTrain's auc: 0.992291\tTrain's binary_logloss: 0.0815799\tTrain's binary_error: 0.0259111\tEval's auc: 0.980842\tEval's binary_logloss: 0.0872604\tEval's binary_error: 0.0286667\n",
      "[56]\tTrain's auc: 0.992291\tTrain's binary_logloss: 0.0815799\tTrain's binary_error: 0.0259111\tEval's auc: 0.980842\tEval's binary_logloss: 0.0872604\tEval's binary_error: 0.0286667\n",
      "[57]\tTrain's auc: 0.992291\tTrain's binary_logloss: 0.0815799\tTrain's binary_error: 0.0259111\tEval's auc: 0.980842\tEval's binary_logloss: 0.0872604\tEval's binary_error: 0.0286667\n",
      "[58]\tTrain's auc: 0.992291\tTrain's binary_logloss: 0.0815799\tTrain's binary_error: 0.0259111\tEval's auc: 0.980842\tEval's binary_logloss: 0.0872604\tEval's binary_error: 0.0286667\n",
      "[59]\tTrain's auc: 0.992291\tTrain's binary_logloss: 0.0815799\tTrain's binary_error: 0.0259111\tEval's auc: 0.980842\tEval's binary_logloss: 0.0872604\tEval's binary_error: 0.0286667\n",
      "[60]\tTrain's auc: 0.992291\tTrain's binary_logloss: 0.0815799\tTrain's binary_error: 0.0259111\tEval's auc: 0.980842\tEval's binary_logloss: 0.0872604\tEval's binary_error: 0.0286667\n",
      "[61]\tTrain's auc: 0.992291\tTrain's binary_logloss: 0.0815799\tTrain's binary_error: 0.0259111\tEval's auc: 0.980842\tEval's binary_logloss: 0.0872604\tEval's binary_error: 0.0286667\n",
      "[62]\tTrain's auc: 0.992291\tTrain's binary_logloss: 0.0815799\tTrain's binary_error: 0.0259111\tEval's auc: 0.980842\tEval's binary_logloss: 0.0872604\tEval's binary_error: 0.0286667\n",
      "[63]\tTrain's auc: 0.992291\tTrain's binary_logloss: 0.0815799\tTrain's binary_error: 0.0259111\tEval's auc: 0.980842\tEval's binary_logloss: 0.0872604\tEval's binary_error: 0.0286667\n",
      "[64]\tTrain's auc: 0.992291\tTrain's binary_logloss: 0.0815799\tTrain's binary_error: 0.0259111\tEval's auc: 0.980842\tEval's binary_logloss: 0.0872604\tEval's binary_error: 0.0286667\n",
      "[65]\tTrain's auc: 0.992291\tTrain's binary_logloss: 0.0815799\tTrain's binary_error: 0.0259111\tEval's auc: 0.980842\tEval's binary_logloss: 0.0872604\tEval's binary_error: 0.0286667\n",
      "[66]\tTrain's auc: 0.992291\tTrain's binary_logloss: 0.0815799\tTrain's binary_error: 0.0259111\tEval's auc: 0.980842\tEval's binary_logloss: 0.0872604\tEval's binary_error: 0.0286667\n",
      "[67]\tTrain's auc: 0.992291\tTrain's binary_logloss: 0.0815799\tTrain's binary_error: 0.0259111\tEval's auc: 0.980842\tEval's binary_logloss: 0.0872604\tEval's binary_error: 0.0286667\n",
      "[68]\tTrain's auc: 0.992291\tTrain's binary_logloss: 0.0815799\tTrain's binary_error: 0.0259111\tEval's auc: 0.980842\tEval's binary_logloss: 0.0872604\tEval's binary_error: 0.0286667\n",
      "[69]\tTrain's auc: 0.992291\tTrain's binary_logloss: 0.0815799\tTrain's binary_error: 0.0259111\tEval's auc: 0.980842\tEval's binary_logloss: 0.0872604\tEval's binary_error: 0.0286667\n",
      "[70]\tTrain's auc: 0.992291\tTrain's binary_logloss: 0.0815799\tTrain's binary_error: 0.0259111\tEval's auc: 0.980842\tEval's binary_logloss: 0.0872604\tEval's binary_error: 0.0286667\n",
      "[71]\tTrain's auc: 0.992291\tTrain's binary_logloss: 0.0815799\tTrain's binary_error: 0.0259111\tEval's auc: 0.980842\tEval's binary_logloss: 0.0872604\tEval's binary_error: 0.0286667\n",
      "[72]\tTrain's auc: 0.992291\tTrain's binary_logloss: 0.0815799\tTrain's binary_error: 0.0259111\tEval's auc: 0.980842\tEval's binary_logloss: 0.0872604\tEval's binary_error: 0.0286667\n",
      "[73]\tTrain's auc: 0.992291\tTrain's binary_logloss: 0.0815799\tTrain's binary_error: 0.0259111\tEval's auc: 0.980842\tEval's binary_logloss: 0.0872604\tEval's binary_error: 0.0286667\n",
      "[74]\tTrain's auc: 0.992291\tTrain's binary_logloss: 0.0815799\tTrain's binary_error: 0.0259111\tEval's auc: 0.980842\tEval's binary_logloss: 0.0872604\tEval's binary_error: 0.0286667\n",
      "[75]\tTrain's auc: 0.992291\tTrain's binary_logloss: 0.0815799\tTrain's binary_error: 0.0259111\tEval's auc: 0.980842\tEval's binary_logloss: 0.0872604\tEval's binary_error: 0.0286667\n",
      "[76]\tTrain's auc: 0.992291\tTrain's binary_logloss: 0.0815799\tTrain's binary_error: 0.0259111\tEval's auc: 0.980842\tEval's binary_logloss: 0.0872604\tEval's binary_error: 0.0286667\n",
      "[77]\tTrain's auc: 0.992291\tTrain's binary_logloss: 0.0815799\tTrain's binary_error: 0.0259111\tEval's auc: 0.980842\tEval's binary_logloss: 0.0872604\tEval's binary_error: 0.0286667\n",
      "[78]\tTrain's auc: 0.992291\tTrain's binary_logloss: 0.0815799\tTrain's binary_error: 0.0259111\tEval's auc: 0.980842\tEval's binary_logloss: 0.0872604\tEval's binary_error: 0.0286667\n",
      "[79]\tTrain's auc: 0.992291\tTrain's binary_logloss: 0.0815799\tTrain's binary_error: 0.0259111\tEval's auc: 0.980842\tEval's binary_logloss: 0.0872604\tEval's binary_error: 0.0286667\n",
      "[80]\tTrain's auc: 0.992291\tTrain's binary_logloss: 0.0815799\tTrain's binary_error: 0.0259111\tEval's auc: 0.980842\tEval's binary_logloss: 0.0872604\tEval's binary_error: 0.0286667\n",
      "[81]\tTrain's auc: 0.992291\tTrain's binary_logloss: 0.0815799\tTrain's binary_error: 0.0259111\tEval's auc: 0.980842\tEval's binary_logloss: 0.0872604\tEval's binary_error: 0.0286667\n",
      "[82]\tTrain's auc: 0.992291\tTrain's binary_logloss: 0.0815799\tTrain's binary_error: 0.0259111\tEval's auc: 0.980842\tEval's binary_logloss: 0.0872604\tEval's binary_error: 0.0286667\n",
      "[83]\tTrain's auc: 0.992291\tTrain's binary_logloss: 0.0815799\tTrain's binary_error: 0.0259111\tEval's auc: 0.980842\tEval's binary_logloss: 0.0872604\tEval's binary_error: 0.0286667\n",
      "[84]\tTrain's auc: 0.992291\tTrain's binary_logloss: 0.0815799\tTrain's binary_error: 0.0259111\tEval's auc: 0.980842\tEval's binary_logloss: 0.0872604\tEval's binary_error: 0.0286667\n",
      "[85]\tTrain's auc: 0.992291\tTrain's binary_logloss: 0.0815799\tTrain's binary_error: 0.0259111\tEval's auc: 0.980842\tEval's binary_logloss: 0.0872604\tEval's binary_error: 0.0286667\n",
      "[86]\tTrain's auc: 0.992291\tTrain's binary_logloss: 0.0815799\tTrain's binary_error: 0.0259111\tEval's auc: 0.980842\tEval's binary_logloss: 0.0872604\tEval's binary_error: 0.0286667\n",
      "[87]\tTrain's auc: 0.992291\tTrain's binary_logloss: 0.0815799\tTrain's binary_error: 0.0259111\tEval's auc: 0.980842\tEval's binary_logloss: 0.0872604\tEval's binary_error: 0.0286667\n",
      "[88]\tTrain's auc: 0.992291\tTrain's binary_logloss: 0.0815799\tTrain's binary_error: 0.0259111\tEval's auc: 0.980842\tEval's binary_logloss: 0.0872604\tEval's binary_error: 0.0286667\n",
      "[89]\tTrain's auc: 0.992291\tTrain's binary_logloss: 0.0815799\tTrain's binary_error: 0.0259111\tEval's auc: 0.980842\tEval's binary_logloss: 0.0872604\tEval's binary_error: 0.0286667\n",
      "[90]\tTrain's auc: 0.992291\tTrain's binary_logloss: 0.0815799\tTrain's binary_error: 0.0259111\tEval's auc: 0.980842\tEval's binary_logloss: 0.0872604\tEval's binary_error: 0.0286667\n",
      "[91]\tTrain's auc: 0.992291\tTrain's binary_logloss: 0.0815799\tTrain's binary_error: 0.0259111\tEval's auc: 0.980842\tEval's binary_logloss: 0.0872604\tEval's binary_error: 0.0286667\n",
      "[92]\tTrain's auc: 0.992291\tTrain's binary_logloss: 0.0815799\tTrain's binary_error: 0.0259111\tEval's auc: 0.980842\tEval's binary_logloss: 0.0872604\tEval's binary_error: 0.0286667\n",
      "[93]\tTrain's auc: 0.992291\tTrain's binary_logloss: 0.0815799\tTrain's binary_error: 0.0259111\tEval's auc: 0.980842\tEval's binary_logloss: 0.0872604\tEval's binary_error: 0.0286667\n",
      "[94]\tTrain's auc: 0.992291\tTrain's binary_logloss: 0.0815799\tTrain's binary_error: 0.0259111\tEval's auc: 0.980842\tEval's binary_logloss: 0.0872604\tEval's binary_error: 0.0286667\n",
      "[95]\tTrain's auc: 0.992291\tTrain's binary_logloss: 0.0815799\tTrain's binary_error: 0.0259111\tEval's auc: 0.980842\tEval's binary_logloss: 0.0872604\tEval's binary_error: 0.0286667\n"
     ]
    },
    {
     "name": "stdout",
     "output_type": "stream",
     "text": [
      "[96]\tTrain's auc: 0.992291\tTrain's binary_logloss: 0.0815799\tTrain's binary_error: 0.0259111\tEval's auc: 0.980842\tEval's binary_logloss: 0.0872604\tEval's binary_error: 0.0286667\n",
      "[97]\tTrain's auc: 0.992291\tTrain's binary_logloss: 0.0815799\tTrain's binary_error: 0.0259111\tEval's auc: 0.980842\tEval's binary_logloss: 0.0872604\tEval's binary_error: 0.0286667\n",
      "[98]\tTrain's auc: 0.992291\tTrain's binary_logloss: 0.0815799\tTrain's binary_error: 0.0259111\tEval's auc: 0.980842\tEval's binary_logloss: 0.0872604\tEval's binary_error: 0.0286667\n",
      "[99]\tTrain's auc: 0.992291\tTrain's binary_logloss: 0.0815799\tTrain's binary_error: 0.0259111\tEval's auc: 0.980842\tEval's binary_logloss: 0.0872604\tEval's binary_error: 0.0286667\n",
      "[100]\tTrain's auc: 0.992291\tTrain's binary_logloss: 0.0815799\tTrain's binary_error: 0.0259111\tEval's auc: 0.980842\tEval's binary_logloss: 0.0872604\tEval's binary_error: 0.0286667\n",
      "[101]\tTrain's auc: 0.992291\tTrain's binary_logloss: 0.0815799\tTrain's binary_error: 0.0259111\tEval's auc: 0.980842\tEval's binary_logloss: 0.0872604\tEval's binary_error: 0.0286667\n",
      "[102]\tTrain's auc: 0.992291\tTrain's binary_logloss: 0.0815799\tTrain's binary_error: 0.0259111\tEval's auc: 0.980842\tEval's binary_logloss: 0.0872604\tEval's binary_error: 0.0286667\n",
      "[103]\tTrain's auc: 0.992291\tTrain's binary_logloss: 0.0815799\tTrain's binary_error: 0.0259111\tEval's auc: 0.980842\tEval's binary_logloss: 0.0872604\tEval's binary_error: 0.0286667\n",
      "[104]\tTrain's auc: 0.992291\tTrain's binary_logloss: 0.0815799\tTrain's binary_error: 0.0259111\tEval's auc: 0.980842\tEval's binary_logloss: 0.0872604\tEval's binary_error: 0.0286667\n",
      "[105]\tTrain's auc: 0.992291\tTrain's binary_logloss: 0.0815799\tTrain's binary_error: 0.0259111\tEval's auc: 0.980842\tEval's binary_logloss: 0.0872604\tEval's binary_error: 0.0286667\n",
      "[106]\tTrain's auc: 0.992291\tTrain's binary_logloss: 0.0815799\tTrain's binary_error: 0.0259111\tEval's auc: 0.980842\tEval's binary_logloss: 0.0872604\tEval's binary_error: 0.0286667\n",
      "[107]\tTrain's auc: 0.992291\tTrain's binary_logloss: 0.0815799\tTrain's binary_error: 0.0259111\tEval's auc: 0.980842\tEval's binary_logloss: 0.0872604\tEval's binary_error: 0.0286667\n",
      "[108]\tTrain's auc: 0.992291\tTrain's binary_logloss: 0.0815799\tTrain's binary_error: 0.0259111\tEval's auc: 0.980842\tEval's binary_logloss: 0.0872604\tEval's binary_error: 0.0286667\n",
      "[109]\tTrain's auc: 0.992291\tTrain's binary_logloss: 0.0815799\tTrain's binary_error: 0.0259111\tEval's auc: 0.980842\tEval's binary_logloss: 0.0872604\tEval's binary_error: 0.0286667\n",
      "[110]\tTrain's auc: 0.992291\tTrain's binary_logloss: 0.0815799\tTrain's binary_error: 0.0259111\tEval's auc: 0.980842\tEval's binary_logloss: 0.0872604\tEval's binary_error: 0.0286667\n",
      "[111]\tTrain's auc: 0.992291\tTrain's binary_logloss: 0.0815799\tTrain's binary_error: 0.0259111\tEval's auc: 0.980842\tEval's binary_logloss: 0.0872604\tEval's binary_error: 0.0286667\n",
      "[112]\tTrain's auc: 0.992291\tTrain's binary_logloss: 0.0815799\tTrain's binary_error: 0.0259111\tEval's auc: 0.980842\tEval's binary_logloss: 0.0872604\tEval's binary_error: 0.0286667\n",
      "[113]\tTrain's auc: 0.992291\tTrain's binary_logloss: 0.0815799\tTrain's binary_error: 0.0259111\tEval's auc: 0.980842\tEval's binary_logloss: 0.0872604\tEval's binary_error: 0.0286667\n",
      "[114]\tTrain's auc: 0.992291\tTrain's binary_logloss: 0.0815799\tTrain's binary_error: 0.0259111\tEval's auc: 0.980842\tEval's binary_logloss: 0.0872604\tEval's binary_error: 0.0286667\n",
      "[115]\tTrain's auc: 0.992291\tTrain's binary_logloss: 0.0815799\tTrain's binary_error: 0.0259111\tEval's auc: 0.980842\tEval's binary_logloss: 0.0872604\tEval's binary_error: 0.0286667\n",
      "[116]\tTrain's auc: 0.992291\tTrain's binary_logloss: 0.0815799\tTrain's binary_error: 0.0259111\tEval's auc: 0.980842\tEval's binary_logloss: 0.0872604\tEval's binary_error: 0.0286667\n",
      "[117]\tTrain's auc: 0.992291\tTrain's binary_logloss: 0.0815799\tTrain's binary_error: 0.0259111\tEval's auc: 0.980842\tEval's binary_logloss: 0.0872604\tEval's binary_error: 0.0286667\n",
      "[118]\tTrain's auc: 0.992291\tTrain's binary_logloss: 0.0815799\tTrain's binary_error: 0.0259111\tEval's auc: 0.980842\tEval's binary_logloss: 0.0872604\tEval's binary_error: 0.0286667\n",
      "[119]\tTrain's auc: 0.992291\tTrain's binary_logloss: 0.0815799\tTrain's binary_error: 0.0259111\tEval's auc: 0.980842\tEval's binary_logloss: 0.0872604\tEval's binary_error: 0.0286667\n",
      "[120]\tTrain's auc: 0.992291\tTrain's binary_logloss: 0.0815799\tTrain's binary_error: 0.0259111\tEval's auc: 0.980842\tEval's binary_logloss: 0.0872604\tEval's binary_error: 0.0286667\n",
      "[121]\tTrain's auc: 0.992291\tTrain's binary_logloss: 0.0815799\tTrain's binary_error: 0.0259111\tEval's auc: 0.980842\tEval's binary_logloss: 0.0872604\tEval's binary_error: 0.0286667\n",
      "[122]\tTrain's auc: 0.992291\tTrain's binary_logloss: 0.0815799\tTrain's binary_error: 0.0259111\tEval's auc: 0.980842\tEval's binary_logloss: 0.0872604\tEval's binary_error: 0.0286667\n",
      "[123]\tTrain's auc: 0.992291\tTrain's binary_logloss: 0.0815799\tTrain's binary_error: 0.0259111\tEval's auc: 0.980842\tEval's binary_logloss: 0.0872604\tEval's binary_error: 0.0286667\n",
      "[124]\tTrain's auc: 0.992291\tTrain's binary_logloss: 0.0815799\tTrain's binary_error: 0.0259111\tEval's auc: 0.980842\tEval's binary_logloss: 0.0872604\tEval's binary_error: 0.0286667\n",
      "[125]\tTrain's auc: 0.992291\tTrain's binary_logloss: 0.0815799\tTrain's binary_error: 0.0259111\tEval's auc: 0.980842\tEval's binary_logloss: 0.0872604\tEval's binary_error: 0.0286667\n",
      "[126]\tTrain's auc: 0.992291\tTrain's binary_logloss: 0.0815799\tTrain's binary_error: 0.0259111\tEval's auc: 0.980842\tEval's binary_logloss: 0.0872604\tEval's binary_error: 0.0286667\n",
      "[127]\tTrain's auc: 0.992291\tTrain's binary_logloss: 0.0815799\tTrain's binary_error: 0.0259111\tEval's auc: 0.980842\tEval's binary_logloss: 0.0872604\tEval's binary_error: 0.0286667\n",
      "[128]\tTrain's auc: 0.992291\tTrain's binary_logloss: 0.0815799\tTrain's binary_error: 0.0259111\tEval's auc: 0.980842\tEval's binary_logloss: 0.0872604\tEval's binary_error: 0.0286667\n",
      "[129]\tTrain's auc: 0.992291\tTrain's binary_logloss: 0.0815799\tTrain's binary_error: 0.0259111\tEval's auc: 0.980842\tEval's binary_logloss: 0.0872604\tEval's binary_error: 0.0286667\n",
      "[130]\tTrain's auc: 0.992291\tTrain's binary_logloss: 0.0815799\tTrain's binary_error: 0.0259111\tEval's auc: 0.980842\tEval's binary_logloss: 0.0872604\tEval's binary_error: 0.0286667\n",
      "[131]\tTrain's auc: 0.992291\tTrain's binary_logloss: 0.0815799\tTrain's binary_error: 0.0259111\tEval's auc: 0.980842\tEval's binary_logloss: 0.0872604\tEval's binary_error: 0.0286667\n",
      "[132]\tTrain's auc: 0.992291\tTrain's binary_logloss: 0.0815799\tTrain's binary_error: 0.0259111\tEval's auc: 0.980842\tEval's binary_logloss: 0.0872604\tEval's binary_error: 0.0286667\n",
      "[133]\tTrain's auc: 0.992291\tTrain's binary_logloss: 0.0815799\tTrain's binary_error: 0.0259111\tEval's auc: 0.980842\tEval's binary_logloss: 0.0872604\tEval's binary_error: 0.0286667\n",
      "[134]\tTrain's auc: 0.992291\tTrain's binary_logloss: 0.0815799\tTrain's binary_error: 0.0259111\tEval's auc: 0.980842\tEval's binary_logloss: 0.0872604\tEval's binary_error: 0.0286667\n",
      "[135]\tTrain's auc: 0.992291\tTrain's binary_logloss: 0.0815799\tTrain's binary_error: 0.0259111\tEval's auc: 0.980842\tEval's binary_logloss: 0.0872604\tEval's binary_error: 0.0286667\n",
      "[136]\tTrain's auc: 0.992291\tTrain's binary_logloss: 0.0815799\tTrain's binary_error: 0.0259111\tEval's auc: 0.980842\tEval's binary_logloss: 0.0872604\tEval's binary_error: 0.0286667\n",
      "[137]\tTrain's auc: 0.992291\tTrain's binary_logloss: 0.0815799\tTrain's binary_error: 0.0259111\tEval's auc: 0.980842\tEval's binary_logloss: 0.0872604\tEval's binary_error: 0.0286667\n",
      "[138]\tTrain's auc: 0.992291\tTrain's binary_logloss: 0.0815799\tTrain's binary_error: 0.0259111\tEval's auc: 0.980842\tEval's binary_logloss: 0.0872604\tEval's binary_error: 0.0286667\n",
      "[139]\tTrain's auc: 0.992291\tTrain's binary_logloss: 0.0815799\tTrain's binary_error: 0.0259111\tEval's auc: 0.980842\tEval's binary_logloss: 0.0872604\tEval's binary_error: 0.0286667\n",
      "[140]\tTrain's auc: 0.992291\tTrain's binary_logloss: 0.0815799\tTrain's binary_error: 0.0259111\tEval's auc: 0.980842\tEval's binary_logloss: 0.0872604\tEval's binary_error: 0.0286667\n",
      "[141]\tTrain's auc: 0.992291\tTrain's binary_logloss: 0.0815799\tTrain's binary_error: 0.0259111\tEval's auc: 0.980842\tEval's binary_logloss: 0.0872604\tEval's binary_error: 0.0286667\n",
      "[142]\tTrain's auc: 0.992291\tTrain's binary_logloss: 0.0815799\tTrain's binary_error: 0.0259111\tEval's auc: 0.980842\tEval's binary_logloss: 0.0872604\tEval's binary_error: 0.0286667\n",
      "[143]\tTrain's auc: 0.992291\tTrain's binary_logloss: 0.0815799\tTrain's binary_error: 0.0259111\tEval's auc: 0.980842\tEval's binary_logloss: 0.0872604\tEval's binary_error: 0.0286667\n",
      "[144]\tTrain's auc: 0.992291\tTrain's binary_logloss: 0.0815799\tTrain's binary_error: 0.0259111\tEval's auc: 0.980842\tEval's binary_logloss: 0.0872604\tEval's binary_error: 0.0286667\n",
      "[145]\tTrain's auc: 0.992291\tTrain's binary_logloss: 0.0815799\tTrain's binary_error: 0.0259111\tEval's auc: 0.980842\tEval's binary_logloss: 0.0872604\tEval's binary_error: 0.0286667\n",
      "[146]\tTrain's auc: 0.992291\tTrain's binary_logloss: 0.0815799\tTrain's binary_error: 0.0259111\tEval's auc: 0.980842\tEval's binary_logloss: 0.0872604\tEval's binary_error: 0.0286667\n",
      "[147]\tTrain's auc: 0.992291\tTrain's binary_logloss: 0.0815799\tTrain's binary_error: 0.0259111\tEval's auc: 0.980842\tEval's binary_logloss: 0.0872604\tEval's binary_error: 0.0286667\n",
      "[148]\tTrain's auc: 0.992291\tTrain's binary_logloss: 0.0815799\tTrain's binary_error: 0.0259111\tEval's auc: 0.980842\tEval's binary_logloss: 0.0872604\tEval's binary_error: 0.0286667\n"
     ]
    },
    {
     "name": "stdout",
     "output_type": "stream",
     "text": [
      "[149]\tTrain's auc: 0.992291\tTrain's binary_logloss: 0.0815799\tTrain's binary_error: 0.0259111\tEval's auc: 0.980842\tEval's binary_logloss: 0.0872604\tEval's binary_error: 0.0286667\n",
      "[150]\tTrain's auc: 0.992291\tTrain's binary_logloss: 0.0815799\tTrain's binary_error: 0.0259111\tEval's auc: 0.980842\tEval's binary_logloss: 0.0872604\tEval's binary_error: 0.0286667\n",
      "[151]\tTrain's auc: 0.992291\tTrain's binary_logloss: 0.0815799\tTrain's binary_error: 0.0259111\tEval's auc: 0.980842\tEval's binary_logloss: 0.0872604\tEval's binary_error: 0.0286667\n",
      "[152]\tTrain's auc: 0.992291\tTrain's binary_logloss: 0.0815799\tTrain's binary_error: 0.0259111\tEval's auc: 0.980842\tEval's binary_logloss: 0.0872604\tEval's binary_error: 0.0286667\n",
      "[153]\tTrain's auc: 0.992291\tTrain's binary_logloss: 0.0815799\tTrain's binary_error: 0.0259111\tEval's auc: 0.980842\tEval's binary_logloss: 0.0872604\tEval's binary_error: 0.0286667\n",
      "[154]\tTrain's auc: 0.992291\tTrain's binary_logloss: 0.0815799\tTrain's binary_error: 0.0259111\tEval's auc: 0.980842\tEval's binary_logloss: 0.0872604\tEval's binary_error: 0.0286667\n",
      "[155]\tTrain's auc: 0.992291\tTrain's binary_logloss: 0.0815799\tTrain's binary_error: 0.0259111\tEval's auc: 0.980842\tEval's binary_logloss: 0.0872604\tEval's binary_error: 0.0286667\n",
      "[156]\tTrain's auc: 0.992291\tTrain's binary_logloss: 0.0815799\tTrain's binary_error: 0.0259111\tEval's auc: 0.980842\tEval's binary_logloss: 0.0872604\tEval's binary_error: 0.0286667\n",
      "[157]\tTrain's auc: 0.992291\tTrain's binary_logloss: 0.0815799\tTrain's binary_error: 0.0259111\tEval's auc: 0.980842\tEval's binary_logloss: 0.0872604\tEval's binary_error: 0.0286667\n",
      "[158]\tTrain's auc: 0.992291\tTrain's binary_logloss: 0.0815799\tTrain's binary_error: 0.0259111\tEval's auc: 0.980842\tEval's binary_logloss: 0.0872604\tEval's binary_error: 0.0286667\n",
      "[159]\tTrain's auc: 0.992291\tTrain's binary_logloss: 0.0815799\tTrain's binary_error: 0.0259111\tEval's auc: 0.980842\tEval's binary_logloss: 0.0872604\tEval's binary_error: 0.0286667\n",
      "[160]\tTrain's auc: 0.992291\tTrain's binary_logloss: 0.0815799\tTrain's binary_error: 0.0259111\tEval's auc: 0.980842\tEval's binary_logloss: 0.0872604\tEval's binary_error: 0.0286667\n",
      "[161]\tTrain's auc: 0.992291\tTrain's binary_logloss: 0.0815799\tTrain's binary_error: 0.0259111\tEval's auc: 0.980842\tEval's binary_logloss: 0.0872604\tEval's binary_error: 0.0286667\n",
      "[162]\tTrain's auc: 0.992291\tTrain's binary_logloss: 0.0815799\tTrain's binary_error: 0.0259111\tEval's auc: 0.980842\tEval's binary_logloss: 0.0872604\tEval's binary_error: 0.0286667\n",
      "[163]\tTrain's auc: 0.992291\tTrain's binary_logloss: 0.0815799\tTrain's binary_error: 0.0259111\tEval's auc: 0.980842\tEval's binary_logloss: 0.0872604\tEval's binary_error: 0.0286667\n",
      "[164]\tTrain's auc: 0.992291\tTrain's binary_logloss: 0.0815799\tTrain's binary_error: 0.0259111\tEval's auc: 0.980842\tEval's binary_logloss: 0.0872604\tEval's binary_error: 0.0286667\n",
      "[165]\tTrain's auc: 0.992291\tTrain's binary_logloss: 0.0815799\tTrain's binary_error: 0.0259111\tEval's auc: 0.980842\tEval's binary_logloss: 0.0872604\tEval's binary_error: 0.0286667\n",
      "[166]\tTrain's auc: 0.992291\tTrain's binary_logloss: 0.0815799\tTrain's binary_error: 0.0259111\tEval's auc: 0.980842\tEval's binary_logloss: 0.0872604\tEval's binary_error: 0.0286667\n",
      "[167]\tTrain's auc: 0.992291\tTrain's binary_logloss: 0.0815799\tTrain's binary_error: 0.0259111\tEval's auc: 0.980842\tEval's binary_logloss: 0.0872604\tEval's binary_error: 0.0286667\n",
      "[168]\tTrain's auc: 0.992291\tTrain's binary_logloss: 0.0815799\tTrain's binary_error: 0.0259111\tEval's auc: 0.980842\tEval's binary_logloss: 0.0872604\tEval's binary_error: 0.0286667\n",
      "[169]\tTrain's auc: 0.992291\tTrain's binary_logloss: 0.0815799\tTrain's binary_error: 0.0259111\tEval's auc: 0.980842\tEval's binary_logloss: 0.0872604\tEval's binary_error: 0.0286667\n",
      "[170]\tTrain's auc: 0.992291\tTrain's binary_logloss: 0.0815799\tTrain's binary_error: 0.0259111\tEval's auc: 0.980842\tEval's binary_logloss: 0.0872604\tEval's binary_error: 0.0286667\n",
      "[171]\tTrain's auc: 0.992291\tTrain's binary_logloss: 0.0815799\tTrain's binary_error: 0.0259111\tEval's auc: 0.980842\tEval's binary_logloss: 0.0872604\tEval's binary_error: 0.0286667\n",
      "[172]\tTrain's auc: 0.992291\tTrain's binary_logloss: 0.0815799\tTrain's binary_error: 0.0259111\tEval's auc: 0.980842\tEval's binary_logloss: 0.0872604\tEval's binary_error: 0.0286667\n",
      "[173]\tTrain's auc: 0.992291\tTrain's binary_logloss: 0.0815799\tTrain's binary_error: 0.0259111\tEval's auc: 0.980842\tEval's binary_logloss: 0.0872604\tEval's binary_error: 0.0286667\n",
      "[174]\tTrain's auc: 0.992291\tTrain's binary_logloss: 0.0815799\tTrain's binary_error: 0.0259111\tEval's auc: 0.980842\tEval's binary_logloss: 0.0872604\tEval's binary_error: 0.0286667\n",
      "[175]\tTrain's auc: 0.992291\tTrain's binary_logloss: 0.0815799\tTrain's binary_error: 0.0259111\tEval's auc: 0.980842\tEval's binary_logloss: 0.0872604\tEval's binary_error: 0.0286667\n",
      "[176]\tTrain's auc: 0.992291\tTrain's binary_logloss: 0.0815799\tTrain's binary_error: 0.0259111\tEval's auc: 0.980842\tEval's binary_logloss: 0.0872604\tEval's binary_error: 0.0286667\n",
      "[177]\tTrain's auc: 0.992291\tTrain's binary_logloss: 0.0815799\tTrain's binary_error: 0.0259111\tEval's auc: 0.980842\tEval's binary_logloss: 0.0872604\tEval's binary_error: 0.0286667\n",
      "[178]\tTrain's auc: 0.992291\tTrain's binary_logloss: 0.0815799\tTrain's binary_error: 0.0259111\tEval's auc: 0.980842\tEval's binary_logloss: 0.0872604\tEval's binary_error: 0.0286667\n",
      "[179]\tTrain's auc: 0.992291\tTrain's binary_logloss: 0.0815799\tTrain's binary_error: 0.0259111\tEval's auc: 0.980842\tEval's binary_logloss: 0.0872604\tEval's binary_error: 0.0286667\n",
      "[180]\tTrain's auc: 0.992291\tTrain's binary_logloss: 0.0815799\tTrain's binary_error: 0.0259111\tEval's auc: 0.980842\tEval's binary_logloss: 0.0872604\tEval's binary_error: 0.0286667\n",
      "[181]\tTrain's auc: 0.992291\tTrain's binary_logloss: 0.0815799\tTrain's binary_error: 0.0259111\tEval's auc: 0.980842\tEval's binary_logloss: 0.0872604\tEval's binary_error: 0.0286667\n",
      "[182]\tTrain's auc: 0.992291\tTrain's binary_logloss: 0.0815799\tTrain's binary_error: 0.0259111\tEval's auc: 0.980842\tEval's binary_logloss: 0.0872604\tEval's binary_error: 0.0286667\n",
      "[183]\tTrain's auc: 0.992291\tTrain's binary_logloss: 0.0815799\tTrain's binary_error: 0.0259111\tEval's auc: 0.980842\tEval's binary_logloss: 0.0872604\tEval's binary_error: 0.0286667\n",
      "[184]\tTrain's auc: 0.992291\tTrain's binary_logloss: 0.0815799\tTrain's binary_error: 0.0259111\tEval's auc: 0.980842\tEval's binary_logloss: 0.0872604\tEval's binary_error: 0.0286667\n",
      "[185]\tTrain's auc: 0.992291\tTrain's binary_logloss: 0.0815799\tTrain's binary_error: 0.0259111\tEval's auc: 0.980842\tEval's binary_logloss: 0.0872604\tEval's binary_error: 0.0286667\n",
      "[186]\tTrain's auc: 0.992291\tTrain's binary_logloss: 0.0815799\tTrain's binary_error: 0.0259111\tEval's auc: 0.980842\tEval's binary_logloss: 0.0872604\tEval's binary_error: 0.0286667\n",
      "[187]\tTrain's auc: 0.992291\tTrain's binary_logloss: 0.0815799\tTrain's binary_error: 0.0259111\tEval's auc: 0.980842\tEval's binary_logloss: 0.0872604\tEval's binary_error: 0.0286667\n",
      "[188]\tTrain's auc: 0.992291\tTrain's binary_logloss: 0.0815799\tTrain's binary_error: 0.0259111\tEval's auc: 0.980842\tEval's binary_logloss: 0.0872604\tEval's binary_error: 0.0286667\n",
      "[189]\tTrain's auc: 0.992291\tTrain's binary_logloss: 0.0815799\tTrain's binary_error: 0.0259111\tEval's auc: 0.980842\tEval's binary_logloss: 0.0872604\tEval's binary_error: 0.0286667\n",
      "[190]\tTrain's auc: 0.992291\tTrain's binary_logloss: 0.0815799\tTrain's binary_error: 0.0259111\tEval's auc: 0.980842\tEval's binary_logloss: 0.0872604\tEval's binary_error: 0.0286667\n",
      "[191]\tTrain's auc: 0.992291\tTrain's binary_logloss: 0.0815799\tTrain's binary_error: 0.0259111\tEval's auc: 0.980842\tEval's binary_logloss: 0.0872604\tEval's binary_error: 0.0286667\n",
      "[192]\tTrain's auc: 0.992291\tTrain's binary_logloss: 0.0815799\tTrain's binary_error: 0.0259111\tEval's auc: 0.980842\tEval's binary_logloss: 0.0872604\tEval's binary_error: 0.0286667\n",
      "[193]\tTrain's auc: 0.992291\tTrain's binary_logloss: 0.0815799\tTrain's binary_error: 0.0259111\tEval's auc: 0.980842\tEval's binary_logloss: 0.0872604\tEval's binary_error: 0.0286667\n",
      "[194]\tTrain's auc: 0.992291\tTrain's binary_logloss: 0.0815799\tTrain's binary_error: 0.0259111\tEval's auc: 0.980842\tEval's binary_logloss: 0.0872604\tEval's binary_error: 0.0286667\n",
      "[195]\tTrain's auc: 0.992291\tTrain's binary_logloss: 0.0815799\tTrain's binary_error: 0.0259111\tEval's auc: 0.980842\tEval's binary_logloss: 0.0872604\tEval's binary_error: 0.0286667\n",
      "[196]\tTrain's auc: 0.992291\tTrain's binary_logloss: 0.0815799\tTrain's binary_error: 0.0259111\tEval's auc: 0.980842\tEval's binary_logloss: 0.0872604\tEval's binary_error: 0.0286667\n",
      "[197]\tTrain's auc: 0.992291\tTrain's binary_logloss: 0.0815799\tTrain's binary_error: 0.0259111\tEval's auc: 0.980842\tEval's binary_logloss: 0.0872604\tEval's binary_error: 0.0286667\n",
      "[198]\tTrain's auc: 0.992291\tTrain's binary_logloss: 0.0815799\tTrain's binary_error: 0.0259111\tEval's auc: 0.980842\tEval's binary_logloss: 0.0872604\tEval's binary_error: 0.0286667\n",
      "[199]\tTrain's auc: 0.992291\tTrain's binary_logloss: 0.0815799\tTrain's binary_error: 0.0259111\tEval's auc: 0.980842\tEval's binary_logloss: 0.0872604\tEval's binary_error: 0.0286667\n",
      "[200]\tTrain's auc: 0.992291\tTrain's binary_logloss: 0.0815799\tTrain's binary_error: 0.0259111\tEval's auc: 0.980842\tEval's binary_logloss: 0.0872604\tEval's binary_error: 0.0286667\n",
      "[201]\tTrain's auc: 0.992291\tTrain's binary_logloss: 0.0815799\tTrain's binary_error: 0.0259111\tEval's auc: 0.980842\tEval's binary_logloss: 0.0872604\tEval's binary_error: 0.0286667\n",
      "[202]\tTrain's auc: 0.992291\tTrain's binary_logloss: 0.0815799\tTrain's binary_error: 0.0259111\tEval's auc: 0.980842\tEval's binary_logloss: 0.0872604\tEval's binary_error: 0.0286667\n"
     ]
    },
    {
     "name": "stdout",
     "output_type": "stream",
     "text": [
      "[203]\tTrain's auc: 0.992291\tTrain's binary_logloss: 0.0815799\tTrain's binary_error: 0.0259111\tEval's auc: 0.980842\tEval's binary_logloss: 0.0872604\tEval's binary_error: 0.0286667\n",
      "[204]\tTrain's auc: 0.992291\tTrain's binary_logloss: 0.0815799\tTrain's binary_error: 0.0259111\tEval's auc: 0.980842\tEval's binary_logloss: 0.0872604\tEval's binary_error: 0.0286667\n",
      "[205]\tTrain's auc: 0.992291\tTrain's binary_logloss: 0.0815799\tTrain's binary_error: 0.0259111\tEval's auc: 0.980842\tEval's binary_logloss: 0.0872604\tEval's binary_error: 0.0286667\n",
      "[206]\tTrain's auc: 0.992291\tTrain's binary_logloss: 0.0815799\tTrain's binary_error: 0.0259111\tEval's auc: 0.980842\tEval's binary_logloss: 0.0872604\tEval's binary_error: 0.0286667\n",
      "[207]\tTrain's auc: 0.992291\tTrain's binary_logloss: 0.0815799\tTrain's binary_error: 0.0259111\tEval's auc: 0.980842\tEval's binary_logloss: 0.0872604\tEval's binary_error: 0.0286667\n",
      "[208]\tTrain's auc: 0.992291\tTrain's binary_logloss: 0.0815799\tTrain's binary_error: 0.0259111\tEval's auc: 0.980842\tEval's binary_logloss: 0.0872604\tEval's binary_error: 0.0286667\n",
      "[209]\tTrain's auc: 0.992291\tTrain's binary_logloss: 0.0815799\tTrain's binary_error: 0.0259111\tEval's auc: 0.980842\tEval's binary_logloss: 0.0872604\tEval's binary_error: 0.0286667\n",
      "[210]\tTrain's auc: 0.992291\tTrain's binary_logloss: 0.0815799\tTrain's binary_error: 0.0259111\tEval's auc: 0.980842\tEval's binary_logloss: 0.0872604\tEval's binary_error: 0.0286667\n",
      "[211]\tTrain's auc: 0.992291\tTrain's binary_logloss: 0.0815799\tTrain's binary_error: 0.0259111\tEval's auc: 0.980842\tEval's binary_logloss: 0.0872604\tEval's binary_error: 0.0286667\n",
      "[212]\tTrain's auc: 0.992291\tTrain's binary_logloss: 0.0815799\tTrain's binary_error: 0.0259111\tEval's auc: 0.980842\tEval's binary_logloss: 0.0872604\tEval's binary_error: 0.0286667\n",
      "[213]\tTrain's auc: 0.992291\tTrain's binary_logloss: 0.0815799\tTrain's binary_error: 0.0259111\tEval's auc: 0.980842\tEval's binary_logloss: 0.0872604\tEval's binary_error: 0.0286667\n",
      "[214]\tTrain's auc: 0.992291\tTrain's binary_logloss: 0.0815799\tTrain's binary_error: 0.0259111\tEval's auc: 0.980842\tEval's binary_logloss: 0.0872604\tEval's binary_error: 0.0286667\n",
      "[215]\tTrain's auc: 0.992291\tTrain's binary_logloss: 0.0815799\tTrain's binary_error: 0.0259111\tEval's auc: 0.980842\tEval's binary_logloss: 0.0872604\tEval's binary_error: 0.0286667\n",
      "[216]\tTrain's auc: 0.992291\tTrain's binary_logloss: 0.0815799\tTrain's binary_error: 0.0259111\tEval's auc: 0.980842\tEval's binary_logloss: 0.0872604\tEval's binary_error: 0.0286667\n",
      "[217]\tTrain's auc: 0.992291\tTrain's binary_logloss: 0.0815799\tTrain's binary_error: 0.0259111\tEval's auc: 0.980842\tEval's binary_logloss: 0.0872604\tEval's binary_error: 0.0286667\n",
      "[218]\tTrain's auc: 0.992291\tTrain's binary_logloss: 0.0815799\tTrain's binary_error: 0.0259111\tEval's auc: 0.980842\tEval's binary_logloss: 0.0872604\tEval's binary_error: 0.0286667\n",
      "[219]\tTrain's auc: 0.992291\tTrain's binary_logloss: 0.0815799\tTrain's binary_error: 0.0259111\tEval's auc: 0.980842\tEval's binary_logloss: 0.0872604\tEval's binary_error: 0.0286667\n",
      "[220]\tTrain's auc: 0.992291\tTrain's binary_logloss: 0.0815799\tTrain's binary_error: 0.0259111\tEval's auc: 0.980842\tEval's binary_logloss: 0.0872604\tEval's binary_error: 0.0286667\n",
      "[221]\tTrain's auc: 0.992291\tTrain's binary_logloss: 0.0815799\tTrain's binary_error: 0.0259111\tEval's auc: 0.980842\tEval's binary_logloss: 0.0872604\tEval's binary_error: 0.0286667\n",
      "[222]\tTrain's auc: 0.992291\tTrain's binary_logloss: 0.0815799\tTrain's binary_error: 0.0259111\tEval's auc: 0.980842\tEval's binary_logloss: 0.0872604\tEval's binary_error: 0.0286667\n",
      "[223]\tTrain's auc: 0.992291\tTrain's binary_logloss: 0.0815799\tTrain's binary_error: 0.0259111\tEval's auc: 0.980842\tEval's binary_logloss: 0.0872604\tEval's binary_error: 0.0286667\n",
      "[224]\tTrain's auc: 0.992291\tTrain's binary_logloss: 0.0815799\tTrain's binary_error: 0.0259111\tEval's auc: 0.980842\tEval's binary_logloss: 0.0872604\tEval's binary_error: 0.0286667\n",
      "[225]\tTrain's auc: 0.992291\tTrain's binary_logloss: 0.0815799\tTrain's binary_error: 0.0259111\tEval's auc: 0.980842\tEval's binary_logloss: 0.0872604\tEval's binary_error: 0.0286667\n",
      "[226]\tTrain's auc: 0.992291\tTrain's binary_logloss: 0.0815799\tTrain's binary_error: 0.0259111\tEval's auc: 0.980842\tEval's binary_logloss: 0.0872604\tEval's binary_error: 0.0286667\n",
      "[227]\tTrain's auc: 0.992291\tTrain's binary_logloss: 0.0815799\tTrain's binary_error: 0.0259111\tEval's auc: 0.980842\tEval's binary_logloss: 0.0872604\tEval's binary_error: 0.0286667\n",
      "[228]\tTrain's auc: 0.992291\tTrain's binary_logloss: 0.0815799\tTrain's binary_error: 0.0259111\tEval's auc: 0.980842\tEval's binary_logloss: 0.0872604\tEval's binary_error: 0.0286667\n",
      "[229]\tTrain's auc: 0.992291\tTrain's binary_logloss: 0.0815799\tTrain's binary_error: 0.0259111\tEval's auc: 0.980842\tEval's binary_logloss: 0.0872604\tEval's binary_error: 0.0286667\n",
      "[230]\tTrain's auc: 0.992291\tTrain's binary_logloss: 0.0815799\tTrain's binary_error: 0.0259111\tEval's auc: 0.980842\tEval's binary_logloss: 0.0872604\tEval's binary_error: 0.0286667\n",
      "[231]\tTrain's auc: 0.992291\tTrain's binary_logloss: 0.0815799\tTrain's binary_error: 0.0259111\tEval's auc: 0.980842\tEval's binary_logloss: 0.0872604\tEval's binary_error: 0.0286667\n",
      "[232]\tTrain's auc: 0.992291\tTrain's binary_logloss: 0.0815799\tTrain's binary_error: 0.0259111\tEval's auc: 0.980842\tEval's binary_logloss: 0.0872604\tEval's binary_error: 0.0286667\n",
      "[233]\tTrain's auc: 0.992291\tTrain's binary_logloss: 0.0815799\tTrain's binary_error: 0.0259111\tEval's auc: 0.980842\tEval's binary_logloss: 0.0872604\tEval's binary_error: 0.0286667\n",
      "[234]\tTrain's auc: 0.992291\tTrain's binary_logloss: 0.0815799\tTrain's binary_error: 0.0259111\tEval's auc: 0.980842\tEval's binary_logloss: 0.0872604\tEval's binary_error: 0.0286667\n",
      "[235]\tTrain's auc: 0.992291\tTrain's binary_logloss: 0.0815799\tTrain's binary_error: 0.0259111\tEval's auc: 0.980842\tEval's binary_logloss: 0.0872604\tEval's binary_error: 0.0286667\n",
      "[236]\tTrain's auc: 0.992291\tTrain's binary_logloss: 0.0815799\tTrain's binary_error: 0.0259111\tEval's auc: 0.980842\tEval's binary_logloss: 0.0872604\tEval's binary_error: 0.0286667\n",
      "[237]\tTrain's auc: 0.992291\tTrain's binary_logloss: 0.0815799\tTrain's binary_error: 0.0259111\tEval's auc: 0.980842\tEval's binary_logloss: 0.0872604\tEval's binary_error: 0.0286667\n",
      "[238]\tTrain's auc: 0.992291\tTrain's binary_logloss: 0.0815799\tTrain's binary_error: 0.0259111\tEval's auc: 0.980842\tEval's binary_logloss: 0.0872604\tEval's binary_error: 0.0286667\n",
      "[239]\tTrain's auc: 0.992291\tTrain's binary_logloss: 0.0815799\tTrain's binary_error: 0.0259111\tEval's auc: 0.980842\tEval's binary_logloss: 0.0872604\tEval's binary_error: 0.0286667\n",
      "[240]\tTrain's auc: 0.992291\tTrain's binary_logloss: 0.0815799\tTrain's binary_error: 0.0259111\tEval's auc: 0.980842\tEval's binary_logloss: 0.0872604\tEval's binary_error: 0.0286667\n",
      "[241]\tTrain's auc: 0.992291\tTrain's binary_logloss: 0.0815799\tTrain's binary_error: 0.0259111\tEval's auc: 0.980842\tEval's binary_logloss: 0.0872604\tEval's binary_error: 0.0286667\n",
      "[242]\tTrain's auc: 0.992291\tTrain's binary_logloss: 0.0815799\tTrain's binary_error: 0.0259111\tEval's auc: 0.980842\tEval's binary_logloss: 0.0872604\tEval's binary_error: 0.0286667\n",
      "[243]\tTrain's auc: 0.992291\tTrain's binary_logloss: 0.0815799\tTrain's binary_error: 0.0259111\tEval's auc: 0.980842\tEval's binary_logloss: 0.0872604\tEval's binary_error: 0.0286667\n",
      "[244]\tTrain's auc: 0.992291\tTrain's binary_logloss: 0.0815799\tTrain's binary_error: 0.0259111\tEval's auc: 0.980842\tEval's binary_logloss: 0.0872604\tEval's binary_error: 0.0286667\n",
      "[245]\tTrain's auc: 0.992291\tTrain's binary_logloss: 0.0815799\tTrain's binary_error: 0.0259111\tEval's auc: 0.980842\tEval's binary_logloss: 0.0872604\tEval's binary_error: 0.0286667\n",
      "[246]\tTrain's auc: 0.992291\tTrain's binary_logloss: 0.0815799\tTrain's binary_error: 0.0259111\tEval's auc: 0.980842\tEval's binary_logloss: 0.0872604\tEval's binary_error: 0.0286667\n",
      "[247]\tTrain's auc: 0.992291\tTrain's binary_logloss: 0.0815799\tTrain's binary_error: 0.0259111\tEval's auc: 0.980842\tEval's binary_logloss: 0.0872604\tEval's binary_error: 0.0286667\n",
      "[248]\tTrain's auc: 0.992291\tTrain's binary_logloss: 0.0815799\tTrain's binary_error: 0.0259111\tEval's auc: 0.980842\tEval's binary_logloss: 0.0872604\tEval's binary_error: 0.0286667\n",
      "[249]\tTrain's auc: 0.992291\tTrain's binary_logloss: 0.0815799\tTrain's binary_error: 0.0259111\tEval's auc: 0.980842\tEval's binary_logloss: 0.0872604\tEval's binary_error: 0.0286667\n",
      "[250]\tTrain's auc: 0.992291\tTrain's binary_logloss: 0.0815799\tTrain's binary_error: 0.0259111\tEval's auc: 0.980842\tEval's binary_logloss: 0.0872604\tEval's binary_error: 0.0286667\n",
      "[251]\tTrain's auc: 0.992291\tTrain's binary_logloss: 0.0815799\tTrain's binary_error: 0.0259111\tEval's auc: 0.980842\tEval's binary_logloss: 0.0872604\tEval's binary_error: 0.0286667\n",
      "[252]\tTrain's auc: 0.992291\tTrain's binary_logloss: 0.0815799\tTrain's binary_error: 0.0259111\tEval's auc: 0.980842\tEval's binary_logloss: 0.0872604\tEval's binary_error: 0.0286667\n",
      "[253]\tTrain's auc: 0.992291\tTrain's binary_logloss: 0.0815799\tTrain's binary_error: 0.0259111\tEval's auc: 0.980842\tEval's binary_logloss: 0.0872604\tEval's binary_error: 0.0286667\n",
      "[254]\tTrain's auc: 0.992291\tTrain's binary_logloss: 0.0815799\tTrain's binary_error: 0.0259111\tEval's auc: 0.980842\tEval's binary_logloss: 0.0872604\tEval's binary_error: 0.0286667\n",
      "[255]\tTrain's auc: 0.992291\tTrain's binary_logloss: 0.0815799\tTrain's binary_error: 0.0259111\tEval's auc: 0.980842\tEval's binary_logloss: 0.0872604\tEval's binary_error: 0.0286667\n",
      "[256]\tTrain's auc: 0.992291\tTrain's binary_logloss: 0.0815799\tTrain's binary_error: 0.0259111\tEval's auc: 0.980842\tEval's binary_logloss: 0.0872604\tEval's binary_error: 0.0286667\n",
      "[257]\tTrain's auc: 0.992291\tTrain's binary_logloss: 0.0815799\tTrain's binary_error: 0.0259111\tEval's auc: 0.980842\tEval's binary_logloss: 0.0872604\tEval's binary_error: 0.0286667\n"
     ]
    },
    {
     "name": "stdout",
     "output_type": "stream",
     "text": [
      "[258]\tTrain's auc: 0.992291\tTrain's binary_logloss: 0.0815799\tTrain's binary_error: 0.0259111\tEval's auc: 0.980842\tEval's binary_logloss: 0.0872604\tEval's binary_error: 0.0286667\n",
      "[259]\tTrain's auc: 0.992291\tTrain's binary_logloss: 0.0815799\tTrain's binary_error: 0.0259111\tEval's auc: 0.980842\tEval's binary_logloss: 0.0872604\tEval's binary_error: 0.0286667\n",
      "[260]\tTrain's auc: 0.992291\tTrain's binary_logloss: 0.0815799\tTrain's binary_error: 0.0259111\tEval's auc: 0.980842\tEval's binary_logloss: 0.0872604\tEval's binary_error: 0.0286667\n",
      "[261]\tTrain's auc: 0.992291\tTrain's binary_logloss: 0.0815799\tTrain's binary_error: 0.0259111\tEval's auc: 0.980842\tEval's binary_logloss: 0.0872604\tEval's binary_error: 0.0286667\n",
      "[262]\tTrain's auc: 0.992291\tTrain's binary_logloss: 0.0815799\tTrain's binary_error: 0.0259111\tEval's auc: 0.980842\tEval's binary_logloss: 0.0872604\tEval's binary_error: 0.0286667\n",
      "[263]\tTrain's auc: 0.992291\tTrain's binary_logloss: 0.0815799\tTrain's binary_error: 0.0259111\tEval's auc: 0.980842\tEval's binary_logloss: 0.0872604\tEval's binary_error: 0.0286667\n",
      "[264]\tTrain's auc: 0.992291\tTrain's binary_logloss: 0.0815799\tTrain's binary_error: 0.0259111\tEval's auc: 0.980842\tEval's binary_logloss: 0.0872604\tEval's binary_error: 0.0286667\n",
      "[265]\tTrain's auc: 0.992291\tTrain's binary_logloss: 0.0815799\tTrain's binary_error: 0.0259111\tEval's auc: 0.980842\tEval's binary_logloss: 0.0872604\tEval's binary_error: 0.0286667\n",
      "[266]\tTrain's auc: 0.992291\tTrain's binary_logloss: 0.0815799\tTrain's binary_error: 0.0259111\tEval's auc: 0.980842\tEval's binary_logloss: 0.0872604\tEval's binary_error: 0.0286667\n",
      "[267]\tTrain's auc: 0.992291\tTrain's binary_logloss: 0.0815799\tTrain's binary_error: 0.0259111\tEval's auc: 0.980842\tEval's binary_logloss: 0.0872604\tEval's binary_error: 0.0286667\n",
      "[268]\tTrain's auc: 0.992291\tTrain's binary_logloss: 0.0815799\tTrain's binary_error: 0.0259111\tEval's auc: 0.980842\tEval's binary_logloss: 0.0872604\tEval's binary_error: 0.0286667\n",
      "[269]\tTrain's auc: 0.992291\tTrain's binary_logloss: 0.0815799\tTrain's binary_error: 0.0259111\tEval's auc: 0.980842\tEval's binary_logloss: 0.0872604\tEval's binary_error: 0.0286667\n",
      "[270]\tTrain's auc: 0.992291\tTrain's binary_logloss: 0.0815799\tTrain's binary_error: 0.0259111\tEval's auc: 0.980842\tEval's binary_logloss: 0.0872604\tEval's binary_error: 0.0286667\n",
      "[271]\tTrain's auc: 0.992291\tTrain's binary_logloss: 0.0815799\tTrain's binary_error: 0.0259111\tEval's auc: 0.980842\tEval's binary_logloss: 0.0872604\tEval's binary_error: 0.0286667\n",
      "[272]\tTrain's auc: 0.992291\tTrain's binary_logloss: 0.0815799\tTrain's binary_error: 0.0259111\tEval's auc: 0.980842\tEval's binary_logloss: 0.0872604\tEval's binary_error: 0.0286667\n",
      "[273]\tTrain's auc: 0.992291\tTrain's binary_logloss: 0.0815799\tTrain's binary_error: 0.0259111\tEval's auc: 0.980842\tEval's binary_logloss: 0.0872604\tEval's binary_error: 0.0286667\n",
      "[274]\tTrain's auc: 0.992291\tTrain's binary_logloss: 0.0815799\tTrain's binary_error: 0.0259111\tEval's auc: 0.980842\tEval's binary_logloss: 0.0872604\tEval's binary_error: 0.0286667\n",
      "[275]\tTrain's auc: 0.992291\tTrain's binary_logloss: 0.0815799\tTrain's binary_error: 0.0259111\tEval's auc: 0.980842\tEval's binary_logloss: 0.0872604\tEval's binary_error: 0.0286667\n",
      "[276]\tTrain's auc: 0.992291\tTrain's binary_logloss: 0.0815799\tTrain's binary_error: 0.0259111\tEval's auc: 0.980842\tEval's binary_logloss: 0.0872604\tEval's binary_error: 0.0286667\n",
      "[277]\tTrain's auc: 0.992291\tTrain's binary_logloss: 0.0815799\tTrain's binary_error: 0.0259111\tEval's auc: 0.980842\tEval's binary_logloss: 0.0872604\tEval's binary_error: 0.0286667\n",
      "[278]\tTrain's auc: 0.992291\tTrain's binary_logloss: 0.0815799\tTrain's binary_error: 0.0259111\tEval's auc: 0.980842\tEval's binary_logloss: 0.0872604\tEval's binary_error: 0.0286667\n",
      "[279]\tTrain's auc: 0.992291\tTrain's binary_logloss: 0.0815799\tTrain's binary_error: 0.0259111\tEval's auc: 0.980842\tEval's binary_logloss: 0.0872604\tEval's binary_error: 0.0286667\n",
      "[280]\tTrain's auc: 0.992291\tTrain's binary_logloss: 0.0815799\tTrain's binary_error: 0.0259111\tEval's auc: 0.980842\tEval's binary_logloss: 0.0872604\tEval's binary_error: 0.0286667\n",
      "[281]\tTrain's auc: 0.992291\tTrain's binary_logloss: 0.0815799\tTrain's binary_error: 0.0259111\tEval's auc: 0.980842\tEval's binary_logloss: 0.0872604\tEval's binary_error: 0.0286667\n",
      "[282]\tTrain's auc: 0.992291\tTrain's binary_logloss: 0.0815799\tTrain's binary_error: 0.0259111\tEval's auc: 0.980842\tEval's binary_logloss: 0.0872604\tEval's binary_error: 0.0286667\n",
      "[283]\tTrain's auc: 0.992291\tTrain's binary_logloss: 0.0815799\tTrain's binary_error: 0.0259111\tEval's auc: 0.980842\tEval's binary_logloss: 0.0872604\tEval's binary_error: 0.0286667\n",
      "[284]\tTrain's auc: 0.992291\tTrain's binary_logloss: 0.0815799\tTrain's binary_error: 0.0259111\tEval's auc: 0.980842\tEval's binary_logloss: 0.0872604\tEval's binary_error: 0.0286667\n",
      "[285]\tTrain's auc: 0.992291\tTrain's binary_logloss: 0.0815799\tTrain's binary_error: 0.0259111\tEval's auc: 0.980842\tEval's binary_logloss: 0.0872604\tEval's binary_error: 0.0286667\n",
      "[286]\tTrain's auc: 0.992291\tTrain's binary_logloss: 0.0815799\tTrain's binary_error: 0.0259111\tEval's auc: 0.980842\tEval's binary_logloss: 0.0872604\tEval's binary_error: 0.0286667\n",
      "[287]\tTrain's auc: 0.992291\tTrain's binary_logloss: 0.0815799\tTrain's binary_error: 0.0259111\tEval's auc: 0.980842\tEval's binary_logloss: 0.0872604\tEval's binary_error: 0.0286667\n",
      "[288]\tTrain's auc: 0.992291\tTrain's binary_logloss: 0.0815799\tTrain's binary_error: 0.0259111\tEval's auc: 0.980842\tEval's binary_logloss: 0.0872604\tEval's binary_error: 0.0286667\n",
      "[289]\tTrain's auc: 0.992291\tTrain's binary_logloss: 0.0815799\tTrain's binary_error: 0.0259111\tEval's auc: 0.980842\tEval's binary_logloss: 0.0872604\tEval's binary_error: 0.0286667\n",
      "[290]\tTrain's auc: 0.992291\tTrain's binary_logloss: 0.0815799\tTrain's binary_error: 0.0259111\tEval's auc: 0.980842\tEval's binary_logloss: 0.0872604\tEval's binary_error: 0.0286667\n",
      "[291]\tTrain's auc: 0.992291\tTrain's binary_logloss: 0.0815799\tTrain's binary_error: 0.0259111\tEval's auc: 0.980842\tEval's binary_logloss: 0.0872604\tEval's binary_error: 0.0286667\n",
      "[292]\tTrain's auc: 0.992291\tTrain's binary_logloss: 0.0815799\tTrain's binary_error: 0.0259111\tEval's auc: 0.980842\tEval's binary_logloss: 0.0872604\tEval's binary_error: 0.0286667\n",
      "[293]\tTrain's auc: 0.992291\tTrain's binary_logloss: 0.0815799\tTrain's binary_error: 0.0259111\tEval's auc: 0.980842\tEval's binary_logloss: 0.0872604\tEval's binary_error: 0.0286667\n",
      "[294]\tTrain's auc: 0.992291\tTrain's binary_logloss: 0.0815799\tTrain's binary_error: 0.0259111\tEval's auc: 0.980842\tEval's binary_logloss: 0.0872604\tEval's binary_error: 0.0286667\n",
      "[295]\tTrain's auc: 0.992291\tTrain's binary_logloss: 0.0815799\tTrain's binary_error: 0.0259111\tEval's auc: 0.980842\tEval's binary_logloss: 0.0872604\tEval's binary_error: 0.0286667\n",
      "[296]\tTrain's auc: 0.992291\tTrain's binary_logloss: 0.0815799\tTrain's binary_error: 0.0259111\tEval's auc: 0.980842\tEval's binary_logloss: 0.0872604\tEval's binary_error: 0.0286667\n",
      "[297]\tTrain's auc: 0.992291\tTrain's binary_logloss: 0.0815799\tTrain's binary_error: 0.0259111\tEval's auc: 0.980842\tEval's binary_logloss: 0.0872604\tEval's binary_error: 0.0286667\n",
      "[298]\tTrain's auc: 0.992291\tTrain's binary_logloss: 0.0815799\tTrain's binary_error: 0.0259111\tEval's auc: 0.980842\tEval's binary_logloss: 0.0872604\tEval's binary_error: 0.0286667\n",
      "[299]\tTrain's auc: 0.992291\tTrain's binary_logloss: 0.0815799\tTrain's binary_error: 0.0259111\tEval's auc: 0.980842\tEval's binary_logloss: 0.0872604\tEval's binary_error: 0.0286667\n",
      "[300]\tTrain's auc: 0.992291\tTrain's binary_logloss: 0.0815799\tTrain's binary_error: 0.0259111\tEval's auc: 0.980842\tEval's binary_logloss: 0.0872604\tEval's binary_error: 0.0286667\n",
      "[301]\tTrain's auc: 0.992291\tTrain's binary_logloss: 0.0815799\tTrain's binary_error: 0.0259111\tEval's auc: 0.980842\tEval's binary_logloss: 0.0872604\tEval's binary_error: 0.0286667\n",
      "[302]\tTrain's auc: 0.992291\tTrain's binary_logloss: 0.0815799\tTrain's binary_error: 0.0259111\tEval's auc: 0.980842\tEval's binary_logloss: 0.0872604\tEval's binary_error: 0.0286667\n",
      "[303]\tTrain's auc: 0.992291\tTrain's binary_logloss: 0.0815799\tTrain's binary_error: 0.0259111\tEval's auc: 0.980842\tEval's binary_logloss: 0.0872604\tEval's binary_error: 0.0286667\n",
      "[304]\tTrain's auc: 0.992291\tTrain's binary_logloss: 0.0815799\tTrain's binary_error: 0.0259111\tEval's auc: 0.980842\tEval's binary_logloss: 0.0872604\tEval's binary_error: 0.0286667\n",
      "[305]\tTrain's auc: 0.992291\tTrain's binary_logloss: 0.0815799\tTrain's binary_error: 0.0259111\tEval's auc: 0.980842\tEval's binary_logloss: 0.0872604\tEval's binary_error: 0.0286667\n",
      "[306]\tTrain's auc: 0.992291\tTrain's binary_logloss: 0.0815799\tTrain's binary_error: 0.0259111\tEval's auc: 0.980842\tEval's binary_logloss: 0.0872604\tEval's binary_error: 0.0286667\n",
      "[307]\tTrain's auc: 0.992291\tTrain's binary_logloss: 0.0815799\tTrain's binary_error: 0.0259111\tEval's auc: 0.980842\tEval's binary_logloss: 0.0872604\tEval's binary_error: 0.0286667\n",
      "[308]\tTrain's auc: 0.992291\tTrain's binary_logloss: 0.0815799\tTrain's binary_error: 0.0259111\tEval's auc: 0.980842\tEval's binary_logloss: 0.0872604\tEval's binary_error: 0.0286667\n",
      "[309]\tTrain's auc: 0.992291\tTrain's binary_logloss: 0.0815799\tTrain's binary_error: 0.0259111\tEval's auc: 0.980842\tEval's binary_logloss: 0.0872604\tEval's binary_error: 0.0286667\n",
      "[310]\tTrain's auc: 0.992291\tTrain's binary_logloss: 0.0815799\tTrain's binary_error: 0.0259111\tEval's auc: 0.980842\tEval's binary_logloss: 0.0872604\tEval's binary_error: 0.0286667\n",
      "[311]\tTrain's auc: 0.992291\tTrain's binary_logloss: 0.0815799\tTrain's binary_error: 0.0259111\tEval's auc: 0.980842\tEval's binary_logloss: 0.0872604\tEval's binary_error: 0.0286667\n"
     ]
    },
    {
     "name": "stdout",
     "output_type": "stream",
     "text": [
      "[312]\tTrain's auc: 0.992291\tTrain's binary_logloss: 0.0815799\tTrain's binary_error: 0.0259111\tEval's auc: 0.980842\tEval's binary_logloss: 0.0872604\tEval's binary_error: 0.0286667\n",
      "[313]\tTrain's auc: 0.992291\tTrain's binary_logloss: 0.0815799\tTrain's binary_error: 0.0259111\tEval's auc: 0.980842\tEval's binary_logloss: 0.0872604\tEval's binary_error: 0.0286667\n",
      "[314]\tTrain's auc: 0.992291\tTrain's binary_logloss: 0.0815799\tTrain's binary_error: 0.0259111\tEval's auc: 0.980842\tEval's binary_logloss: 0.0872604\tEval's binary_error: 0.0286667\n",
      "[315]\tTrain's auc: 0.992291\tTrain's binary_logloss: 0.0815799\tTrain's binary_error: 0.0259111\tEval's auc: 0.980842\tEval's binary_logloss: 0.0872604\tEval's binary_error: 0.0286667\n",
      "[316]\tTrain's auc: 0.992291\tTrain's binary_logloss: 0.0815799\tTrain's binary_error: 0.0259111\tEval's auc: 0.980842\tEval's binary_logloss: 0.0872604\tEval's binary_error: 0.0286667\n",
      "[317]\tTrain's auc: 0.992291\tTrain's binary_logloss: 0.0815799\tTrain's binary_error: 0.0259111\tEval's auc: 0.980842\tEval's binary_logloss: 0.0872604\tEval's binary_error: 0.0286667\n",
      "[318]\tTrain's auc: 0.992291\tTrain's binary_logloss: 0.0815799\tTrain's binary_error: 0.0259111\tEval's auc: 0.980842\tEval's binary_logloss: 0.0872604\tEval's binary_error: 0.0286667\n",
      "[319]\tTrain's auc: 0.992291\tTrain's binary_logloss: 0.0815799\tTrain's binary_error: 0.0259111\tEval's auc: 0.980842\tEval's binary_logloss: 0.0872604\tEval's binary_error: 0.0286667\n",
      "[320]\tTrain's auc: 0.992291\tTrain's binary_logloss: 0.0815799\tTrain's binary_error: 0.0259111\tEval's auc: 0.980842\tEval's binary_logloss: 0.0872604\tEval's binary_error: 0.0286667\n",
      "[321]\tTrain's auc: 0.992291\tTrain's binary_logloss: 0.0815799\tTrain's binary_error: 0.0259111\tEval's auc: 0.980842\tEval's binary_logloss: 0.0872604\tEval's binary_error: 0.0286667\n",
      "[322]\tTrain's auc: 0.992291\tTrain's binary_logloss: 0.0815799\tTrain's binary_error: 0.0259111\tEval's auc: 0.980842\tEval's binary_logloss: 0.0872604\tEval's binary_error: 0.0286667\n",
      "[323]\tTrain's auc: 0.992291\tTrain's binary_logloss: 0.0815799\tTrain's binary_error: 0.0259111\tEval's auc: 0.980842\tEval's binary_logloss: 0.0872604\tEval's binary_error: 0.0286667\n",
      "[324]\tTrain's auc: 0.992291\tTrain's binary_logloss: 0.0815799\tTrain's binary_error: 0.0259111\tEval's auc: 0.980842\tEval's binary_logloss: 0.0872604\tEval's binary_error: 0.0286667\n",
      "[325]\tTrain's auc: 0.992291\tTrain's binary_logloss: 0.0815799\tTrain's binary_error: 0.0259111\tEval's auc: 0.980842\tEval's binary_logloss: 0.0872604\tEval's binary_error: 0.0286667\n",
      "[326]\tTrain's auc: 0.992291\tTrain's binary_logloss: 0.0815799\tTrain's binary_error: 0.0259111\tEval's auc: 0.980842\tEval's binary_logloss: 0.0872604\tEval's binary_error: 0.0286667\n",
      "[327]\tTrain's auc: 0.992291\tTrain's binary_logloss: 0.0815799\tTrain's binary_error: 0.0259111\tEval's auc: 0.980842\tEval's binary_logloss: 0.0872604\tEval's binary_error: 0.0286667\n",
      "[328]\tTrain's auc: 0.992291\tTrain's binary_logloss: 0.0815799\tTrain's binary_error: 0.0259111\tEval's auc: 0.980842\tEval's binary_logloss: 0.0872604\tEval's binary_error: 0.0286667\n",
      "[329]\tTrain's auc: 0.992291\tTrain's binary_logloss: 0.0815799\tTrain's binary_error: 0.0259111\tEval's auc: 0.980842\tEval's binary_logloss: 0.0872604\tEval's binary_error: 0.0286667\n",
      "[330]\tTrain's auc: 0.992291\tTrain's binary_logloss: 0.0815799\tTrain's binary_error: 0.0259111\tEval's auc: 0.980842\tEval's binary_logloss: 0.0872604\tEval's binary_error: 0.0286667\n",
      "[331]\tTrain's auc: 0.992291\tTrain's binary_logloss: 0.0815799\tTrain's binary_error: 0.0259111\tEval's auc: 0.980842\tEval's binary_logloss: 0.0872604\tEval's binary_error: 0.0286667\n",
      "[332]\tTrain's auc: 0.992291\tTrain's binary_logloss: 0.0815799\tTrain's binary_error: 0.0259111\tEval's auc: 0.980842\tEval's binary_logloss: 0.0872604\tEval's binary_error: 0.0286667\n",
      "[333]\tTrain's auc: 0.992291\tTrain's binary_logloss: 0.0815799\tTrain's binary_error: 0.0259111\tEval's auc: 0.980842\tEval's binary_logloss: 0.0872604\tEval's binary_error: 0.0286667\n",
      "[334]\tTrain's auc: 0.992291\tTrain's binary_logloss: 0.0815799\tTrain's binary_error: 0.0259111\tEval's auc: 0.980842\tEval's binary_logloss: 0.0872604\tEval's binary_error: 0.0286667\n",
      "[335]\tTrain's auc: 0.992291\tTrain's binary_logloss: 0.0815799\tTrain's binary_error: 0.0259111\tEval's auc: 0.980842\tEval's binary_logloss: 0.0872604\tEval's binary_error: 0.0286667\n",
      "[336]\tTrain's auc: 0.992291\tTrain's binary_logloss: 0.0815799\tTrain's binary_error: 0.0259111\tEval's auc: 0.980842\tEval's binary_logloss: 0.0872604\tEval's binary_error: 0.0286667\n",
      "[337]\tTrain's auc: 0.992291\tTrain's binary_logloss: 0.0815799\tTrain's binary_error: 0.0259111\tEval's auc: 0.980842\tEval's binary_logloss: 0.0872604\tEval's binary_error: 0.0286667\n",
      "[338]\tTrain's auc: 0.992291\tTrain's binary_logloss: 0.0815799\tTrain's binary_error: 0.0259111\tEval's auc: 0.980842\tEval's binary_logloss: 0.0872604\tEval's binary_error: 0.0286667\n",
      "[339]\tTrain's auc: 0.992291\tTrain's binary_logloss: 0.0815799\tTrain's binary_error: 0.0259111\tEval's auc: 0.980842\tEval's binary_logloss: 0.0872604\tEval's binary_error: 0.0286667\n",
      "[340]\tTrain's auc: 0.992291\tTrain's binary_logloss: 0.0815799\tTrain's binary_error: 0.0259111\tEval's auc: 0.980842\tEval's binary_logloss: 0.0872604\tEval's binary_error: 0.0286667\n",
      "[341]\tTrain's auc: 0.992291\tTrain's binary_logloss: 0.0815799\tTrain's binary_error: 0.0259111\tEval's auc: 0.980842\tEval's binary_logloss: 0.0872604\tEval's binary_error: 0.0286667\n",
      "[342]\tTrain's auc: 0.992291\tTrain's binary_logloss: 0.0815799\tTrain's binary_error: 0.0259111\tEval's auc: 0.980842\tEval's binary_logloss: 0.0872604\tEval's binary_error: 0.0286667\n",
      "[343]\tTrain's auc: 0.992291\tTrain's binary_logloss: 0.0815799\tTrain's binary_error: 0.0259111\tEval's auc: 0.980842\tEval's binary_logloss: 0.0872604\tEval's binary_error: 0.0286667\n",
      "[344]\tTrain's auc: 0.992291\tTrain's binary_logloss: 0.0815799\tTrain's binary_error: 0.0259111\tEval's auc: 0.980842\tEval's binary_logloss: 0.0872604\tEval's binary_error: 0.0286667\n",
      "[345]\tTrain's auc: 0.992291\tTrain's binary_logloss: 0.0815799\tTrain's binary_error: 0.0259111\tEval's auc: 0.980842\tEval's binary_logloss: 0.0872604\tEval's binary_error: 0.0286667\n",
      "[346]\tTrain's auc: 0.992291\tTrain's binary_logloss: 0.0815799\tTrain's binary_error: 0.0259111\tEval's auc: 0.980842\tEval's binary_logloss: 0.0872604\tEval's binary_error: 0.0286667\n",
      "[347]\tTrain's auc: 0.992291\tTrain's binary_logloss: 0.0815799\tTrain's binary_error: 0.0259111\tEval's auc: 0.980842\tEval's binary_logloss: 0.0872604\tEval's binary_error: 0.0286667\n",
      "[348]\tTrain's auc: 0.992291\tTrain's binary_logloss: 0.0815799\tTrain's binary_error: 0.0259111\tEval's auc: 0.980842\tEval's binary_logloss: 0.0872604\tEval's binary_error: 0.0286667\n",
      "[349]\tTrain's auc: 0.992291\tTrain's binary_logloss: 0.0815799\tTrain's binary_error: 0.0259111\tEval's auc: 0.980842\tEval's binary_logloss: 0.0872604\tEval's binary_error: 0.0286667\n",
      "[350]\tTrain's auc: 0.992291\tTrain's binary_logloss: 0.0815799\tTrain's binary_error: 0.0259111\tEval's auc: 0.980842\tEval's binary_logloss: 0.0872604\tEval's binary_error: 0.0286667\n",
      "[351]\tTrain's auc: 0.992291\tTrain's binary_logloss: 0.0815799\tTrain's binary_error: 0.0259111\tEval's auc: 0.980842\tEval's binary_logloss: 0.0872604\tEval's binary_error: 0.0286667\n",
      "[352]\tTrain's auc: 0.992291\tTrain's binary_logloss: 0.0815799\tTrain's binary_error: 0.0259111\tEval's auc: 0.980842\tEval's binary_logloss: 0.0872604\tEval's binary_error: 0.0286667\n",
      "[353]\tTrain's auc: 0.992291\tTrain's binary_logloss: 0.0815799\tTrain's binary_error: 0.0259111\tEval's auc: 0.980842\tEval's binary_logloss: 0.0872604\tEval's binary_error: 0.0286667\n",
      "[354]\tTrain's auc: 0.992291\tTrain's binary_logloss: 0.0815799\tTrain's binary_error: 0.0259111\tEval's auc: 0.980842\tEval's binary_logloss: 0.0872604\tEval's binary_error: 0.0286667\n",
      "[355]\tTrain's auc: 0.992291\tTrain's binary_logloss: 0.0815799\tTrain's binary_error: 0.0259111\tEval's auc: 0.980842\tEval's binary_logloss: 0.0872604\tEval's binary_error: 0.0286667\n",
      "[356]\tTrain's auc: 0.992291\tTrain's binary_logloss: 0.0815799\tTrain's binary_error: 0.0259111\tEval's auc: 0.980842\tEval's binary_logloss: 0.0872604\tEval's binary_error: 0.0286667\n",
      "[357]\tTrain's auc: 0.992291\tTrain's binary_logloss: 0.0815799\tTrain's binary_error: 0.0259111\tEval's auc: 0.980842\tEval's binary_logloss: 0.0872604\tEval's binary_error: 0.0286667\n",
      "[358]\tTrain's auc: 0.992291\tTrain's binary_logloss: 0.0815799\tTrain's binary_error: 0.0259111\tEval's auc: 0.980842\tEval's binary_logloss: 0.0872604\tEval's binary_error: 0.0286667\n",
      "[359]\tTrain's auc: 0.992291\tTrain's binary_logloss: 0.0815799\tTrain's binary_error: 0.0259111\tEval's auc: 0.980842\tEval's binary_logloss: 0.0872604\tEval's binary_error: 0.0286667\n",
      "[360]\tTrain's auc: 0.992291\tTrain's binary_logloss: 0.0815799\tTrain's binary_error: 0.0259111\tEval's auc: 0.980842\tEval's binary_logloss: 0.0872604\tEval's binary_error: 0.0286667\n",
      "[361]\tTrain's auc: 0.992291\tTrain's binary_logloss: 0.0815799\tTrain's binary_error: 0.0259111\tEval's auc: 0.980842\tEval's binary_logloss: 0.0872604\tEval's binary_error: 0.0286667\n",
      "[362]\tTrain's auc: 0.992291\tTrain's binary_logloss: 0.0815799\tTrain's binary_error: 0.0259111\tEval's auc: 0.980842\tEval's binary_logloss: 0.0872604\tEval's binary_error: 0.0286667\n",
      "[363]\tTrain's auc: 0.992291\tTrain's binary_logloss: 0.0815799\tTrain's binary_error: 0.0259111\tEval's auc: 0.980842\tEval's binary_logloss: 0.0872604\tEval's binary_error: 0.0286667\n",
      "[364]\tTrain's auc: 0.992291\tTrain's binary_logloss: 0.0815799\tTrain's binary_error: 0.0259111\tEval's auc: 0.980842\tEval's binary_logloss: 0.0872604\tEval's binary_error: 0.0286667\n"
     ]
    },
    {
     "name": "stdout",
     "output_type": "stream",
     "text": [
      "[365]\tTrain's auc: 0.992291\tTrain's binary_logloss: 0.0815799\tTrain's binary_error: 0.0259111\tEval's auc: 0.980842\tEval's binary_logloss: 0.0872604\tEval's binary_error: 0.0286667\n",
      "[366]\tTrain's auc: 0.992291\tTrain's binary_logloss: 0.0815799\tTrain's binary_error: 0.0259111\tEval's auc: 0.980842\tEval's binary_logloss: 0.0872604\tEval's binary_error: 0.0286667\n",
      "[367]\tTrain's auc: 0.992291\tTrain's binary_logloss: 0.0815799\tTrain's binary_error: 0.0259111\tEval's auc: 0.980842\tEval's binary_logloss: 0.0872604\tEval's binary_error: 0.0286667\n",
      "[368]\tTrain's auc: 0.992291\tTrain's binary_logloss: 0.0815799\tTrain's binary_error: 0.0259111\tEval's auc: 0.980842\tEval's binary_logloss: 0.0872604\tEval's binary_error: 0.0286667\n",
      "[369]\tTrain's auc: 0.992291\tTrain's binary_logloss: 0.0815799\tTrain's binary_error: 0.0259111\tEval's auc: 0.980842\tEval's binary_logloss: 0.0872604\tEval's binary_error: 0.0286667\n",
      "[370]\tTrain's auc: 0.992291\tTrain's binary_logloss: 0.0815799\tTrain's binary_error: 0.0259111\tEval's auc: 0.980842\tEval's binary_logloss: 0.0872604\tEval's binary_error: 0.0286667\n",
      "[371]\tTrain's auc: 0.992291\tTrain's binary_logloss: 0.0815799\tTrain's binary_error: 0.0259111\tEval's auc: 0.980842\tEval's binary_logloss: 0.0872604\tEval's binary_error: 0.0286667\n",
      "[372]\tTrain's auc: 0.992291\tTrain's binary_logloss: 0.0815799\tTrain's binary_error: 0.0259111\tEval's auc: 0.980842\tEval's binary_logloss: 0.0872604\tEval's binary_error: 0.0286667\n",
      "[373]\tTrain's auc: 0.992291\tTrain's binary_logloss: 0.0815799\tTrain's binary_error: 0.0259111\tEval's auc: 0.980842\tEval's binary_logloss: 0.0872604\tEval's binary_error: 0.0286667\n",
      "[374]\tTrain's auc: 0.992291\tTrain's binary_logloss: 0.0815799\tTrain's binary_error: 0.0259111\tEval's auc: 0.980842\tEval's binary_logloss: 0.0872604\tEval's binary_error: 0.0286667\n",
      "[375]\tTrain's auc: 0.992291\tTrain's binary_logloss: 0.0815799\tTrain's binary_error: 0.0259111\tEval's auc: 0.980842\tEval's binary_logloss: 0.0872604\tEval's binary_error: 0.0286667\n",
      "[376]\tTrain's auc: 0.992291\tTrain's binary_logloss: 0.0815799\tTrain's binary_error: 0.0259111\tEval's auc: 0.980842\tEval's binary_logloss: 0.0872604\tEval's binary_error: 0.0286667\n",
      "[377]\tTrain's auc: 0.992291\tTrain's binary_logloss: 0.0815799\tTrain's binary_error: 0.0259111\tEval's auc: 0.980842\tEval's binary_logloss: 0.0872604\tEval's binary_error: 0.0286667\n",
      "[378]\tTrain's auc: 0.992291\tTrain's binary_logloss: 0.0815799\tTrain's binary_error: 0.0259111\tEval's auc: 0.980842\tEval's binary_logloss: 0.0872604\tEval's binary_error: 0.0286667\n",
      "[379]\tTrain's auc: 0.992291\tTrain's binary_logloss: 0.0815799\tTrain's binary_error: 0.0259111\tEval's auc: 0.980842\tEval's binary_logloss: 0.0872604\tEval's binary_error: 0.0286667\n",
      "[380]\tTrain's auc: 0.992291\tTrain's binary_logloss: 0.0815799\tTrain's binary_error: 0.0259111\tEval's auc: 0.980842\tEval's binary_logloss: 0.0872604\tEval's binary_error: 0.0286667\n",
      "[381]\tTrain's auc: 0.992291\tTrain's binary_logloss: 0.0815799\tTrain's binary_error: 0.0259111\tEval's auc: 0.980842\tEval's binary_logloss: 0.0872604\tEval's binary_error: 0.0286667\n",
      "[382]\tTrain's auc: 0.992291\tTrain's binary_logloss: 0.0815799\tTrain's binary_error: 0.0259111\tEval's auc: 0.980842\tEval's binary_logloss: 0.0872604\tEval's binary_error: 0.0286667\n",
      "[383]\tTrain's auc: 0.992291\tTrain's binary_logloss: 0.0815799\tTrain's binary_error: 0.0259111\tEval's auc: 0.980842\tEval's binary_logloss: 0.0872604\tEval's binary_error: 0.0286667\n",
      "[384]\tTrain's auc: 0.992291\tTrain's binary_logloss: 0.0815799\tTrain's binary_error: 0.0259111\tEval's auc: 0.980842\tEval's binary_logloss: 0.0872604\tEval's binary_error: 0.0286667\n",
      "[385]\tTrain's auc: 0.992291\tTrain's binary_logloss: 0.0815799\tTrain's binary_error: 0.0259111\tEval's auc: 0.980842\tEval's binary_logloss: 0.0872604\tEval's binary_error: 0.0286667\n",
      "[386]\tTrain's auc: 0.992291\tTrain's binary_logloss: 0.0815799\tTrain's binary_error: 0.0259111\tEval's auc: 0.980842\tEval's binary_logloss: 0.0872604\tEval's binary_error: 0.0286667\n",
      "[387]\tTrain's auc: 0.992291\tTrain's binary_logloss: 0.0815799\tTrain's binary_error: 0.0259111\tEval's auc: 0.980842\tEval's binary_logloss: 0.0872604\tEval's binary_error: 0.0286667\n",
      "[388]\tTrain's auc: 0.992291\tTrain's binary_logloss: 0.0815799\tTrain's binary_error: 0.0259111\tEval's auc: 0.980842\tEval's binary_logloss: 0.0872604\tEval's binary_error: 0.0286667\n",
      "[389]\tTrain's auc: 0.992291\tTrain's binary_logloss: 0.0815799\tTrain's binary_error: 0.0259111\tEval's auc: 0.980842\tEval's binary_logloss: 0.0872604\tEval's binary_error: 0.0286667\n",
      "[390]\tTrain's auc: 0.992291\tTrain's binary_logloss: 0.0815799\tTrain's binary_error: 0.0259111\tEval's auc: 0.980842\tEval's binary_logloss: 0.0872604\tEval's binary_error: 0.0286667\n",
      "[391]\tTrain's auc: 0.992291\tTrain's binary_logloss: 0.0815799\tTrain's binary_error: 0.0259111\tEval's auc: 0.980842\tEval's binary_logloss: 0.0872604\tEval's binary_error: 0.0286667\n",
      "[392]\tTrain's auc: 0.992291\tTrain's binary_logloss: 0.0815799\tTrain's binary_error: 0.0259111\tEval's auc: 0.980842\tEval's binary_logloss: 0.0872604\tEval's binary_error: 0.0286667\n",
      "[393]\tTrain's auc: 0.992291\tTrain's binary_logloss: 0.0815799\tTrain's binary_error: 0.0259111\tEval's auc: 0.980842\tEval's binary_logloss: 0.0872604\tEval's binary_error: 0.0286667\n",
      "[394]\tTrain's auc: 0.992291\tTrain's binary_logloss: 0.0815799\tTrain's binary_error: 0.0259111\tEval's auc: 0.980842\tEval's binary_logloss: 0.0872604\tEval's binary_error: 0.0286667\n",
      "[395]\tTrain's auc: 0.992291\tTrain's binary_logloss: 0.0815799\tTrain's binary_error: 0.0259111\tEval's auc: 0.980842\tEval's binary_logloss: 0.0872604\tEval's binary_error: 0.0286667\n",
      "[396]\tTrain's auc: 0.992291\tTrain's binary_logloss: 0.0815799\tTrain's binary_error: 0.0259111\tEval's auc: 0.980842\tEval's binary_logloss: 0.0872604\tEval's binary_error: 0.0286667\n",
      "[397]\tTrain's auc: 0.992291\tTrain's binary_logloss: 0.0815799\tTrain's binary_error: 0.0259111\tEval's auc: 0.980842\tEval's binary_logloss: 0.0872604\tEval's binary_error: 0.0286667\n",
      "[398]\tTrain's auc: 0.992291\tTrain's binary_logloss: 0.0815799\tTrain's binary_error: 0.0259111\tEval's auc: 0.980842\tEval's binary_logloss: 0.0872604\tEval's binary_error: 0.0286667\n",
      "[399]\tTrain's auc: 0.992291\tTrain's binary_logloss: 0.0815799\tTrain's binary_error: 0.0259111\tEval's auc: 0.980842\tEval's binary_logloss: 0.0872604\tEval's binary_error: 0.0286667\n",
      "[400]\tTrain's auc: 0.992291\tTrain's binary_logloss: 0.0815799\tTrain's binary_error: 0.0259111\tEval's auc: 0.980842\tEval's binary_logloss: 0.0872604\tEval's binary_error: 0.0286667\n",
      "[401]\tTrain's auc: 0.992291\tTrain's binary_logloss: 0.0815799\tTrain's binary_error: 0.0259111\tEval's auc: 0.980842\tEval's binary_logloss: 0.0872604\tEval's binary_error: 0.0286667\n",
      "[402]\tTrain's auc: 0.992291\tTrain's binary_logloss: 0.0815799\tTrain's binary_error: 0.0259111\tEval's auc: 0.980842\tEval's binary_logloss: 0.0872604\tEval's binary_error: 0.0286667\n",
      "[403]\tTrain's auc: 0.992291\tTrain's binary_logloss: 0.0815799\tTrain's binary_error: 0.0259111\tEval's auc: 0.980842\tEval's binary_logloss: 0.0872604\tEval's binary_error: 0.0286667\n",
      "[404]\tTrain's auc: 0.992291\tTrain's binary_logloss: 0.0815799\tTrain's binary_error: 0.0259111\tEval's auc: 0.980842\tEval's binary_logloss: 0.0872604\tEval's binary_error: 0.0286667\n",
      "[405]\tTrain's auc: 0.992291\tTrain's binary_logloss: 0.0815799\tTrain's binary_error: 0.0259111\tEval's auc: 0.980842\tEval's binary_logloss: 0.0872604\tEval's binary_error: 0.0286667\n",
      "[406]\tTrain's auc: 0.992291\tTrain's binary_logloss: 0.0815799\tTrain's binary_error: 0.0259111\tEval's auc: 0.980842\tEval's binary_logloss: 0.0872604\tEval's binary_error: 0.0286667\n",
      "[407]\tTrain's auc: 0.992291\tTrain's binary_logloss: 0.0815799\tTrain's binary_error: 0.0259111\tEval's auc: 0.980842\tEval's binary_logloss: 0.0872604\tEval's binary_error: 0.0286667\n",
      "[408]\tTrain's auc: 0.992291\tTrain's binary_logloss: 0.0815799\tTrain's binary_error: 0.0259111\tEval's auc: 0.980842\tEval's binary_logloss: 0.0872604\tEval's binary_error: 0.0286667\n",
      "[409]\tTrain's auc: 0.992291\tTrain's binary_logloss: 0.0815799\tTrain's binary_error: 0.0259111\tEval's auc: 0.980842\tEval's binary_logloss: 0.0872604\tEval's binary_error: 0.0286667\n",
      "[410]\tTrain's auc: 0.992291\tTrain's binary_logloss: 0.0815799\tTrain's binary_error: 0.0259111\tEval's auc: 0.980842\tEval's binary_logloss: 0.0872604\tEval's binary_error: 0.0286667\n",
      "[411]\tTrain's auc: 0.992291\tTrain's binary_logloss: 0.0815799\tTrain's binary_error: 0.0259111\tEval's auc: 0.980842\tEval's binary_logloss: 0.0872604\tEval's binary_error: 0.0286667\n",
      "[412]\tTrain's auc: 0.992291\tTrain's binary_logloss: 0.0815799\tTrain's binary_error: 0.0259111\tEval's auc: 0.980842\tEval's binary_logloss: 0.0872604\tEval's binary_error: 0.0286667\n",
      "[413]\tTrain's auc: 0.992291\tTrain's binary_logloss: 0.0815799\tTrain's binary_error: 0.0259111\tEval's auc: 0.980842\tEval's binary_logloss: 0.0872604\tEval's binary_error: 0.0286667\n",
      "[414]\tTrain's auc: 0.992291\tTrain's binary_logloss: 0.0815799\tTrain's binary_error: 0.0259111\tEval's auc: 0.980842\tEval's binary_logloss: 0.0872604\tEval's binary_error: 0.0286667\n",
      "[415]\tTrain's auc: 0.992291\tTrain's binary_logloss: 0.0815799\tTrain's binary_error: 0.0259111\tEval's auc: 0.980842\tEval's binary_logloss: 0.0872604\tEval's binary_error: 0.0286667\n",
      "[416]\tTrain's auc: 0.992291\tTrain's binary_logloss: 0.0815799\tTrain's binary_error: 0.0259111\tEval's auc: 0.980842\tEval's binary_logloss: 0.0872604\tEval's binary_error: 0.0286667\n",
      "[417]\tTrain's auc: 0.992291\tTrain's binary_logloss: 0.0815799\tTrain's binary_error: 0.0259111\tEval's auc: 0.980842\tEval's binary_logloss: 0.0872604\tEval's binary_error: 0.0286667\n"
     ]
    },
    {
     "name": "stdout",
     "output_type": "stream",
     "text": [
      "[418]\tTrain's auc: 0.992291\tTrain's binary_logloss: 0.0815799\tTrain's binary_error: 0.0259111\tEval's auc: 0.980842\tEval's binary_logloss: 0.0872604\tEval's binary_error: 0.0286667\n",
      "[419]\tTrain's auc: 0.992291\tTrain's binary_logloss: 0.0815799\tTrain's binary_error: 0.0259111\tEval's auc: 0.980842\tEval's binary_logloss: 0.0872604\tEval's binary_error: 0.0286667\n",
      "[420]\tTrain's auc: 0.992291\tTrain's binary_logloss: 0.0815799\tTrain's binary_error: 0.0259111\tEval's auc: 0.980842\tEval's binary_logloss: 0.0872604\tEval's binary_error: 0.0286667\n",
      "[421]\tTrain's auc: 0.992291\tTrain's binary_logloss: 0.0815799\tTrain's binary_error: 0.0259111\tEval's auc: 0.980842\tEval's binary_logloss: 0.0872604\tEval's binary_error: 0.0286667\n",
      "[422]\tTrain's auc: 0.992291\tTrain's binary_logloss: 0.0815799\tTrain's binary_error: 0.0259111\tEval's auc: 0.980842\tEval's binary_logloss: 0.0872604\tEval's binary_error: 0.0286667\n",
      "[423]\tTrain's auc: 0.992291\tTrain's binary_logloss: 0.0815799\tTrain's binary_error: 0.0259111\tEval's auc: 0.980842\tEval's binary_logloss: 0.0872604\tEval's binary_error: 0.0286667\n",
      "[424]\tTrain's auc: 0.992291\tTrain's binary_logloss: 0.0815799\tTrain's binary_error: 0.0259111\tEval's auc: 0.980842\tEval's binary_logloss: 0.0872604\tEval's binary_error: 0.0286667\n",
      "[425]\tTrain's auc: 0.992291\tTrain's binary_logloss: 0.0815799\tTrain's binary_error: 0.0259111\tEval's auc: 0.980842\tEval's binary_logloss: 0.0872604\tEval's binary_error: 0.0286667\n",
      "[426]\tTrain's auc: 0.992291\tTrain's binary_logloss: 0.0815799\tTrain's binary_error: 0.0259111\tEval's auc: 0.980842\tEval's binary_logloss: 0.0872604\tEval's binary_error: 0.0286667\n",
      "[427]\tTrain's auc: 0.992291\tTrain's binary_logloss: 0.0815799\tTrain's binary_error: 0.0259111\tEval's auc: 0.980842\tEval's binary_logloss: 0.0872604\tEval's binary_error: 0.0286667\n",
      "[428]\tTrain's auc: 0.992291\tTrain's binary_logloss: 0.0815799\tTrain's binary_error: 0.0259111\tEval's auc: 0.980842\tEval's binary_logloss: 0.0872604\tEval's binary_error: 0.0286667\n",
      "[429]\tTrain's auc: 0.992291\tTrain's binary_logloss: 0.0815799\tTrain's binary_error: 0.0259111\tEval's auc: 0.980842\tEval's binary_logloss: 0.0872604\tEval's binary_error: 0.0286667\n",
      "[430]\tTrain's auc: 0.992291\tTrain's binary_logloss: 0.0815799\tTrain's binary_error: 0.0259111\tEval's auc: 0.980842\tEval's binary_logloss: 0.0872604\tEval's binary_error: 0.0286667\n",
      "Early stopping, best iteration is:\n",
      "[30]\tTrain's auc: 0.9922\tTrain's binary_logloss: 0.083208\tTrain's binary_error: 0.0264222\tEval's auc: 0.980923\tEval's binary_logloss: 0.0887598\tEval's binary_error: 0.0289333\n",
      "Evaluated only: auc\n"
     ]
    }
   ],
   "source": [
    "lgb_254 = lgb_optimizer.get_best_model()"
   ]
  },
  {
   "cell_type": "code",
   "execution_count": 17,
   "metadata": {},
   "outputs": [],
   "source": [
    "pickle.dump(lgb_254, open('./Models/lgb_254.pkl', 'wb'))"
   ]
  },
  {
   "cell_type": "markdown",
   "metadata": {},
   "source": [
    "### data preprocessing for LightGBM without null indicator"
   ]
  },
  {
   "cell_type": "code",
   "execution_count": 18,
   "metadata": {},
   "outputs": [],
   "source": [
    "## load dataset\n",
    "data = pd.read_csv('./aps_failure_training_set.csv')\n",
    "target = data['class'].map({'pos': 1, 'neg': 0})\n",
    "data = data.drop('class', axis=1)\n",
    "## extract histogram features\n",
    "original_attrs = [attr for attr, count in Counter([col[:2] for col in data.columns]).items() if count > 1]\n",
    "for attr in original_attrs:\n",
    "    data[f'{attr}_max'] = data.filter(regex=f\"^{attr}_[0-9]*$\").apply(lambda row: np.nanargmax(row) if not np.isnan(row).any() else np.NaN, \n",
    "                                                                      axis=1, raw=True, result_type='reduce')\n",
    "    data[f'{attr}_min'] = data.filter(regex=f\"^{attr}_[0-9]*$\").apply(lambda row: np.nanargmin(row) if not np.isnan(row).any() else np.NaN, \n",
    "                                                                      axis=1, raw=True, result_type='reduce')"
   ]
  },
  {
   "cell_type": "markdown",
   "metadata": {},
   "source": [
    "### train and test lightgbm model without null indicator"
   ]
  },
  {
   "cell_type": "code",
   "execution_count": 23,
   "metadata": {},
   "outputs": [],
   "source": [
    "lgb_optimizer = LightgbmOptimizerBinary(data, target, base_params, cat_params, int_params, float_params, \n",
    "                                        num_opts=1000, trials_path='./Trials/trials_184.pkl', load_trials=False, \n",
    "                                        lgb_num_boost_round=3000, lgb_early_stopping_rounds=400, \n",
    "                                        test_size=0.25, shuffle=True, random_state=0, cv=5, strategy='stratified', group=None)"
   ]
  },
  {
   "cell_type": "code",
   "execution_count": 24,
   "metadata": {},
   "outputs": [
    {
     "name": "stdout",
     "output_type": "stream",
     "text": [
      "100%|██████████| 1000/1000 [1:41:42<00:00,  6.79s/it, best loss: -0.9796184745762713]\n"
     ]
    }
   ],
   "source": [
    "lgb_optimizer.optimize()"
   ]
  },
  {
   "cell_type": "code",
   "execution_count": 25,
   "metadata": {},
   "outputs": [
    {
     "name": "stdout",
     "output_type": "stream",
     "text": [
      "[1]\tTrain's auc: 0.992594\tTrain's binary_logloss: 0.968194\tTrain's binary_error: 0.0364444\tEval's auc: 0.976624\tEval's binary_logloss: 1.03109\tEval's binary_error: 0.0398667\n",
      "Training until validation scores don't improve for 400 rounds\n",
      "[2]\tTrain's auc: 0.144987\tTrain's binary_logloss: 0.606741\tTrain's binary_error: 0.0218444\tEval's auc: 0.0865324\tEval's binary_logloss: 0.671201\tEval's binary_error: 0.0244\n",
      "[3]\tTrain's auc: 0.974918\tTrain's binary_logloss: 1.18583\tTrain's binary_error: 0.0367111\tEval's auc: 0.924466\tEval's binary_logloss: 1.31781\tEval's binary_error: 0.0420667\n",
      "[4]\tTrain's auc: 0.923877\tTrain's binary_logloss: 1.07764\tTrain's binary_error: 0.0326667\tEval's auc: 0.837268\tEval's binary_logloss: 1.23415\tEval's binary_error: 0.0386\n",
      "[5]\tTrain's auc: 0.972819\tTrain's binary_logloss: 1.22803\tTrain's binary_error: 0.0365333\tEval's auc: 0.886201\tEval's binary_logloss: 1.38236\tEval's binary_error: 0.0424667\n",
      "[6]\tTrain's auc: 0.961066\tTrain's binary_logloss: 1.26967\tTrain's binary_error: 0.0378\tEval's auc: 0.878871\tEval's binary_logloss: 1.46075\tEval's binary_error: 0.0447333\n",
      "[7]\tTrain's auc: 0.935193\tTrain's binary_logloss: 1.12079\tTrain's binary_error: 0.0329111\tEval's auc: 0.842793\tEval's binary_logloss: 1.34928\tEval's binary_error: 0.0411333\n",
      "[8]\tTrain's auc: 0.973692\tTrain's binary_logloss: 1.39163\tTrain's binary_error: 0.0406667\tEval's auc: 0.895442\tEval's binary_logloss: 1.65764\tEval's binary_error: 0.0497333\n",
      "[9]\tTrain's auc: 0.94627\tTrain's binary_logloss: 1.29119\tTrain's binary_error: 0.0376889\tEval's auc: 0.853312\tEval's binary_logloss: 1.54089\tEval's binary_error: 0.0461333\n",
      "[10]\tTrain's auc: 0.962542\tTrain's binary_logloss: 1.27488\tTrain's binary_error: 0.0372222\tEval's auc: 0.882455\tEval's binary_logloss: 1.50509\tEval's binary_error: 0.0450667\n",
      "[11]\tTrain's auc: 0.950997\tTrain's binary_logloss: 1.20838\tTrain's binary_error: 0.0353778\tEval's auc: 0.87113\tEval's binary_logloss: 1.38217\tEval's binary_error: 0.0413333\n",
      "[12]\tTrain's auc: 0.96377\tTrain's binary_logloss: 1.16292\tTrain's binary_error: 0.0339111\tEval's auc: 0.881315\tEval's binary_logloss: 1.35344\tEval's binary_error: 0.0402667\n",
      "[13]\tTrain's auc: 0.939829\tTrain's binary_logloss: 1.13857\tTrain's binary_error: 0.0331778\tEval's auc: 0.834866\tEval's binary_logloss: 1.34854\tEval's binary_error: 0.0399333\n",
      "[14]\tTrain's auc: 0.970265\tTrain's binary_logloss: 1.50802\tTrain's binary_error: 0.0438889\tEval's auc: 0.879163\tEval's binary_logloss: 1.69017\tEval's binary_error: 0.0496667\n",
      "[15]\tTrain's auc: 0.950682\tTrain's binary_logloss: 1.30717\tTrain's binary_error: 0.0381778\tEval's auc: 0.855464\tEval's binary_logloss: 1.46959\tEval's binary_error: 0.0432667\n",
      "[16]\tTrain's auc: 0.965657\tTrain's binary_logloss: 1.40275\tTrain's binary_error: 0.0407556\tEval's auc: 0.871468\tEval's binary_logloss: 1.61086\tEval's binary_error: 0.0469333\n",
      "[17]\tTrain's auc: 0.965707\tTrain's binary_logloss: 1.42751\tTrain's binary_error: 0.0414444\tEval's auc: 0.874118\tEval's binary_logloss: 1.63275\tEval's binary_error: 0.0475333\n",
      "[18]\tTrain's auc: 0.97529\tTrain's binary_logloss: 1.41176\tTrain's binary_error: 0.0410222\tEval's auc: 0.880315\tEval's binary_logloss: 1.64334\tEval's binary_error: 0.0476667\n",
      "[19]\tTrain's auc: 0.973605\tTrain's binary_logloss: 1.333\tTrain's binary_error: 0.0387778\tEval's auc: 0.878858\tEval's binary_logloss: 1.56047\tEval's binary_error: 0.0452667\n",
      "[20]\tTrain's auc: 0.981307\tTrain's binary_logloss: 1.44343\tTrain's binary_error: 0.0420222\tEval's auc: 0.894145\tEval's binary_logloss: 1.71821\tEval's binary_error: 0.0499333\n",
      "[21]\tTrain's auc: 0.975351\tTrain's binary_logloss: 1.26843\tTrain's binary_error: 0.0368889\tEval's auc: 0.889116\tEval's binary_logloss: 1.50066\tEval's binary_error: 0.0436667\n",
      "[22]\tTrain's auc: 0.980182\tTrain's binary_logloss: 1.33761\tTrain's binary_error: 0.0388667\tEval's auc: 0.891378\tEval's binary_logloss: 1.53286\tEval's binary_error: 0.0444667\n",
      "[23]\tTrain's auc: 0.978173\tTrain's binary_logloss: 1.11781\tTrain's binary_error: 0.0326222\tEval's auc: 0.886618\tEval's binary_logloss: 1.31207\tEval's binary_error: 0.038\n",
      "[24]\tTrain's auc: 0.984146\tTrain's binary_logloss: 1.12711\tTrain's binary_error: 0.0327778\tEval's auc: 0.898221\tEval's binary_logloss: 1.33349\tEval's binary_error: 0.0386667\n",
      "[25]\tTrain's auc: 0.968863\tTrain's binary_logloss: 1.36058\tTrain's binary_error: 0.0395556\tEval's auc: 0.881645\tEval's binary_logloss: 1.54943\tEval's binary_error: 0.0448667\n",
      "[26]\tTrain's auc: 0.985607\tTrain's binary_logloss: 1.53545\tTrain's binary_error: 0.0445556\tEval's auc: 0.924956\tEval's binary_logloss: 1.72758\tEval's binary_error: 0.0501333\n",
      "[27]\tTrain's auc: 0.978268\tTrain's binary_logloss: 1.40728\tTrain's binary_error: 0.0408889\tEval's auc: 0.912847\tEval's binary_logloss: 1.58226\tEval's binary_error: 0.0460667\n",
      "[28]\tTrain's auc: 0.969168\tTrain's binary_logloss: 1.41015\tTrain's binary_error: 0.0409556\tEval's auc: 0.900643\tEval's binary_logloss: 1.56793\tEval's binary_error: 0.0455333\n",
      "[29]\tTrain's auc: 0.980511\tTrain's binary_logloss: 2.39678\tTrain's binary_error: 0.0694667\tEval's auc: 0.932599\tEval's binary_logloss: 2.53546\tEval's binary_error: 0.0734667\n",
      "[30]\tTrain's auc: 0.970486\tTrain's binary_logloss: 1.82977\tTrain's binary_error: 0.0531556\tEval's auc: 0.910829\tEval's binary_logloss: 1.96609\tEval's binary_error: 0.057\n",
      "[31]\tTrain's auc: 0.982166\tTrain's binary_logloss: 1.95487\tTrain's binary_error: 0.0566444\tEval's auc: 0.923271\tEval's binary_logloss: 2.10581\tEval's binary_error: 0.0611333\n",
      "[32]\tTrain's auc: 0.963158\tTrain's binary_logloss: 1.27262\tTrain's binary_error: 0.0370222\tEval's auc: 0.892853\tEval's binary_logloss: 1.44434\tEval's binary_error: 0.042\n",
      "[33]\tTrain's auc: 0.976827\tTrain's binary_logloss: 3.71216\tTrain's binary_error: 0.107556\tEval's auc: 0.93997\tEval's binary_logloss: 3.79795\tEval's binary_error: 0.11\n",
      "[34]\tTrain's auc: 0.954368\tTrain's binary_logloss: 2.62009\tTrain's binary_error: 0.0759333\tEval's auc: 0.922384\tEval's binary_logloss: 2.60098\tEval's binary_error: 0.0754\n",
      "[35]\tTrain's auc: 0.958169\tTrain's binary_logloss: 3.36722\tTrain's binary_error: 0.0977333\tEval's auc: 0.936337\tEval's binary_logloss: 3.33705\tEval's binary_error: 0.0968667\n",
      "[36]\tTrain's auc: 0.971908\tTrain's binary_logloss: 4.4278\tTrain's binary_error: 0.128333\tEval's auc: 0.940907\tEval's binary_logloss: 4.48643\tEval's binary_error: 0.130067\n",
      "[37]\tTrain's auc: 0.928556\tTrain's binary_logloss: 3.27953\tTrain's binary_error: 0.0950667\tEval's auc: 0.899168\tEval's binary_logloss: 3.32026\tEval's binary_error: 0.0962\n",
      "[38]\tTrain's auc: 0.964418\tTrain's binary_logloss: 2.83088\tTrain's binary_error: 0.0820889\tEval's auc: 0.953528\tEval's binary_logloss: 2.84361\tEval's binary_error: 0.0824\n",
      "[39]\tTrain's auc: 0.96828\tTrain's binary_logloss: 3.1273\tTrain's binary_error: 0.0906889\tEval's auc: 0.953627\tEval's binary_logloss: 3.05616\tEval's binary_error: 0.0886\n",
      "[40]\tTrain's auc: 0.97429\tTrain's binary_logloss: 2.053\tTrain's binary_error: 0.0594667\tEval's auc: 0.959881\tEval's binary_logloss: 2.06559\tEval's binary_error: 0.0598667\n",
      "[41]\tTrain's auc: 0.974226\tTrain's binary_logloss: 2.36277\tTrain's binary_error: 0.0685111\tEval's auc: 0.959375\tEval's binary_logloss: 2.37166\tEval's binary_error: 0.0686667\n",
      "[42]\tTrain's auc: 0.977145\tTrain's binary_logloss: 2.86096\tTrain's binary_error: 0.0829111\tEval's auc: 0.963131\tEval's binary_logloss: 2.91968\tEval's binary_error: 0.0845333\n",
      "[43]\tTrain's auc: 0.97976\tTrain's binary_logloss: 2.05576\tTrain's binary_error: 0.0595556\tEval's auc: 0.964187\tEval's binary_logloss: 2.08844\tEval's binary_error: 0.0605333\n",
      "[44]\tTrain's auc: 0.97976\tTrain's binary_logloss: 2.05576\tTrain's binary_error: 0.0595556\tEval's auc: 0.964187\tEval's binary_logloss: 2.08844\tEval's binary_error: 0.0605333\n",
      "[45]\tTrain's auc: 0.97976\tTrain's binary_logloss: 2.05576\tTrain's binary_error: 0.0595556\tEval's auc: 0.964187\tEval's binary_logloss: 2.08844\tEval's binary_error: 0.0605333\n",
      "[46]\tTrain's auc: 0.97976\tTrain's binary_logloss: 2.05576\tTrain's binary_error: 0.0595556\tEval's auc: 0.964187\tEval's binary_logloss: 2.08844\tEval's binary_error: 0.0605333\n",
      "[47]\tTrain's auc: 0.97976\tTrain's binary_logloss: 2.05576\tTrain's binary_error: 0.0595556\tEval's auc: 0.964187\tEval's binary_logloss: 2.08844\tEval's binary_error: 0.0605333\n",
      "[48]\tTrain's auc: 0.97976\tTrain's binary_logloss: 2.05576\tTrain's binary_error: 0.0595556\tEval's auc: 0.964187\tEval's binary_logloss: 2.08844\tEval's binary_error: 0.0605333\n",
      "[49]\tTrain's auc: 0.97976\tTrain's binary_logloss: 2.05576\tTrain's binary_error: 0.0595556\tEval's auc: 0.964187\tEval's binary_logloss: 2.08844\tEval's binary_error: 0.0605333\n",
      "[50]\tTrain's auc: 0.97976\tTrain's binary_logloss: 2.05576\tTrain's binary_error: 0.0595556\tEval's auc: 0.964187\tEval's binary_logloss: 2.08844\tEval's binary_error: 0.0605333\n",
      "[51]\tTrain's auc: 0.97976\tTrain's binary_logloss: 2.05576\tTrain's binary_error: 0.0595556\tEval's auc: 0.964187\tEval's binary_logloss: 2.08844\tEval's binary_error: 0.0605333\n",
      "[52]\tTrain's auc: 0.97976\tTrain's binary_logloss: 2.05576\tTrain's binary_error: 0.0595556\tEval's auc: 0.964187\tEval's binary_logloss: 2.08844\tEval's binary_error: 0.0605333\n",
      "[53]\tTrain's auc: 0.97976\tTrain's binary_logloss: 2.05576\tTrain's binary_error: 0.0595556\tEval's auc: 0.964187\tEval's binary_logloss: 2.08844\tEval's binary_error: 0.0605333\n",
      "[54]\tTrain's auc: 0.97976\tTrain's binary_logloss: 2.05576\tTrain's binary_error: 0.0595556\tEval's auc: 0.964187\tEval's binary_logloss: 2.08844\tEval's binary_error: 0.0605333\n",
      "[55]\tTrain's auc: 0.97976\tTrain's binary_logloss: 2.05576\tTrain's binary_error: 0.0595556\tEval's auc: 0.964187\tEval's binary_logloss: 2.08844\tEval's binary_error: 0.0605333\n",
      "[56]\tTrain's auc: 0.97976\tTrain's binary_logloss: 2.05576\tTrain's binary_error: 0.0595556\tEval's auc: 0.964187\tEval's binary_logloss: 2.08844\tEval's binary_error: 0.0605333\n",
      "[57]\tTrain's auc: 0.97976\tTrain's binary_logloss: 2.05576\tTrain's binary_error: 0.0595556\tEval's auc: 0.964187\tEval's binary_logloss: 2.08844\tEval's binary_error: 0.0605333\n",
      "[58]\tTrain's auc: 0.97976\tTrain's binary_logloss: 2.05576\tTrain's binary_error: 0.0595556\tEval's auc: 0.964187\tEval's binary_logloss: 2.08844\tEval's binary_error: 0.0605333\n",
      "[59]\tTrain's auc: 0.97976\tTrain's binary_logloss: 2.05576\tTrain's binary_error: 0.0595556\tEval's auc: 0.964187\tEval's binary_logloss: 2.08844\tEval's binary_error: 0.0605333\n",
      "[60]\tTrain's auc: 0.97976\tTrain's binary_logloss: 2.05576\tTrain's binary_error: 0.0595556\tEval's auc: 0.964187\tEval's binary_logloss: 2.08844\tEval's binary_error: 0.0605333\n",
      "[61]\tTrain's auc: 0.97976\tTrain's binary_logloss: 2.05576\tTrain's binary_error: 0.0595556\tEval's auc: 0.964187\tEval's binary_logloss: 2.08844\tEval's binary_error: 0.0605333\n",
      "[62]\tTrain's auc: 0.97976\tTrain's binary_logloss: 2.05576\tTrain's binary_error: 0.0595556\tEval's auc: 0.964187\tEval's binary_logloss: 2.08844\tEval's binary_error: 0.0605333\n",
      "[63]\tTrain's auc: 0.97976\tTrain's binary_logloss: 2.05576\tTrain's binary_error: 0.0595556\tEval's auc: 0.964187\tEval's binary_logloss: 2.08844\tEval's binary_error: 0.0605333\n",
      "[64]\tTrain's auc: 0.97976\tTrain's binary_logloss: 2.05576\tTrain's binary_error: 0.0595556\tEval's auc: 0.964187\tEval's binary_logloss: 2.08844\tEval's binary_error: 0.0605333\n",
      "[65]\tTrain's auc: 0.97976\tTrain's binary_logloss: 2.05576\tTrain's binary_error: 0.0595556\tEval's auc: 0.964187\tEval's binary_logloss: 2.08844\tEval's binary_error: 0.0605333\n",
      "[66]\tTrain's auc: 0.97976\tTrain's binary_logloss: 2.05576\tTrain's binary_error: 0.0595556\tEval's auc: 0.964187\tEval's binary_logloss: 2.08844\tEval's binary_error: 0.0605333\n",
      "[67]\tTrain's auc: 0.97976\tTrain's binary_logloss: 2.05576\tTrain's binary_error: 0.0595556\tEval's auc: 0.964187\tEval's binary_logloss: 2.08844\tEval's binary_error: 0.0605333\n",
      "[68]\tTrain's auc: 0.97976\tTrain's binary_logloss: 2.05576\tTrain's binary_error: 0.0595556\tEval's auc: 0.964187\tEval's binary_logloss: 2.08844\tEval's binary_error: 0.0605333\n",
      "[69]\tTrain's auc: 0.97976\tTrain's binary_logloss: 2.05576\tTrain's binary_error: 0.0595556\tEval's auc: 0.964187\tEval's binary_logloss: 2.08844\tEval's binary_error: 0.0605333\n",
      "[70]\tTrain's auc: 0.97976\tTrain's binary_logloss: 2.05576\tTrain's binary_error: 0.0595556\tEval's auc: 0.964187\tEval's binary_logloss: 2.08844\tEval's binary_error: 0.0605333\n",
      "[71]\tTrain's auc: 0.97976\tTrain's binary_logloss: 2.05576\tTrain's binary_error: 0.0595556\tEval's auc: 0.964187\tEval's binary_logloss: 2.08844\tEval's binary_error: 0.0605333\n",
      "[72]\tTrain's auc: 0.97976\tTrain's binary_logloss: 2.05576\tTrain's binary_error: 0.0595556\tEval's auc: 0.964187\tEval's binary_logloss: 2.08844\tEval's binary_error: 0.0605333\n",
      "[73]\tTrain's auc: 0.97976\tTrain's binary_logloss: 2.05576\tTrain's binary_error: 0.0595556\tEval's auc: 0.964187\tEval's binary_logloss: 2.08844\tEval's binary_error: 0.0605333\n"
     ]
    },
    {
     "name": "stdout",
     "output_type": "stream",
     "text": [
      "[74]\tTrain's auc: 0.97976\tTrain's binary_logloss: 2.05576\tTrain's binary_error: 0.0595556\tEval's auc: 0.964187\tEval's binary_logloss: 2.08844\tEval's binary_error: 0.0605333\n",
      "[75]\tTrain's auc: 0.97976\tTrain's binary_logloss: 2.05576\tTrain's binary_error: 0.0595556\tEval's auc: 0.964187\tEval's binary_logloss: 2.08844\tEval's binary_error: 0.0605333\n",
      "[76]\tTrain's auc: 0.97976\tTrain's binary_logloss: 2.05576\tTrain's binary_error: 0.0595556\tEval's auc: 0.964187\tEval's binary_logloss: 2.08844\tEval's binary_error: 0.0605333\n",
      "[77]\tTrain's auc: 0.97976\tTrain's binary_logloss: 2.05576\tTrain's binary_error: 0.0595556\tEval's auc: 0.964187\tEval's binary_logloss: 2.08844\tEval's binary_error: 0.0605333\n",
      "[78]\tTrain's auc: 0.97976\tTrain's binary_logloss: 2.05576\tTrain's binary_error: 0.0595556\tEval's auc: 0.964187\tEval's binary_logloss: 2.08844\tEval's binary_error: 0.0605333\n",
      "[79]\tTrain's auc: 0.97976\tTrain's binary_logloss: 2.05576\tTrain's binary_error: 0.0595556\tEval's auc: 0.964187\tEval's binary_logloss: 2.08844\tEval's binary_error: 0.0605333\n",
      "[80]\tTrain's auc: 0.97976\tTrain's binary_logloss: 2.05576\tTrain's binary_error: 0.0595556\tEval's auc: 0.964187\tEval's binary_logloss: 2.08844\tEval's binary_error: 0.0605333\n",
      "[81]\tTrain's auc: 0.97976\tTrain's binary_logloss: 2.05576\tTrain's binary_error: 0.0595556\tEval's auc: 0.964187\tEval's binary_logloss: 2.08844\tEval's binary_error: 0.0605333\n",
      "[82]\tTrain's auc: 0.97976\tTrain's binary_logloss: 2.05576\tTrain's binary_error: 0.0595556\tEval's auc: 0.964187\tEval's binary_logloss: 2.08844\tEval's binary_error: 0.0605333\n",
      "[83]\tTrain's auc: 0.97976\tTrain's binary_logloss: 2.05576\tTrain's binary_error: 0.0595556\tEval's auc: 0.964187\tEval's binary_logloss: 2.08844\tEval's binary_error: 0.0605333\n",
      "[84]\tTrain's auc: 0.97976\tTrain's binary_logloss: 2.05576\tTrain's binary_error: 0.0595556\tEval's auc: 0.964187\tEval's binary_logloss: 2.08844\tEval's binary_error: 0.0605333\n",
      "[85]\tTrain's auc: 0.97976\tTrain's binary_logloss: 2.05576\tTrain's binary_error: 0.0595556\tEval's auc: 0.964187\tEval's binary_logloss: 2.08844\tEval's binary_error: 0.0605333\n",
      "[86]\tTrain's auc: 0.97976\tTrain's binary_logloss: 2.05576\tTrain's binary_error: 0.0595556\tEval's auc: 0.964187\tEval's binary_logloss: 2.08844\tEval's binary_error: 0.0605333\n",
      "[87]\tTrain's auc: 0.97976\tTrain's binary_logloss: 2.05576\tTrain's binary_error: 0.0595556\tEval's auc: 0.964187\tEval's binary_logloss: 2.08844\tEval's binary_error: 0.0605333\n",
      "[88]\tTrain's auc: 0.97976\tTrain's binary_logloss: 2.05576\tTrain's binary_error: 0.0595556\tEval's auc: 0.964187\tEval's binary_logloss: 2.08844\tEval's binary_error: 0.0605333\n",
      "[89]\tTrain's auc: 0.97976\tTrain's binary_logloss: 2.05576\tTrain's binary_error: 0.0595556\tEval's auc: 0.964187\tEval's binary_logloss: 2.08844\tEval's binary_error: 0.0605333\n",
      "[90]\tTrain's auc: 0.97976\tTrain's binary_logloss: 2.05576\tTrain's binary_error: 0.0595556\tEval's auc: 0.964187\tEval's binary_logloss: 2.08844\tEval's binary_error: 0.0605333\n",
      "[91]\tTrain's auc: 0.97976\tTrain's binary_logloss: 2.05576\tTrain's binary_error: 0.0595556\tEval's auc: 0.964187\tEval's binary_logloss: 2.08844\tEval's binary_error: 0.0605333\n",
      "[92]\tTrain's auc: 0.97976\tTrain's binary_logloss: 2.05576\tTrain's binary_error: 0.0595556\tEval's auc: 0.964187\tEval's binary_logloss: 2.08844\tEval's binary_error: 0.0605333\n",
      "[93]\tTrain's auc: 0.97976\tTrain's binary_logloss: 2.05576\tTrain's binary_error: 0.0595556\tEval's auc: 0.964187\tEval's binary_logloss: 2.08844\tEval's binary_error: 0.0605333\n",
      "[94]\tTrain's auc: 0.97976\tTrain's binary_logloss: 2.05576\tTrain's binary_error: 0.0595556\tEval's auc: 0.964187\tEval's binary_logloss: 2.08844\tEval's binary_error: 0.0605333\n",
      "[95]\tTrain's auc: 0.97976\tTrain's binary_logloss: 2.05576\tTrain's binary_error: 0.0595556\tEval's auc: 0.964187\tEval's binary_logloss: 2.08844\tEval's binary_error: 0.0605333\n",
      "[96]\tTrain's auc: 0.97976\tTrain's binary_logloss: 2.05576\tTrain's binary_error: 0.0595556\tEval's auc: 0.964187\tEval's binary_logloss: 2.08844\tEval's binary_error: 0.0605333\n",
      "[97]\tTrain's auc: 0.97976\tTrain's binary_logloss: 2.05576\tTrain's binary_error: 0.0595556\tEval's auc: 0.964187\tEval's binary_logloss: 2.08844\tEval's binary_error: 0.0605333\n",
      "[98]\tTrain's auc: 0.97976\tTrain's binary_logloss: 2.05576\tTrain's binary_error: 0.0595556\tEval's auc: 0.964187\tEval's binary_logloss: 2.08844\tEval's binary_error: 0.0605333\n",
      "[99]\tTrain's auc: 0.97976\tTrain's binary_logloss: 2.05576\tTrain's binary_error: 0.0595556\tEval's auc: 0.964187\tEval's binary_logloss: 2.08844\tEval's binary_error: 0.0605333\n",
      "[100]\tTrain's auc: 0.97976\tTrain's binary_logloss: 2.05576\tTrain's binary_error: 0.0595556\tEval's auc: 0.964187\tEval's binary_logloss: 2.08844\tEval's binary_error: 0.0605333\n",
      "[101]\tTrain's auc: 0.97976\tTrain's binary_logloss: 2.05576\tTrain's binary_error: 0.0595556\tEval's auc: 0.964187\tEval's binary_logloss: 2.08844\tEval's binary_error: 0.0605333\n",
      "[102]\tTrain's auc: 0.97976\tTrain's binary_logloss: 2.05576\tTrain's binary_error: 0.0595556\tEval's auc: 0.964187\tEval's binary_logloss: 2.08844\tEval's binary_error: 0.0605333\n",
      "[103]\tTrain's auc: 0.97976\tTrain's binary_logloss: 2.05576\tTrain's binary_error: 0.0595556\tEval's auc: 0.964187\tEval's binary_logloss: 2.08844\tEval's binary_error: 0.0605333\n",
      "[104]\tTrain's auc: 0.97976\tTrain's binary_logloss: 2.05576\tTrain's binary_error: 0.0595556\tEval's auc: 0.964187\tEval's binary_logloss: 2.08844\tEval's binary_error: 0.0605333\n",
      "[105]\tTrain's auc: 0.97976\tTrain's binary_logloss: 2.05576\tTrain's binary_error: 0.0595556\tEval's auc: 0.964187\tEval's binary_logloss: 2.08844\tEval's binary_error: 0.0605333\n",
      "[106]\tTrain's auc: 0.97976\tTrain's binary_logloss: 2.05576\tTrain's binary_error: 0.0595556\tEval's auc: 0.964187\tEval's binary_logloss: 2.08844\tEval's binary_error: 0.0605333\n",
      "[107]\tTrain's auc: 0.97976\tTrain's binary_logloss: 2.05576\tTrain's binary_error: 0.0595556\tEval's auc: 0.964187\tEval's binary_logloss: 2.08844\tEval's binary_error: 0.0605333\n",
      "[108]\tTrain's auc: 0.97976\tTrain's binary_logloss: 2.05576\tTrain's binary_error: 0.0595556\tEval's auc: 0.964187\tEval's binary_logloss: 2.08844\tEval's binary_error: 0.0605333\n",
      "[109]\tTrain's auc: 0.97976\tTrain's binary_logloss: 2.05576\tTrain's binary_error: 0.0595556\tEval's auc: 0.964187\tEval's binary_logloss: 2.08844\tEval's binary_error: 0.0605333\n",
      "[110]\tTrain's auc: 0.97976\tTrain's binary_logloss: 2.05576\tTrain's binary_error: 0.0595556\tEval's auc: 0.964187\tEval's binary_logloss: 2.08844\tEval's binary_error: 0.0605333\n",
      "[111]\tTrain's auc: 0.97976\tTrain's binary_logloss: 2.05576\tTrain's binary_error: 0.0595556\tEval's auc: 0.964187\tEval's binary_logloss: 2.08844\tEval's binary_error: 0.0605333\n",
      "[112]\tTrain's auc: 0.97976\tTrain's binary_logloss: 2.05576\tTrain's binary_error: 0.0595556\tEval's auc: 0.964187\tEval's binary_logloss: 2.08844\tEval's binary_error: 0.0605333\n",
      "[113]\tTrain's auc: 0.97976\tTrain's binary_logloss: 2.05576\tTrain's binary_error: 0.0595556\tEval's auc: 0.964187\tEval's binary_logloss: 2.08844\tEval's binary_error: 0.0605333\n",
      "[114]\tTrain's auc: 0.97976\tTrain's binary_logloss: 2.05576\tTrain's binary_error: 0.0595556\tEval's auc: 0.964187\tEval's binary_logloss: 2.08844\tEval's binary_error: 0.0605333\n",
      "[115]\tTrain's auc: 0.97976\tTrain's binary_logloss: 2.05576\tTrain's binary_error: 0.0595556\tEval's auc: 0.964187\tEval's binary_logloss: 2.08844\tEval's binary_error: 0.0605333\n",
      "[116]\tTrain's auc: 0.97976\tTrain's binary_logloss: 2.05576\tTrain's binary_error: 0.0595556\tEval's auc: 0.964187\tEval's binary_logloss: 2.08844\tEval's binary_error: 0.0605333\n",
      "[117]\tTrain's auc: 0.97976\tTrain's binary_logloss: 2.05576\tTrain's binary_error: 0.0595556\tEval's auc: 0.964187\tEval's binary_logloss: 2.08844\tEval's binary_error: 0.0605333\n",
      "[118]\tTrain's auc: 0.97976\tTrain's binary_logloss: 2.05576\tTrain's binary_error: 0.0595556\tEval's auc: 0.964187\tEval's binary_logloss: 2.08844\tEval's binary_error: 0.0605333\n",
      "[119]\tTrain's auc: 0.97976\tTrain's binary_logloss: 2.05576\tTrain's binary_error: 0.0595556\tEval's auc: 0.964187\tEval's binary_logloss: 2.08844\tEval's binary_error: 0.0605333\n",
      "[120]\tTrain's auc: 0.97976\tTrain's binary_logloss: 2.05576\tTrain's binary_error: 0.0595556\tEval's auc: 0.964187\tEval's binary_logloss: 2.08844\tEval's binary_error: 0.0605333\n",
      "[121]\tTrain's auc: 0.97976\tTrain's binary_logloss: 2.05576\tTrain's binary_error: 0.0595556\tEval's auc: 0.964187\tEval's binary_logloss: 2.08844\tEval's binary_error: 0.0605333\n",
      "[122]\tTrain's auc: 0.97976\tTrain's binary_logloss: 2.05576\tTrain's binary_error: 0.0595556\tEval's auc: 0.964187\tEval's binary_logloss: 2.08844\tEval's binary_error: 0.0605333\n"
     ]
    },
    {
     "name": "stdout",
     "output_type": "stream",
     "text": [
      "[123]\tTrain's auc: 0.97976\tTrain's binary_logloss: 2.05576\tTrain's binary_error: 0.0595556\tEval's auc: 0.964187\tEval's binary_logloss: 2.08844\tEval's binary_error: 0.0605333\n",
      "[124]\tTrain's auc: 0.97976\tTrain's binary_logloss: 2.05576\tTrain's binary_error: 0.0595556\tEval's auc: 0.964187\tEval's binary_logloss: 2.08844\tEval's binary_error: 0.0605333\n",
      "[125]\tTrain's auc: 0.97976\tTrain's binary_logloss: 2.05576\tTrain's binary_error: 0.0595556\tEval's auc: 0.964187\tEval's binary_logloss: 2.08844\tEval's binary_error: 0.0605333\n",
      "[126]\tTrain's auc: 0.97976\tTrain's binary_logloss: 2.05576\tTrain's binary_error: 0.0595556\tEval's auc: 0.964187\tEval's binary_logloss: 2.08844\tEval's binary_error: 0.0605333\n",
      "[127]\tTrain's auc: 0.97976\tTrain's binary_logloss: 2.05576\tTrain's binary_error: 0.0595556\tEval's auc: 0.964187\tEval's binary_logloss: 2.08844\tEval's binary_error: 0.0605333\n",
      "[128]\tTrain's auc: 0.97976\tTrain's binary_logloss: 2.05576\tTrain's binary_error: 0.0595556\tEval's auc: 0.964187\tEval's binary_logloss: 2.08844\tEval's binary_error: 0.0605333\n",
      "[129]\tTrain's auc: 0.97976\tTrain's binary_logloss: 2.05576\tTrain's binary_error: 0.0595556\tEval's auc: 0.964187\tEval's binary_logloss: 2.08844\tEval's binary_error: 0.0605333\n",
      "[130]\tTrain's auc: 0.97976\tTrain's binary_logloss: 2.05576\tTrain's binary_error: 0.0595556\tEval's auc: 0.964187\tEval's binary_logloss: 2.08844\tEval's binary_error: 0.0605333\n",
      "[131]\tTrain's auc: 0.97976\tTrain's binary_logloss: 2.05576\tTrain's binary_error: 0.0595556\tEval's auc: 0.964187\tEval's binary_logloss: 2.08844\tEval's binary_error: 0.0605333\n",
      "[132]\tTrain's auc: 0.97976\tTrain's binary_logloss: 2.05576\tTrain's binary_error: 0.0595556\tEval's auc: 0.964187\tEval's binary_logloss: 2.08844\tEval's binary_error: 0.0605333\n",
      "[133]\tTrain's auc: 0.97976\tTrain's binary_logloss: 2.05576\tTrain's binary_error: 0.0595556\tEval's auc: 0.964187\tEval's binary_logloss: 2.08844\tEval's binary_error: 0.0605333\n",
      "[134]\tTrain's auc: 0.97976\tTrain's binary_logloss: 2.05576\tTrain's binary_error: 0.0595556\tEval's auc: 0.964187\tEval's binary_logloss: 2.08844\tEval's binary_error: 0.0605333\n",
      "[135]\tTrain's auc: 0.97976\tTrain's binary_logloss: 2.05576\tTrain's binary_error: 0.0595556\tEval's auc: 0.964187\tEval's binary_logloss: 2.08844\tEval's binary_error: 0.0605333\n",
      "[136]\tTrain's auc: 0.97976\tTrain's binary_logloss: 2.05576\tTrain's binary_error: 0.0595556\tEval's auc: 0.964187\tEval's binary_logloss: 2.08844\tEval's binary_error: 0.0605333\n",
      "[137]\tTrain's auc: 0.97976\tTrain's binary_logloss: 2.05576\tTrain's binary_error: 0.0595556\tEval's auc: 0.964187\tEval's binary_logloss: 2.08844\tEval's binary_error: 0.0605333\n",
      "[138]\tTrain's auc: 0.97976\tTrain's binary_logloss: 2.05576\tTrain's binary_error: 0.0595556\tEval's auc: 0.964187\tEval's binary_logloss: 2.08844\tEval's binary_error: 0.0605333\n",
      "[139]\tTrain's auc: 0.97976\tTrain's binary_logloss: 2.05576\tTrain's binary_error: 0.0595556\tEval's auc: 0.964187\tEval's binary_logloss: 2.08844\tEval's binary_error: 0.0605333\n",
      "[140]\tTrain's auc: 0.97976\tTrain's binary_logloss: 2.05576\tTrain's binary_error: 0.0595556\tEval's auc: 0.964187\tEval's binary_logloss: 2.08844\tEval's binary_error: 0.0605333\n",
      "[141]\tTrain's auc: 0.97976\tTrain's binary_logloss: 2.05576\tTrain's binary_error: 0.0595556\tEval's auc: 0.964187\tEval's binary_logloss: 2.08844\tEval's binary_error: 0.0605333\n",
      "[142]\tTrain's auc: 0.97976\tTrain's binary_logloss: 2.05576\tTrain's binary_error: 0.0595556\tEval's auc: 0.964187\tEval's binary_logloss: 2.08844\tEval's binary_error: 0.0605333\n",
      "[143]\tTrain's auc: 0.97976\tTrain's binary_logloss: 2.05576\tTrain's binary_error: 0.0595556\tEval's auc: 0.964187\tEval's binary_logloss: 2.08844\tEval's binary_error: 0.0605333\n",
      "[144]\tTrain's auc: 0.97976\tTrain's binary_logloss: 2.05576\tTrain's binary_error: 0.0595556\tEval's auc: 0.964187\tEval's binary_logloss: 2.08844\tEval's binary_error: 0.0605333\n",
      "[145]\tTrain's auc: 0.97976\tTrain's binary_logloss: 2.05576\tTrain's binary_error: 0.0595556\tEval's auc: 0.964187\tEval's binary_logloss: 2.08844\tEval's binary_error: 0.0605333\n",
      "[146]\tTrain's auc: 0.97976\tTrain's binary_logloss: 2.05576\tTrain's binary_error: 0.0595556\tEval's auc: 0.964187\tEval's binary_logloss: 2.08844\tEval's binary_error: 0.0605333\n",
      "[147]\tTrain's auc: 0.97976\tTrain's binary_logloss: 2.05576\tTrain's binary_error: 0.0595556\tEval's auc: 0.964187\tEval's binary_logloss: 2.08844\tEval's binary_error: 0.0605333\n",
      "[148]\tTrain's auc: 0.97976\tTrain's binary_logloss: 2.05576\tTrain's binary_error: 0.0595556\tEval's auc: 0.964187\tEval's binary_logloss: 2.08844\tEval's binary_error: 0.0605333\n",
      "[149]\tTrain's auc: 0.97976\tTrain's binary_logloss: 2.05576\tTrain's binary_error: 0.0595556\tEval's auc: 0.964187\tEval's binary_logloss: 2.08844\tEval's binary_error: 0.0605333\n",
      "[150]\tTrain's auc: 0.97976\tTrain's binary_logloss: 2.05576\tTrain's binary_error: 0.0595556\tEval's auc: 0.964187\tEval's binary_logloss: 2.08844\tEval's binary_error: 0.0605333\n",
      "[151]\tTrain's auc: 0.97976\tTrain's binary_logloss: 2.05576\tTrain's binary_error: 0.0595556\tEval's auc: 0.964187\tEval's binary_logloss: 2.08844\tEval's binary_error: 0.0605333\n",
      "[152]\tTrain's auc: 0.97976\tTrain's binary_logloss: 2.05576\tTrain's binary_error: 0.0595556\tEval's auc: 0.964187\tEval's binary_logloss: 2.08844\tEval's binary_error: 0.0605333\n",
      "[153]\tTrain's auc: 0.97976\tTrain's binary_logloss: 2.05576\tTrain's binary_error: 0.0595556\tEval's auc: 0.964187\tEval's binary_logloss: 2.08844\tEval's binary_error: 0.0605333\n",
      "[154]\tTrain's auc: 0.97976\tTrain's binary_logloss: 2.05576\tTrain's binary_error: 0.0595556\tEval's auc: 0.964187\tEval's binary_logloss: 2.08844\tEval's binary_error: 0.0605333\n",
      "[155]\tTrain's auc: 0.97976\tTrain's binary_logloss: 2.05576\tTrain's binary_error: 0.0595556\tEval's auc: 0.964187\tEval's binary_logloss: 2.08844\tEval's binary_error: 0.0605333\n",
      "[156]\tTrain's auc: 0.97976\tTrain's binary_logloss: 2.05576\tTrain's binary_error: 0.0595556\tEval's auc: 0.964187\tEval's binary_logloss: 2.08844\tEval's binary_error: 0.0605333\n",
      "[157]\tTrain's auc: 0.97976\tTrain's binary_logloss: 2.05576\tTrain's binary_error: 0.0595556\tEval's auc: 0.964187\tEval's binary_logloss: 2.08844\tEval's binary_error: 0.0605333\n",
      "[158]\tTrain's auc: 0.97976\tTrain's binary_logloss: 2.05576\tTrain's binary_error: 0.0595556\tEval's auc: 0.964187\tEval's binary_logloss: 2.08844\tEval's binary_error: 0.0605333\n",
      "[159]\tTrain's auc: 0.97976\tTrain's binary_logloss: 2.05576\tTrain's binary_error: 0.0595556\tEval's auc: 0.964187\tEval's binary_logloss: 2.08844\tEval's binary_error: 0.0605333\n",
      "[160]\tTrain's auc: 0.97976\tTrain's binary_logloss: 2.05576\tTrain's binary_error: 0.0595556\tEval's auc: 0.964187\tEval's binary_logloss: 2.08844\tEval's binary_error: 0.0605333\n",
      "[161]\tTrain's auc: 0.97976\tTrain's binary_logloss: 2.05576\tTrain's binary_error: 0.0595556\tEval's auc: 0.964187\tEval's binary_logloss: 2.08844\tEval's binary_error: 0.0605333\n",
      "[162]\tTrain's auc: 0.97976\tTrain's binary_logloss: 2.05576\tTrain's binary_error: 0.0595556\tEval's auc: 0.964187\tEval's binary_logloss: 2.08844\tEval's binary_error: 0.0605333\n",
      "[163]\tTrain's auc: 0.97976\tTrain's binary_logloss: 2.05576\tTrain's binary_error: 0.0595556\tEval's auc: 0.964187\tEval's binary_logloss: 2.08844\tEval's binary_error: 0.0605333\n",
      "[164]\tTrain's auc: 0.97976\tTrain's binary_logloss: 2.05576\tTrain's binary_error: 0.0595556\tEval's auc: 0.964187\tEval's binary_logloss: 2.08844\tEval's binary_error: 0.0605333\n",
      "[165]\tTrain's auc: 0.97976\tTrain's binary_logloss: 2.05576\tTrain's binary_error: 0.0595556\tEval's auc: 0.964187\tEval's binary_logloss: 2.08844\tEval's binary_error: 0.0605333\n",
      "[166]\tTrain's auc: 0.97976\tTrain's binary_logloss: 2.05576\tTrain's binary_error: 0.0595556\tEval's auc: 0.964187\tEval's binary_logloss: 2.08844\tEval's binary_error: 0.0605333\n",
      "[167]\tTrain's auc: 0.97976\tTrain's binary_logloss: 2.05576\tTrain's binary_error: 0.0595556\tEval's auc: 0.964187\tEval's binary_logloss: 2.08844\tEval's binary_error: 0.0605333\n",
      "[168]\tTrain's auc: 0.97976\tTrain's binary_logloss: 2.05576\tTrain's binary_error: 0.0595556\tEval's auc: 0.964187\tEval's binary_logloss: 2.08844\tEval's binary_error: 0.0605333\n",
      "[169]\tTrain's auc: 0.97976\tTrain's binary_logloss: 2.05576\tTrain's binary_error: 0.0595556\tEval's auc: 0.964187\tEval's binary_logloss: 2.08844\tEval's binary_error: 0.0605333\n",
      "[170]\tTrain's auc: 0.97976\tTrain's binary_logloss: 2.05576\tTrain's binary_error: 0.0595556\tEval's auc: 0.964187\tEval's binary_logloss: 2.08844\tEval's binary_error: 0.0605333\n"
     ]
    },
    {
     "name": "stdout",
     "output_type": "stream",
     "text": [
      "[171]\tTrain's auc: 0.97976\tTrain's binary_logloss: 2.05576\tTrain's binary_error: 0.0595556\tEval's auc: 0.964187\tEval's binary_logloss: 2.08844\tEval's binary_error: 0.0605333\n",
      "[172]\tTrain's auc: 0.97976\tTrain's binary_logloss: 2.05576\tTrain's binary_error: 0.0595556\tEval's auc: 0.964187\tEval's binary_logloss: 2.08844\tEval's binary_error: 0.0605333\n",
      "[173]\tTrain's auc: 0.97976\tTrain's binary_logloss: 2.05576\tTrain's binary_error: 0.0595556\tEval's auc: 0.964187\tEval's binary_logloss: 2.08844\tEval's binary_error: 0.0605333\n",
      "[174]\tTrain's auc: 0.97976\tTrain's binary_logloss: 2.05576\tTrain's binary_error: 0.0595556\tEval's auc: 0.964187\tEval's binary_logloss: 2.08844\tEval's binary_error: 0.0605333\n",
      "[175]\tTrain's auc: 0.97976\tTrain's binary_logloss: 2.05576\tTrain's binary_error: 0.0595556\tEval's auc: 0.964187\tEval's binary_logloss: 2.08844\tEval's binary_error: 0.0605333\n",
      "[176]\tTrain's auc: 0.97976\tTrain's binary_logloss: 2.05576\tTrain's binary_error: 0.0595556\tEval's auc: 0.964187\tEval's binary_logloss: 2.08844\tEval's binary_error: 0.0605333\n",
      "[177]\tTrain's auc: 0.97976\tTrain's binary_logloss: 2.05576\tTrain's binary_error: 0.0595556\tEval's auc: 0.964187\tEval's binary_logloss: 2.08844\tEval's binary_error: 0.0605333\n",
      "[178]\tTrain's auc: 0.97976\tTrain's binary_logloss: 2.05576\tTrain's binary_error: 0.0595556\tEval's auc: 0.964187\tEval's binary_logloss: 2.08844\tEval's binary_error: 0.0605333\n",
      "[179]\tTrain's auc: 0.97976\tTrain's binary_logloss: 2.05576\tTrain's binary_error: 0.0595556\tEval's auc: 0.964187\tEval's binary_logloss: 2.08844\tEval's binary_error: 0.0605333\n",
      "[180]\tTrain's auc: 0.97976\tTrain's binary_logloss: 2.05576\tTrain's binary_error: 0.0595556\tEval's auc: 0.964187\tEval's binary_logloss: 2.08844\tEval's binary_error: 0.0605333\n",
      "[181]\tTrain's auc: 0.97976\tTrain's binary_logloss: 2.05576\tTrain's binary_error: 0.0595556\tEval's auc: 0.964187\tEval's binary_logloss: 2.08844\tEval's binary_error: 0.0605333\n",
      "[182]\tTrain's auc: 0.97976\tTrain's binary_logloss: 2.05576\tTrain's binary_error: 0.0595556\tEval's auc: 0.964187\tEval's binary_logloss: 2.08844\tEval's binary_error: 0.0605333\n",
      "[183]\tTrain's auc: 0.97976\tTrain's binary_logloss: 2.05576\tTrain's binary_error: 0.0595556\tEval's auc: 0.964187\tEval's binary_logloss: 2.08844\tEval's binary_error: 0.0605333\n",
      "[184]\tTrain's auc: 0.97976\tTrain's binary_logloss: 2.05576\tTrain's binary_error: 0.0595556\tEval's auc: 0.964187\tEval's binary_logloss: 2.08844\tEval's binary_error: 0.0605333\n",
      "[185]\tTrain's auc: 0.97976\tTrain's binary_logloss: 2.05576\tTrain's binary_error: 0.0595556\tEval's auc: 0.964187\tEval's binary_logloss: 2.08844\tEval's binary_error: 0.0605333\n",
      "[186]\tTrain's auc: 0.97976\tTrain's binary_logloss: 2.05576\tTrain's binary_error: 0.0595556\tEval's auc: 0.964187\tEval's binary_logloss: 2.08844\tEval's binary_error: 0.0605333\n",
      "[187]\tTrain's auc: 0.97976\tTrain's binary_logloss: 2.05576\tTrain's binary_error: 0.0595556\tEval's auc: 0.964187\tEval's binary_logloss: 2.08844\tEval's binary_error: 0.0605333\n",
      "[188]\tTrain's auc: 0.97976\tTrain's binary_logloss: 2.05576\tTrain's binary_error: 0.0595556\tEval's auc: 0.964187\tEval's binary_logloss: 2.08844\tEval's binary_error: 0.0605333\n",
      "[189]\tTrain's auc: 0.97976\tTrain's binary_logloss: 2.05576\tTrain's binary_error: 0.0595556\tEval's auc: 0.964187\tEval's binary_logloss: 2.08844\tEval's binary_error: 0.0605333\n",
      "[190]\tTrain's auc: 0.97976\tTrain's binary_logloss: 2.05576\tTrain's binary_error: 0.0595556\tEval's auc: 0.964187\tEval's binary_logloss: 2.08844\tEval's binary_error: 0.0605333\n",
      "[191]\tTrain's auc: 0.97976\tTrain's binary_logloss: 2.05576\tTrain's binary_error: 0.0595556\tEval's auc: 0.964187\tEval's binary_logloss: 2.08844\tEval's binary_error: 0.0605333\n",
      "[192]\tTrain's auc: 0.97976\tTrain's binary_logloss: 2.05576\tTrain's binary_error: 0.0595556\tEval's auc: 0.964187\tEval's binary_logloss: 2.08844\tEval's binary_error: 0.0605333\n",
      "[193]\tTrain's auc: 0.97976\tTrain's binary_logloss: 2.05576\tTrain's binary_error: 0.0595556\tEval's auc: 0.964187\tEval's binary_logloss: 2.08844\tEval's binary_error: 0.0605333\n",
      "[194]\tTrain's auc: 0.97976\tTrain's binary_logloss: 2.05576\tTrain's binary_error: 0.0595556\tEval's auc: 0.964187\tEval's binary_logloss: 2.08844\tEval's binary_error: 0.0605333\n",
      "[195]\tTrain's auc: 0.97976\tTrain's binary_logloss: 2.05576\tTrain's binary_error: 0.0595556\tEval's auc: 0.964187\tEval's binary_logloss: 2.08844\tEval's binary_error: 0.0605333\n",
      "[196]\tTrain's auc: 0.97976\tTrain's binary_logloss: 2.05576\tTrain's binary_error: 0.0595556\tEval's auc: 0.964187\tEval's binary_logloss: 2.08844\tEval's binary_error: 0.0605333\n",
      "[197]\tTrain's auc: 0.97976\tTrain's binary_logloss: 2.05576\tTrain's binary_error: 0.0595556\tEval's auc: 0.964187\tEval's binary_logloss: 2.08844\tEval's binary_error: 0.0605333\n",
      "[198]\tTrain's auc: 0.97976\tTrain's binary_logloss: 2.05576\tTrain's binary_error: 0.0595556\tEval's auc: 0.964187\tEval's binary_logloss: 2.08844\tEval's binary_error: 0.0605333\n",
      "[199]\tTrain's auc: 0.97976\tTrain's binary_logloss: 2.05576\tTrain's binary_error: 0.0595556\tEval's auc: 0.964187\tEval's binary_logloss: 2.08844\tEval's binary_error: 0.0605333\n",
      "[200]\tTrain's auc: 0.97976\tTrain's binary_logloss: 2.05576\tTrain's binary_error: 0.0595556\tEval's auc: 0.964187\tEval's binary_logloss: 2.08844\tEval's binary_error: 0.0605333\n",
      "[201]\tTrain's auc: 0.97976\tTrain's binary_logloss: 2.05576\tTrain's binary_error: 0.0595556\tEval's auc: 0.964187\tEval's binary_logloss: 2.08844\tEval's binary_error: 0.0605333\n",
      "[202]\tTrain's auc: 0.97976\tTrain's binary_logloss: 2.05576\tTrain's binary_error: 0.0595556\tEval's auc: 0.964187\tEval's binary_logloss: 2.08844\tEval's binary_error: 0.0605333\n",
      "[203]\tTrain's auc: 0.97976\tTrain's binary_logloss: 2.05576\tTrain's binary_error: 0.0595556\tEval's auc: 0.964187\tEval's binary_logloss: 2.08844\tEval's binary_error: 0.0605333\n",
      "[204]\tTrain's auc: 0.97976\tTrain's binary_logloss: 2.05576\tTrain's binary_error: 0.0595556\tEval's auc: 0.964187\tEval's binary_logloss: 2.08844\tEval's binary_error: 0.0605333\n",
      "[205]\tTrain's auc: 0.97976\tTrain's binary_logloss: 2.05576\tTrain's binary_error: 0.0595556\tEval's auc: 0.964187\tEval's binary_logloss: 2.08844\tEval's binary_error: 0.0605333\n",
      "[206]\tTrain's auc: 0.97976\tTrain's binary_logloss: 2.05576\tTrain's binary_error: 0.0595556\tEval's auc: 0.964187\tEval's binary_logloss: 2.08844\tEval's binary_error: 0.0605333\n",
      "[207]\tTrain's auc: 0.97976\tTrain's binary_logloss: 2.05576\tTrain's binary_error: 0.0595556\tEval's auc: 0.964187\tEval's binary_logloss: 2.08844\tEval's binary_error: 0.0605333\n",
      "[208]\tTrain's auc: 0.97976\tTrain's binary_logloss: 2.05576\tTrain's binary_error: 0.0595556\tEval's auc: 0.964187\tEval's binary_logloss: 2.08844\tEval's binary_error: 0.0605333\n",
      "[209]\tTrain's auc: 0.97976\tTrain's binary_logloss: 2.05576\tTrain's binary_error: 0.0595556\tEval's auc: 0.964187\tEval's binary_logloss: 2.08844\tEval's binary_error: 0.0605333\n",
      "[210]\tTrain's auc: 0.97976\tTrain's binary_logloss: 2.05576\tTrain's binary_error: 0.0595556\tEval's auc: 0.964187\tEval's binary_logloss: 2.08844\tEval's binary_error: 0.0605333\n",
      "[211]\tTrain's auc: 0.97976\tTrain's binary_logloss: 2.05576\tTrain's binary_error: 0.0595556\tEval's auc: 0.964187\tEval's binary_logloss: 2.08844\tEval's binary_error: 0.0605333\n",
      "[212]\tTrain's auc: 0.97976\tTrain's binary_logloss: 2.05576\tTrain's binary_error: 0.0595556\tEval's auc: 0.964187\tEval's binary_logloss: 2.08844\tEval's binary_error: 0.0605333\n",
      "[213]\tTrain's auc: 0.97976\tTrain's binary_logloss: 2.05576\tTrain's binary_error: 0.0595556\tEval's auc: 0.964187\tEval's binary_logloss: 2.08844\tEval's binary_error: 0.0605333\n",
      "[214]\tTrain's auc: 0.97976\tTrain's binary_logloss: 2.05576\tTrain's binary_error: 0.0595556\tEval's auc: 0.964187\tEval's binary_logloss: 2.08844\tEval's binary_error: 0.0605333\n",
      "[215]\tTrain's auc: 0.97976\tTrain's binary_logloss: 2.05576\tTrain's binary_error: 0.0595556\tEval's auc: 0.964187\tEval's binary_logloss: 2.08844\tEval's binary_error: 0.0605333\n",
      "[216]\tTrain's auc: 0.97976\tTrain's binary_logloss: 2.05576\tTrain's binary_error: 0.0595556\tEval's auc: 0.964187\tEval's binary_logloss: 2.08844\tEval's binary_error: 0.0605333\n",
      "[217]\tTrain's auc: 0.97976\tTrain's binary_logloss: 2.05576\tTrain's binary_error: 0.0595556\tEval's auc: 0.964187\tEval's binary_logloss: 2.08844\tEval's binary_error: 0.0605333\n",
      "[218]\tTrain's auc: 0.97976\tTrain's binary_logloss: 2.05576\tTrain's binary_error: 0.0595556\tEval's auc: 0.964187\tEval's binary_logloss: 2.08844\tEval's binary_error: 0.0605333\n",
      "[219]\tTrain's auc: 0.97976\tTrain's binary_logloss: 2.05576\tTrain's binary_error: 0.0595556\tEval's auc: 0.964187\tEval's binary_logloss: 2.08844\tEval's binary_error: 0.0605333\n",
      "[220]\tTrain's auc: 0.97976\tTrain's binary_logloss: 2.05576\tTrain's binary_error: 0.0595556\tEval's auc: 0.964187\tEval's binary_logloss: 2.08844\tEval's binary_error: 0.0605333\n",
      "[221]\tTrain's auc: 0.97976\tTrain's binary_logloss: 2.05576\tTrain's binary_error: 0.0595556\tEval's auc: 0.964187\tEval's binary_logloss: 2.08844\tEval's binary_error: 0.0605333\n",
      "[222]\tTrain's auc: 0.97976\tTrain's binary_logloss: 2.05576\tTrain's binary_error: 0.0595556\tEval's auc: 0.964187\tEval's binary_logloss: 2.08844\tEval's binary_error: 0.0605333\n"
     ]
    },
    {
     "name": "stdout",
     "output_type": "stream",
     "text": [
      "[223]\tTrain's auc: 0.97976\tTrain's binary_logloss: 2.05576\tTrain's binary_error: 0.0595556\tEval's auc: 0.964187\tEval's binary_logloss: 2.08844\tEval's binary_error: 0.0605333\n",
      "[224]\tTrain's auc: 0.97976\tTrain's binary_logloss: 2.05576\tTrain's binary_error: 0.0595556\tEval's auc: 0.964187\tEval's binary_logloss: 2.08844\tEval's binary_error: 0.0605333\n",
      "[225]\tTrain's auc: 0.97976\tTrain's binary_logloss: 2.05576\tTrain's binary_error: 0.0595556\tEval's auc: 0.964187\tEval's binary_logloss: 2.08844\tEval's binary_error: 0.0605333\n",
      "[226]\tTrain's auc: 0.97976\tTrain's binary_logloss: 2.05576\tTrain's binary_error: 0.0595556\tEval's auc: 0.964187\tEval's binary_logloss: 2.08844\tEval's binary_error: 0.0605333\n",
      "[227]\tTrain's auc: 0.97976\tTrain's binary_logloss: 2.05576\tTrain's binary_error: 0.0595556\tEval's auc: 0.964187\tEval's binary_logloss: 2.08844\tEval's binary_error: 0.0605333\n",
      "[228]\tTrain's auc: 0.97976\tTrain's binary_logloss: 2.05576\tTrain's binary_error: 0.0595556\tEval's auc: 0.964187\tEval's binary_logloss: 2.08844\tEval's binary_error: 0.0605333\n",
      "[229]\tTrain's auc: 0.97976\tTrain's binary_logloss: 2.05576\tTrain's binary_error: 0.0595556\tEval's auc: 0.964187\tEval's binary_logloss: 2.08844\tEval's binary_error: 0.0605333\n",
      "[230]\tTrain's auc: 0.97976\tTrain's binary_logloss: 2.05576\tTrain's binary_error: 0.0595556\tEval's auc: 0.964187\tEval's binary_logloss: 2.08844\tEval's binary_error: 0.0605333\n",
      "[231]\tTrain's auc: 0.97976\tTrain's binary_logloss: 2.05576\tTrain's binary_error: 0.0595556\tEval's auc: 0.964187\tEval's binary_logloss: 2.08844\tEval's binary_error: 0.0605333\n",
      "[232]\tTrain's auc: 0.97976\tTrain's binary_logloss: 2.05576\tTrain's binary_error: 0.0595556\tEval's auc: 0.964187\tEval's binary_logloss: 2.08844\tEval's binary_error: 0.0605333\n",
      "[233]\tTrain's auc: 0.97976\tTrain's binary_logloss: 2.05576\tTrain's binary_error: 0.0595556\tEval's auc: 0.964187\tEval's binary_logloss: 2.08844\tEval's binary_error: 0.0605333\n",
      "[234]\tTrain's auc: 0.97976\tTrain's binary_logloss: 2.05576\tTrain's binary_error: 0.0595556\tEval's auc: 0.964187\tEval's binary_logloss: 2.08844\tEval's binary_error: 0.0605333\n",
      "[235]\tTrain's auc: 0.97976\tTrain's binary_logloss: 2.05576\tTrain's binary_error: 0.0595556\tEval's auc: 0.964187\tEval's binary_logloss: 2.08844\tEval's binary_error: 0.0605333\n",
      "[236]\tTrain's auc: 0.97976\tTrain's binary_logloss: 2.05576\tTrain's binary_error: 0.0595556\tEval's auc: 0.964187\tEval's binary_logloss: 2.08844\tEval's binary_error: 0.0605333\n",
      "[237]\tTrain's auc: 0.97976\tTrain's binary_logloss: 2.05576\tTrain's binary_error: 0.0595556\tEval's auc: 0.964187\tEval's binary_logloss: 2.08844\tEval's binary_error: 0.0605333\n",
      "[238]\tTrain's auc: 0.97976\tTrain's binary_logloss: 2.05576\tTrain's binary_error: 0.0595556\tEval's auc: 0.964187\tEval's binary_logloss: 2.08844\tEval's binary_error: 0.0605333\n",
      "[239]\tTrain's auc: 0.97976\tTrain's binary_logloss: 2.05576\tTrain's binary_error: 0.0595556\tEval's auc: 0.964187\tEval's binary_logloss: 2.08844\tEval's binary_error: 0.0605333\n",
      "[240]\tTrain's auc: 0.97976\tTrain's binary_logloss: 2.05576\tTrain's binary_error: 0.0595556\tEval's auc: 0.964187\tEval's binary_logloss: 2.08844\tEval's binary_error: 0.0605333\n",
      "[241]\tTrain's auc: 0.97976\tTrain's binary_logloss: 2.05576\tTrain's binary_error: 0.0595556\tEval's auc: 0.964187\tEval's binary_logloss: 2.08844\tEval's binary_error: 0.0605333\n",
      "[242]\tTrain's auc: 0.97976\tTrain's binary_logloss: 2.05576\tTrain's binary_error: 0.0595556\tEval's auc: 0.964187\tEval's binary_logloss: 2.08844\tEval's binary_error: 0.0605333\n",
      "[243]\tTrain's auc: 0.97976\tTrain's binary_logloss: 2.05576\tTrain's binary_error: 0.0595556\tEval's auc: 0.964187\tEval's binary_logloss: 2.08844\tEval's binary_error: 0.0605333\n",
      "[244]\tTrain's auc: 0.97976\tTrain's binary_logloss: 2.05576\tTrain's binary_error: 0.0595556\tEval's auc: 0.964187\tEval's binary_logloss: 2.08844\tEval's binary_error: 0.0605333\n",
      "[245]\tTrain's auc: 0.97976\tTrain's binary_logloss: 2.05576\tTrain's binary_error: 0.0595556\tEval's auc: 0.964187\tEval's binary_logloss: 2.08844\tEval's binary_error: 0.0605333\n",
      "[246]\tTrain's auc: 0.97976\tTrain's binary_logloss: 2.05576\tTrain's binary_error: 0.0595556\tEval's auc: 0.964187\tEval's binary_logloss: 2.08844\tEval's binary_error: 0.0605333\n",
      "[247]\tTrain's auc: 0.97976\tTrain's binary_logloss: 2.05576\tTrain's binary_error: 0.0595556\tEval's auc: 0.964187\tEval's binary_logloss: 2.08844\tEval's binary_error: 0.0605333\n",
      "[248]\tTrain's auc: 0.97976\tTrain's binary_logloss: 2.05576\tTrain's binary_error: 0.0595556\tEval's auc: 0.964187\tEval's binary_logloss: 2.08844\tEval's binary_error: 0.0605333\n",
      "[249]\tTrain's auc: 0.97976\tTrain's binary_logloss: 2.05576\tTrain's binary_error: 0.0595556\tEval's auc: 0.964187\tEval's binary_logloss: 2.08844\tEval's binary_error: 0.0605333\n",
      "[250]\tTrain's auc: 0.97976\tTrain's binary_logloss: 2.05576\tTrain's binary_error: 0.0595556\tEval's auc: 0.964187\tEval's binary_logloss: 2.08844\tEval's binary_error: 0.0605333\n",
      "[251]\tTrain's auc: 0.97976\tTrain's binary_logloss: 2.05576\tTrain's binary_error: 0.0595556\tEval's auc: 0.964187\tEval's binary_logloss: 2.08844\tEval's binary_error: 0.0605333\n",
      "[252]\tTrain's auc: 0.97976\tTrain's binary_logloss: 2.05576\tTrain's binary_error: 0.0595556\tEval's auc: 0.964187\tEval's binary_logloss: 2.08844\tEval's binary_error: 0.0605333\n",
      "[253]\tTrain's auc: 0.97976\tTrain's binary_logloss: 2.05576\tTrain's binary_error: 0.0595556\tEval's auc: 0.964187\tEval's binary_logloss: 2.08844\tEval's binary_error: 0.0605333\n",
      "[254]\tTrain's auc: 0.97976\tTrain's binary_logloss: 2.05576\tTrain's binary_error: 0.0595556\tEval's auc: 0.964187\tEval's binary_logloss: 2.08844\tEval's binary_error: 0.0605333\n",
      "[255]\tTrain's auc: 0.97976\tTrain's binary_logloss: 2.05576\tTrain's binary_error: 0.0595556\tEval's auc: 0.964187\tEval's binary_logloss: 2.08844\tEval's binary_error: 0.0605333\n",
      "[256]\tTrain's auc: 0.97976\tTrain's binary_logloss: 2.05576\tTrain's binary_error: 0.0595556\tEval's auc: 0.964187\tEval's binary_logloss: 2.08844\tEval's binary_error: 0.0605333\n",
      "[257]\tTrain's auc: 0.97976\tTrain's binary_logloss: 2.05576\tTrain's binary_error: 0.0595556\tEval's auc: 0.964187\tEval's binary_logloss: 2.08844\tEval's binary_error: 0.0605333\n",
      "[258]\tTrain's auc: 0.97976\tTrain's binary_logloss: 2.05576\tTrain's binary_error: 0.0595556\tEval's auc: 0.964187\tEval's binary_logloss: 2.08844\tEval's binary_error: 0.0605333\n",
      "[259]\tTrain's auc: 0.97976\tTrain's binary_logloss: 2.05576\tTrain's binary_error: 0.0595556\tEval's auc: 0.964187\tEval's binary_logloss: 2.08844\tEval's binary_error: 0.0605333\n",
      "[260]\tTrain's auc: 0.97976\tTrain's binary_logloss: 2.05576\tTrain's binary_error: 0.0595556\tEval's auc: 0.964187\tEval's binary_logloss: 2.08844\tEval's binary_error: 0.0605333\n",
      "[261]\tTrain's auc: 0.97976\tTrain's binary_logloss: 2.05576\tTrain's binary_error: 0.0595556\tEval's auc: 0.964187\tEval's binary_logloss: 2.08844\tEval's binary_error: 0.0605333\n",
      "[262]\tTrain's auc: 0.97976\tTrain's binary_logloss: 2.05576\tTrain's binary_error: 0.0595556\tEval's auc: 0.964187\tEval's binary_logloss: 2.08844\tEval's binary_error: 0.0605333\n",
      "[263]\tTrain's auc: 0.97976\tTrain's binary_logloss: 2.05576\tTrain's binary_error: 0.0595556\tEval's auc: 0.964187\tEval's binary_logloss: 2.08844\tEval's binary_error: 0.0605333\n",
      "[264]\tTrain's auc: 0.97976\tTrain's binary_logloss: 2.05576\tTrain's binary_error: 0.0595556\tEval's auc: 0.964187\tEval's binary_logloss: 2.08844\tEval's binary_error: 0.0605333\n",
      "[265]\tTrain's auc: 0.97976\tTrain's binary_logloss: 2.05576\tTrain's binary_error: 0.0595556\tEval's auc: 0.964187\tEval's binary_logloss: 2.08844\tEval's binary_error: 0.0605333\n",
      "[266]\tTrain's auc: 0.97976\tTrain's binary_logloss: 2.05576\tTrain's binary_error: 0.0595556\tEval's auc: 0.964187\tEval's binary_logloss: 2.08844\tEval's binary_error: 0.0605333\n",
      "[267]\tTrain's auc: 0.97976\tTrain's binary_logloss: 2.05576\tTrain's binary_error: 0.0595556\tEval's auc: 0.964187\tEval's binary_logloss: 2.08844\tEval's binary_error: 0.0605333\n",
      "[268]\tTrain's auc: 0.97976\tTrain's binary_logloss: 2.05576\tTrain's binary_error: 0.0595556\tEval's auc: 0.964187\tEval's binary_logloss: 2.08844\tEval's binary_error: 0.0605333\n",
      "[269]\tTrain's auc: 0.97976\tTrain's binary_logloss: 2.05576\tTrain's binary_error: 0.0595556\tEval's auc: 0.964187\tEval's binary_logloss: 2.08844\tEval's binary_error: 0.0605333\n",
      "[270]\tTrain's auc: 0.97976\tTrain's binary_logloss: 2.05576\tTrain's binary_error: 0.0595556\tEval's auc: 0.964187\tEval's binary_logloss: 2.08844\tEval's binary_error: 0.0605333\n",
      "[271]\tTrain's auc: 0.97976\tTrain's binary_logloss: 2.05576\tTrain's binary_error: 0.0595556\tEval's auc: 0.964187\tEval's binary_logloss: 2.08844\tEval's binary_error: 0.0605333\n",
      "[272]\tTrain's auc: 0.97976\tTrain's binary_logloss: 2.05576\tTrain's binary_error: 0.0595556\tEval's auc: 0.964187\tEval's binary_logloss: 2.08844\tEval's binary_error: 0.0605333\n"
     ]
    },
    {
     "name": "stdout",
     "output_type": "stream",
     "text": [
      "[273]\tTrain's auc: 0.97976\tTrain's binary_logloss: 2.05576\tTrain's binary_error: 0.0595556\tEval's auc: 0.964187\tEval's binary_logloss: 2.08844\tEval's binary_error: 0.0605333\n",
      "[274]\tTrain's auc: 0.97976\tTrain's binary_logloss: 2.05576\tTrain's binary_error: 0.0595556\tEval's auc: 0.964187\tEval's binary_logloss: 2.08844\tEval's binary_error: 0.0605333\n",
      "[275]\tTrain's auc: 0.97976\tTrain's binary_logloss: 2.05576\tTrain's binary_error: 0.0595556\tEval's auc: 0.964187\tEval's binary_logloss: 2.08844\tEval's binary_error: 0.0605333\n",
      "[276]\tTrain's auc: 0.97976\tTrain's binary_logloss: 2.05576\tTrain's binary_error: 0.0595556\tEval's auc: 0.964187\tEval's binary_logloss: 2.08844\tEval's binary_error: 0.0605333\n",
      "[277]\tTrain's auc: 0.97976\tTrain's binary_logloss: 2.05576\tTrain's binary_error: 0.0595556\tEval's auc: 0.964187\tEval's binary_logloss: 2.08844\tEval's binary_error: 0.0605333\n",
      "[278]\tTrain's auc: 0.97976\tTrain's binary_logloss: 2.05576\tTrain's binary_error: 0.0595556\tEval's auc: 0.964187\tEval's binary_logloss: 2.08844\tEval's binary_error: 0.0605333\n",
      "[279]\tTrain's auc: 0.97976\tTrain's binary_logloss: 2.05576\tTrain's binary_error: 0.0595556\tEval's auc: 0.964187\tEval's binary_logloss: 2.08844\tEval's binary_error: 0.0605333\n",
      "[280]\tTrain's auc: 0.97976\tTrain's binary_logloss: 2.05576\tTrain's binary_error: 0.0595556\tEval's auc: 0.964187\tEval's binary_logloss: 2.08844\tEval's binary_error: 0.0605333\n",
      "[281]\tTrain's auc: 0.97976\tTrain's binary_logloss: 2.05576\tTrain's binary_error: 0.0595556\tEval's auc: 0.964187\tEval's binary_logloss: 2.08844\tEval's binary_error: 0.0605333\n",
      "[282]\tTrain's auc: 0.97976\tTrain's binary_logloss: 2.05576\tTrain's binary_error: 0.0595556\tEval's auc: 0.964187\tEval's binary_logloss: 2.08844\tEval's binary_error: 0.0605333\n",
      "[283]\tTrain's auc: 0.97976\tTrain's binary_logloss: 2.05576\tTrain's binary_error: 0.0595556\tEval's auc: 0.964187\tEval's binary_logloss: 2.08844\tEval's binary_error: 0.0605333\n",
      "[284]\tTrain's auc: 0.97976\tTrain's binary_logloss: 2.05576\tTrain's binary_error: 0.0595556\tEval's auc: 0.964187\tEval's binary_logloss: 2.08844\tEval's binary_error: 0.0605333\n",
      "[285]\tTrain's auc: 0.97976\tTrain's binary_logloss: 2.05576\tTrain's binary_error: 0.0595556\tEval's auc: 0.964187\tEval's binary_logloss: 2.08844\tEval's binary_error: 0.0605333\n",
      "[286]\tTrain's auc: 0.97976\tTrain's binary_logloss: 2.05576\tTrain's binary_error: 0.0595556\tEval's auc: 0.964187\tEval's binary_logloss: 2.08844\tEval's binary_error: 0.0605333\n",
      "[287]\tTrain's auc: 0.97976\tTrain's binary_logloss: 2.05576\tTrain's binary_error: 0.0595556\tEval's auc: 0.964187\tEval's binary_logloss: 2.08844\tEval's binary_error: 0.0605333\n",
      "[288]\tTrain's auc: 0.97976\tTrain's binary_logloss: 2.05576\tTrain's binary_error: 0.0595556\tEval's auc: 0.964187\tEval's binary_logloss: 2.08844\tEval's binary_error: 0.0605333\n",
      "[289]\tTrain's auc: 0.97976\tTrain's binary_logloss: 2.05576\tTrain's binary_error: 0.0595556\tEval's auc: 0.964187\tEval's binary_logloss: 2.08844\tEval's binary_error: 0.0605333\n",
      "[290]\tTrain's auc: 0.97976\tTrain's binary_logloss: 2.05576\tTrain's binary_error: 0.0595556\tEval's auc: 0.964187\tEval's binary_logloss: 2.08844\tEval's binary_error: 0.0605333\n",
      "[291]\tTrain's auc: 0.97976\tTrain's binary_logloss: 2.05576\tTrain's binary_error: 0.0595556\tEval's auc: 0.964187\tEval's binary_logloss: 2.08844\tEval's binary_error: 0.0605333\n",
      "[292]\tTrain's auc: 0.97976\tTrain's binary_logloss: 2.05576\tTrain's binary_error: 0.0595556\tEval's auc: 0.964187\tEval's binary_logloss: 2.08844\tEval's binary_error: 0.0605333\n",
      "[293]\tTrain's auc: 0.97976\tTrain's binary_logloss: 2.05576\tTrain's binary_error: 0.0595556\tEval's auc: 0.964187\tEval's binary_logloss: 2.08844\tEval's binary_error: 0.0605333\n",
      "[294]\tTrain's auc: 0.97976\tTrain's binary_logloss: 2.05576\tTrain's binary_error: 0.0595556\tEval's auc: 0.964187\tEval's binary_logloss: 2.08844\tEval's binary_error: 0.0605333\n",
      "[295]\tTrain's auc: 0.97976\tTrain's binary_logloss: 2.05576\tTrain's binary_error: 0.0595556\tEval's auc: 0.964187\tEval's binary_logloss: 2.08844\tEval's binary_error: 0.0605333\n",
      "[296]\tTrain's auc: 0.97976\tTrain's binary_logloss: 2.05576\tTrain's binary_error: 0.0595556\tEval's auc: 0.964187\tEval's binary_logloss: 2.08844\tEval's binary_error: 0.0605333\n",
      "[297]\tTrain's auc: 0.97976\tTrain's binary_logloss: 2.05576\tTrain's binary_error: 0.0595556\tEval's auc: 0.964187\tEval's binary_logloss: 2.08844\tEval's binary_error: 0.0605333\n",
      "[298]\tTrain's auc: 0.97976\tTrain's binary_logloss: 2.05576\tTrain's binary_error: 0.0595556\tEval's auc: 0.964187\tEval's binary_logloss: 2.08844\tEval's binary_error: 0.0605333\n",
      "[299]\tTrain's auc: 0.97976\tTrain's binary_logloss: 2.05576\tTrain's binary_error: 0.0595556\tEval's auc: 0.964187\tEval's binary_logloss: 2.08844\tEval's binary_error: 0.0605333\n",
      "[300]\tTrain's auc: 0.97976\tTrain's binary_logloss: 2.05576\tTrain's binary_error: 0.0595556\tEval's auc: 0.964187\tEval's binary_logloss: 2.08844\tEval's binary_error: 0.0605333\n",
      "[301]\tTrain's auc: 0.97976\tTrain's binary_logloss: 2.05576\tTrain's binary_error: 0.0595556\tEval's auc: 0.964187\tEval's binary_logloss: 2.08844\tEval's binary_error: 0.0605333\n",
      "[302]\tTrain's auc: 0.97976\tTrain's binary_logloss: 2.05576\tTrain's binary_error: 0.0595556\tEval's auc: 0.964187\tEval's binary_logloss: 2.08844\tEval's binary_error: 0.0605333\n",
      "[303]\tTrain's auc: 0.97976\tTrain's binary_logloss: 2.05576\tTrain's binary_error: 0.0595556\tEval's auc: 0.964187\tEval's binary_logloss: 2.08844\tEval's binary_error: 0.0605333\n",
      "[304]\tTrain's auc: 0.97976\tTrain's binary_logloss: 2.05576\tTrain's binary_error: 0.0595556\tEval's auc: 0.964187\tEval's binary_logloss: 2.08844\tEval's binary_error: 0.0605333\n",
      "[305]\tTrain's auc: 0.97976\tTrain's binary_logloss: 2.05576\tTrain's binary_error: 0.0595556\tEval's auc: 0.964187\tEval's binary_logloss: 2.08844\tEval's binary_error: 0.0605333\n",
      "[306]\tTrain's auc: 0.97976\tTrain's binary_logloss: 2.05576\tTrain's binary_error: 0.0595556\tEval's auc: 0.964187\tEval's binary_logloss: 2.08844\tEval's binary_error: 0.0605333\n",
      "[307]\tTrain's auc: 0.97976\tTrain's binary_logloss: 2.05576\tTrain's binary_error: 0.0595556\tEval's auc: 0.964187\tEval's binary_logloss: 2.08844\tEval's binary_error: 0.0605333\n",
      "[308]\tTrain's auc: 0.97976\tTrain's binary_logloss: 2.05576\tTrain's binary_error: 0.0595556\tEval's auc: 0.964187\tEval's binary_logloss: 2.08844\tEval's binary_error: 0.0605333\n",
      "[309]\tTrain's auc: 0.97976\tTrain's binary_logloss: 2.05576\tTrain's binary_error: 0.0595556\tEval's auc: 0.964187\tEval's binary_logloss: 2.08844\tEval's binary_error: 0.0605333\n",
      "[310]\tTrain's auc: 0.97976\tTrain's binary_logloss: 2.05576\tTrain's binary_error: 0.0595556\tEval's auc: 0.964187\tEval's binary_logloss: 2.08844\tEval's binary_error: 0.0605333\n",
      "[311]\tTrain's auc: 0.97976\tTrain's binary_logloss: 2.05576\tTrain's binary_error: 0.0595556\tEval's auc: 0.964187\tEval's binary_logloss: 2.08844\tEval's binary_error: 0.0605333\n",
      "[312]\tTrain's auc: 0.97976\tTrain's binary_logloss: 2.05576\tTrain's binary_error: 0.0595556\tEval's auc: 0.964187\tEval's binary_logloss: 2.08844\tEval's binary_error: 0.0605333\n",
      "[313]\tTrain's auc: 0.97976\tTrain's binary_logloss: 2.05576\tTrain's binary_error: 0.0595556\tEval's auc: 0.964187\tEval's binary_logloss: 2.08844\tEval's binary_error: 0.0605333\n",
      "[314]\tTrain's auc: 0.97976\tTrain's binary_logloss: 2.05576\tTrain's binary_error: 0.0595556\tEval's auc: 0.964187\tEval's binary_logloss: 2.08844\tEval's binary_error: 0.0605333\n",
      "[315]\tTrain's auc: 0.97976\tTrain's binary_logloss: 2.05576\tTrain's binary_error: 0.0595556\tEval's auc: 0.964187\tEval's binary_logloss: 2.08844\tEval's binary_error: 0.0605333\n",
      "[316]\tTrain's auc: 0.97976\tTrain's binary_logloss: 2.05576\tTrain's binary_error: 0.0595556\tEval's auc: 0.964187\tEval's binary_logloss: 2.08844\tEval's binary_error: 0.0605333\n",
      "[317]\tTrain's auc: 0.97976\tTrain's binary_logloss: 2.05576\tTrain's binary_error: 0.0595556\tEval's auc: 0.964187\tEval's binary_logloss: 2.08844\tEval's binary_error: 0.0605333\n",
      "[318]\tTrain's auc: 0.97976\tTrain's binary_logloss: 2.05576\tTrain's binary_error: 0.0595556\tEval's auc: 0.964187\tEval's binary_logloss: 2.08844\tEval's binary_error: 0.0605333\n",
      "[319]\tTrain's auc: 0.97976\tTrain's binary_logloss: 2.05576\tTrain's binary_error: 0.0595556\tEval's auc: 0.964187\tEval's binary_logloss: 2.08844\tEval's binary_error: 0.0605333\n",
      "[320]\tTrain's auc: 0.97976\tTrain's binary_logloss: 2.05576\tTrain's binary_error: 0.0595556\tEval's auc: 0.964187\tEval's binary_logloss: 2.08844\tEval's binary_error: 0.0605333\n",
      "[321]\tTrain's auc: 0.97976\tTrain's binary_logloss: 2.05576\tTrain's binary_error: 0.0595556\tEval's auc: 0.964187\tEval's binary_logloss: 2.08844\tEval's binary_error: 0.0605333\n",
      "[322]\tTrain's auc: 0.97976\tTrain's binary_logloss: 2.05576\tTrain's binary_error: 0.0595556\tEval's auc: 0.964187\tEval's binary_logloss: 2.08844\tEval's binary_error: 0.0605333\n"
     ]
    },
    {
     "name": "stdout",
     "output_type": "stream",
     "text": [
      "[323]\tTrain's auc: 0.97976\tTrain's binary_logloss: 2.05576\tTrain's binary_error: 0.0595556\tEval's auc: 0.964187\tEval's binary_logloss: 2.08844\tEval's binary_error: 0.0605333\n",
      "[324]\tTrain's auc: 0.97976\tTrain's binary_logloss: 2.05576\tTrain's binary_error: 0.0595556\tEval's auc: 0.964187\tEval's binary_logloss: 2.08844\tEval's binary_error: 0.0605333\n",
      "[325]\tTrain's auc: 0.97976\tTrain's binary_logloss: 2.05576\tTrain's binary_error: 0.0595556\tEval's auc: 0.964187\tEval's binary_logloss: 2.08844\tEval's binary_error: 0.0605333\n",
      "[326]\tTrain's auc: 0.97976\tTrain's binary_logloss: 2.05576\tTrain's binary_error: 0.0595556\tEval's auc: 0.964187\tEval's binary_logloss: 2.08844\tEval's binary_error: 0.0605333\n",
      "[327]\tTrain's auc: 0.97976\tTrain's binary_logloss: 2.05576\tTrain's binary_error: 0.0595556\tEval's auc: 0.964187\tEval's binary_logloss: 2.08844\tEval's binary_error: 0.0605333\n",
      "[328]\tTrain's auc: 0.97976\tTrain's binary_logloss: 2.05576\tTrain's binary_error: 0.0595556\tEval's auc: 0.964187\tEval's binary_logloss: 2.08844\tEval's binary_error: 0.0605333\n",
      "[329]\tTrain's auc: 0.97976\tTrain's binary_logloss: 2.05576\tTrain's binary_error: 0.0595556\tEval's auc: 0.964187\tEval's binary_logloss: 2.08844\tEval's binary_error: 0.0605333\n",
      "[330]\tTrain's auc: 0.97976\tTrain's binary_logloss: 2.05576\tTrain's binary_error: 0.0595556\tEval's auc: 0.964187\tEval's binary_logloss: 2.08844\tEval's binary_error: 0.0605333\n",
      "[331]\tTrain's auc: 0.97976\tTrain's binary_logloss: 2.05576\tTrain's binary_error: 0.0595556\tEval's auc: 0.964187\tEval's binary_logloss: 2.08844\tEval's binary_error: 0.0605333\n",
      "[332]\tTrain's auc: 0.97976\tTrain's binary_logloss: 2.05576\tTrain's binary_error: 0.0595556\tEval's auc: 0.964187\tEval's binary_logloss: 2.08844\tEval's binary_error: 0.0605333\n",
      "[333]\tTrain's auc: 0.97976\tTrain's binary_logloss: 2.05576\tTrain's binary_error: 0.0595556\tEval's auc: 0.964187\tEval's binary_logloss: 2.08844\tEval's binary_error: 0.0605333\n",
      "[334]\tTrain's auc: 0.97976\tTrain's binary_logloss: 2.05576\tTrain's binary_error: 0.0595556\tEval's auc: 0.964187\tEval's binary_logloss: 2.08844\tEval's binary_error: 0.0605333\n",
      "[335]\tTrain's auc: 0.97976\tTrain's binary_logloss: 2.05576\tTrain's binary_error: 0.0595556\tEval's auc: 0.964187\tEval's binary_logloss: 2.08844\tEval's binary_error: 0.0605333\n",
      "[336]\tTrain's auc: 0.97976\tTrain's binary_logloss: 2.05576\tTrain's binary_error: 0.0595556\tEval's auc: 0.964187\tEval's binary_logloss: 2.08844\tEval's binary_error: 0.0605333\n",
      "[337]\tTrain's auc: 0.97976\tTrain's binary_logloss: 2.05576\tTrain's binary_error: 0.0595556\tEval's auc: 0.964187\tEval's binary_logloss: 2.08844\tEval's binary_error: 0.0605333\n",
      "[338]\tTrain's auc: 0.97976\tTrain's binary_logloss: 2.05576\tTrain's binary_error: 0.0595556\tEval's auc: 0.964187\tEval's binary_logloss: 2.08844\tEval's binary_error: 0.0605333\n",
      "[339]\tTrain's auc: 0.97976\tTrain's binary_logloss: 2.05576\tTrain's binary_error: 0.0595556\tEval's auc: 0.964187\tEval's binary_logloss: 2.08844\tEval's binary_error: 0.0605333\n",
      "[340]\tTrain's auc: 0.97976\tTrain's binary_logloss: 2.05576\tTrain's binary_error: 0.0595556\tEval's auc: 0.964187\tEval's binary_logloss: 2.08844\tEval's binary_error: 0.0605333\n",
      "[341]\tTrain's auc: 0.97976\tTrain's binary_logloss: 2.05576\tTrain's binary_error: 0.0595556\tEval's auc: 0.964187\tEval's binary_logloss: 2.08844\tEval's binary_error: 0.0605333\n",
      "[342]\tTrain's auc: 0.97976\tTrain's binary_logloss: 2.05576\tTrain's binary_error: 0.0595556\tEval's auc: 0.964187\tEval's binary_logloss: 2.08844\tEval's binary_error: 0.0605333\n",
      "[343]\tTrain's auc: 0.97976\tTrain's binary_logloss: 2.05576\tTrain's binary_error: 0.0595556\tEval's auc: 0.964187\tEval's binary_logloss: 2.08844\tEval's binary_error: 0.0605333\n",
      "[344]\tTrain's auc: 0.97976\tTrain's binary_logloss: 2.05576\tTrain's binary_error: 0.0595556\tEval's auc: 0.964187\tEval's binary_logloss: 2.08844\tEval's binary_error: 0.0605333\n",
      "[345]\tTrain's auc: 0.97976\tTrain's binary_logloss: 2.05576\tTrain's binary_error: 0.0595556\tEval's auc: 0.964187\tEval's binary_logloss: 2.08844\tEval's binary_error: 0.0605333\n",
      "[346]\tTrain's auc: 0.97976\tTrain's binary_logloss: 2.05576\tTrain's binary_error: 0.0595556\tEval's auc: 0.964187\tEval's binary_logloss: 2.08844\tEval's binary_error: 0.0605333\n",
      "[347]\tTrain's auc: 0.97976\tTrain's binary_logloss: 2.05576\tTrain's binary_error: 0.0595556\tEval's auc: 0.964187\tEval's binary_logloss: 2.08844\tEval's binary_error: 0.0605333\n",
      "[348]\tTrain's auc: 0.97976\tTrain's binary_logloss: 2.05576\tTrain's binary_error: 0.0595556\tEval's auc: 0.964187\tEval's binary_logloss: 2.08844\tEval's binary_error: 0.0605333\n",
      "[349]\tTrain's auc: 0.97976\tTrain's binary_logloss: 2.05576\tTrain's binary_error: 0.0595556\tEval's auc: 0.964187\tEval's binary_logloss: 2.08844\tEval's binary_error: 0.0605333\n",
      "[350]\tTrain's auc: 0.97976\tTrain's binary_logloss: 2.05576\tTrain's binary_error: 0.0595556\tEval's auc: 0.964187\tEval's binary_logloss: 2.08844\tEval's binary_error: 0.0605333\n",
      "[351]\tTrain's auc: 0.97976\tTrain's binary_logloss: 2.05576\tTrain's binary_error: 0.0595556\tEval's auc: 0.964187\tEval's binary_logloss: 2.08844\tEval's binary_error: 0.0605333\n",
      "[352]\tTrain's auc: 0.97976\tTrain's binary_logloss: 2.05576\tTrain's binary_error: 0.0595556\tEval's auc: 0.964187\tEval's binary_logloss: 2.08844\tEval's binary_error: 0.0605333\n",
      "[353]\tTrain's auc: 0.97976\tTrain's binary_logloss: 2.05576\tTrain's binary_error: 0.0595556\tEval's auc: 0.964187\tEval's binary_logloss: 2.08844\tEval's binary_error: 0.0605333\n",
      "[354]\tTrain's auc: 0.97976\tTrain's binary_logloss: 2.05576\tTrain's binary_error: 0.0595556\tEval's auc: 0.964187\tEval's binary_logloss: 2.08844\tEval's binary_error: 0.0605333\n",
      "[355]\tTrain's auc: 0.97976\tTrain's binary_logloss: 2.05576\tTrain's binary_error: 0.0595556\tEval's auc: 0.964187\tEval's binary_logloss: 2.08844\tEval's binary_error: 0.0605333\n",
      "[356]\tTrain's auc: 0.97976\tTrain's binary_logloss: 2.05576\tTrain's binary_error: 0.0595556\tEval's auc: 0.964187\tEval's binary_logloss: 2.08844\tEval's binary_error: 0.0605333\n",
      "[357]\tTrain's auc: 0.97976\tTrain's binary_logloss: 2.05576\tTrain's binary_error: 0.0595556\tEval's auc: 0.964187\tEval's binary_logloss: 2.08844\tEval's binary_error: 0.0605333\n",
      "[358]\tTrain's auc: 0.97976\tTrain's binary_logloss: 2.05576\tTrain's binary_error: 0.0595556\tEval's auc: 0.964187\tEval's binary_logloss: 2.08844\tEval's binary_error: 0.0605333\n",
      "[359]\tTrain's auc: 0.97976\tTrain's binary_logloss: 2.05576\tTrain's binary_error: 0.0595556\tEval's auc: 0.964187\tEval's binary_logloss: 2.08844\tEval's binary_error: 0.0605333\n",
      "[360]\tTrain's auc: 0.97976\tTrain's binary_logloss: 2.05576\tTrain's binary_error: 0.0595556\tEval's auc: 0.964187\tEval's binary_logloss: 2.08844\tEval's binary_error: 0.0605333\n",
      "[361]\tTrain's auc: 0.97976\tTrain's binary_logloss: 2.05576\tTrain's binary_error: 0.0595556\tEval's auc: 0.964187\tEval's binary_logloss: 2.08844\tEval's binary_error: 0.0605333\n",
      "[362]\tTrain's auc: 0.97976\tTrain's binary_logloss: 2.05576\tTrain's binary_error: 0.0595556\tEval's auc: 0.964187\tEval's binary_logloss: 2.08844\tEval's binary_error: 0.0605333\n",
      "[363]\tTrain's auc: 0.97976\tTrain's binary_logloss: 2.05576\tTrain's binary_error: 0.0595556\tEval's auc: 0.964187\tEval's binary_logloss: 2.08844\tEval's binary_error: 0.0605333\n",
      "[364]\tTrain's auc: 0.97976\tTrain's binary_logloss: 2.05576\tTrain's binary_error: 0.0595556\tEval's auc: 0.964187\tEval's binary_logloss: 2.08844\tEval's binary_error: 0.0605333\n",
      "[365]\tTrain's auc: 0.97976\tTrain's binary_logloss: 2.05576\tTrain's binary_error: 0.0595556\tEval's auc: 0.964187\tEval's binary_logloss: 2.08844\tEval's binary_error: 0.0605333\n",
      "[366]\tTrain's auc: 0.97976\tTrain's binary_logloss: 2.05576\tTrain's binary_error: 0.0595556\tEval's auc: 0.964187\tEval's binary_logloss: 2.08844\tEval's binary_error: 0.0605333\n",
      "[367]\tTrain's auc: 0.97976\tTrain's binary_logloss: 2.05576\tTrain's binary_error: 0.0595556\tEval's auc: 0.964187\tEval's binary_logloss: 2.08844\tEval's binary_error: 0.0605333\n",
      "[368]\tTrain's auc: 0.97976\tTrain's binary_logloss: 2.05576\tTrain's binary_error: 0.0595556\tEval's auc: 0.964187\tEval's binary_logloss: 2.08844\tEval's binary_error: 0.0605333\n",
      "[369]\tTrain's auc: 0.97976\tTrain's binary_logloss: 2.05576\tTrain's binary_error: 0.0595556\tEval's auc: 0.964187\tEval's binary_logloss: 2.08844\tEval's binary_error: 0.0605333\n",
      "[370]\tTrain's auc: 0.97976\tTrain's binary_logloss: 2.05576\tTrain's binary_error: 0.0595556\tEval's auc: 0.964187\tEval's binary_logloss: 2.08844\tEval's binary_error: 0.0605333\n",
      "[371]\tTrain's auc: 0.97976\tTrain's binary_logloss: 2.05576\tTrain's binary_error: 0.0595556\tEval's auc: 0.964187\tEval's binary_logloss: 2.08844\tEval's binary_error: 0.0605333\n",
      "[372]\tTrain's auc: 0.97976\tTrain's binary_logloss: 2.05576\tTrain's binary_error: 0.0595556\tEval's auc: 0.964187\tEval's binary_logloss: 2.08844\tEval's binary_error: 0.0605333\n"
     ]
    },
    {
     "name": "stdout",
     "output_type": "stream",
     "text": [
      "[373]\tTrain's auc: 0.97976\tTrain's binary_logloss: 2.05576\tTrain's binary_error: 0.0595556\tEval's auc: 0.964187\tEval's binary_logloss: 2.08844\tEval's binary_error: 0.0605333\n",
      "[374]\tTrain's auc: 0.97976\tTrain's binary_logloss: 2.05576\tTrain's binary_error: 0.0595556\tEval's auc: 0.964187\tEval's binary_logloss: 2.08844\tEval's binary_error: 0.0605333\n",
      "[375]\tTrain's auc: 0.97976\tTrain's binary_logloss: 2.05576\tTrain's binary_error: 0.0595556\tEval's auc: 0.964187\tEval's binary_logloss: 2.08844\tEval's binary_error: 0.0605333\n",
      "[376]\tTrain's auc: 0.97976\tTrain's binary_logloss: 2.05576\tTrain's binary_error: 0.0595556\tEval's auc: 0.964187\tEval's binary_logloss: 2.08844\tEval's binary_error: 0.0605333\n",
      "[377]\tTrain's auc: 0.97976\tTrain's binary_logloss: 2.05576\tTrain's binary_error: 0.0595556\tEval's auc: 0.964187\tEval's binary_logloss: 2.08844\tEval's binary_error: 0.0605333\n",
      "[378]\tTrain's auc: 0.97976\tTrain's binary_logloss: 2.05576\tTrain's binary_error: 0.0595556\tEval's auc: 0.964187\tEval's binary_logloss: 2.08844\tEval's binary_error: 0.0605333\n",
      "[379]\tTrain's auc: 0.97976\tTrain's binary_logloss: 2.05576\tTrain's binary_error: 0.0595556\tEval's auc: 0.964187\tEval's binary_logloss: 2.08844\tEval's binary_error: 0.0605333\n",
      "[380]\tTrain's auc: 0.97976\tTrain's binary_logloss: 2.05576\tTrain's binary_error: 0.0595556\tEval's auc: 0.964187\tEval's binary_logloss: 2.08844\tEval's binary_error: 0.0605333\n",
      "[381]\tTrain's auc: 0.97976\tTrain's binary_logloss: 2.05576\tTrain's binary_error: 0.0595556\tEval's auc: 0.964187\tEval's binary_logloss: 2.08844\tEval's binary_error: 0.0605333\n",
      "[382]\tTrain's auc: 0.97976\tTrain's binary_logloss: 2.05576\tTrain's binary_error: 0.0595556\tEval's auc: 0.964187\tEval's binary_logloss: 2.08844\tEval's binary_error: 0.0605333\n",
      "[383]\tTrain's auc: 0.97976\tTrain's binary_logloss: 2.05576\tTrain's binary_error: 0.0595556\tEval's auc: 0.964187\tEval's binary_logloss: 2.08844\tEval's binary_error: 0.0605333\n",
      "[384]\tTrain's auc: 0.97976\tTrain's binary_logloss: 2.05576\tTrain's binary_error: 0.0595556\tEval's auc: 0.964187\tEval's binary_logloss: 2.08844\tEval's binary_error: 0.0605333\n",
      "[385]\tTrain's auc: 0.97976\tTrain's binary_logloss: 2.05576\tTrain's binary_error: 0.0595556\tEval's auc: 0.964187\tEval's binary_logloss: 2.08844\tEval's binary_error: 0.0605333\n",
      "[386]\tTrain's auc: 0.97976\tTrain's binary_logloss: 2.05576\tTrain's binary_error: 0.0595556\tEval's auc: 0.964187\tEval's binary_logloss: 2.08844\tEval's binary_error: 0.0605333\n",
      "[387]\tTrain's auc: 0.97976\tTrain's binary_logloss: 2.05576\tTrain's binary_error: 0.0595556\tEval's auc: 0.964187\tEval's binary_logloss: 2.08844\tEval's binary_error: 0.0605333\n",
      "[388]\tTrain's auc: 0.97976\tTrain's binary_logloss: 2.05576\tTrain's binary_error: 0.0595556\tEval's auc: 0.964187\tEval's binary_logloss: 2.08844\tEval's binary_error: 0.0605333\n",
      "[389]\tTrain's auc: 0.97976\tTrain's binary_logloss: 2.05576\tTrain's binary_error: 0.0595556\tEval's auc: 0.964187\tEval's binary_logloss: 2.08844\tEval's binary_error: 0.0605333\n",
      "[390]\tTrain's auc: 0.97976\tTrain's binary_logloss: 2.05576\tTrain's binary_error: 0.0595556\tEval's auc: 0.964187\tEval's binary_logloss: 2.08844\tEval's binary_error: 0.0605333\n",
      "[391]\tTrain's auc: 0.97976\tTrain's binary_logloss: 2.05576\tTrain's binary_error: 0.0595556\tEval's auc: 0.964187\tEval's binary_logloss: 2.08844\tEval's binary_error: 0.0605333\n",
      "[392]\tTrain's auc: 0.97976\tTrain's binary_logloss: 2.05576\tTrain's binary_error: 0.0595556\tEval's auc: 0.964187\tEval's binary_logloss: 2.08844\tEval's binary_error: 0.0605333\n",
      "[393]\tTrain's auc: 0.97976\tTrain's binary_logloss: 2.05576\tTrain's binary_error: 0.0595556\tEval's auc: 0.964187\tEval's binary_logloss: 2.08844\tEval's binary_error: 0.0605333\n",
      "[394]\tTrain's auc: 0.97976\tTrain's binary_logloss: 2.05576\tTrain's binary_error: 0.0595556\tEval's auc: 0.964187\tEval's binary_logloss: 2.08844\tEval's binary_error: 0.0605333\n",
      "[395]\tTrain's auc: 0.97976\tTrain's binary_logloss: 2.05576\tTrain's binary_error: 0.0595556\tEval's auc: 0.964187\tEval's binary_logloss: 2.08844\tEval's binary_error: 0.0605333\n",
      "[396]\tTrain's auc: 0.97976\tTrain's binary_logloss: 2.05576\tTrain's binary_error: 0.0595556\tEval's auc: 0.964187\tEval's binary_logloss: 2.08844\tEval's binary_error: 0.0605333\n",
      "[397]\tTrain's auc: 0.97976\tTrain's binary_logloss: 2.05576\tTrain's binary_error: 0.0595556\tEval's auc: 0.964187\tEval's binary_logloss: 2.08844\tEval's binary_error: 0.0605333\n",
      "[398]\tTrain's auc: 0.97976\tTrain's binary_logloss: 2.05576\tTrain's binary_error: 0.0595556\tEval's auc: 0.964187\tEval's binary_logloss: 2.08844\tEval's binary_error: 0.0605333\n",
      "[399]\tTrain's auc: 0.97976\tTrain's binary_logloss: 2.05576\tTrain's binary_error: 0.0595556\tEval's auc: 0.964187\tEval's binary_logloss: 2.08844\tEval's binary_error: 0.0605333\n",
      "[400]\tTrain's auc: 0.97976\tTrain's binary_logloss: 2.05576\tTrain's binary_error: 0.0595556\tEval's auc: 0.964187\tEval's binary_logloss: 2.08844\tEval's binary_error: 0.0605333\n",
      "[401]\tTrain's auc: 0.97976\tTrain's binary_logloss: 2.05576\tTrain's binary_error: 0.0595556\tEval's auc: 0.964187\tEval's binary_logloss: 2.08844\tEval's binary_error: 0.0605333\n",
      "Early stopping, best iteration is:\n",
      "[1]\tTrain's auc: 0.992594\tTrain's binary_logloss: 0.968194\tTrain's binary_error: 0.0364444\tEval's auc: 0.976624\tEval's binary_logloss: 1.03109\tEval's binary_error: 0.0398667\n",
      "Evaluated only: auc\n"
     ]
    }
   ],
   "source": [
    "lgb_184 = lgb_optimizer.get_best_model()\n",
    "pickle.dump(lgb_184, open('./Models/lgb_184.pkl', 'wb'))"
   ]
  },
  {
   "cell_type": "markdown",
   "metadata": {},
   "source": [
    "## CatBoost"
   ]
  },
  {
   "cell_type": "code",
   "execution_count": null,
   "metadata": {},
   "outputs": [],
   "source": []
  },
  {
   "cell_type": "code",
   "execution_count": null,
   "metadata": {},
   "outputs": [],
   "source": []
  }
 ],
 "metadata": {
  "kernelspec": {
   "display_name": "Python 3",
   "language": "python",
   "name": "python3"
  },
  "language_info": {
   "codemirror_mode": {
    "name": "ipython",
    "version": 3
   },
   "file_extension": ".py",
   "mimetype": "text/x-python",
   "name": "python",
   "nbconvert_exporter": "python",
   "pygments_lexer": "ipython3",
   "version": "3.6.7"
  },
  "latex_envs": {
   "LaTeX_envs_menu_present": true,
   "autoclose": false,
   "autocomplete": true,
   "bibliofile": "biblio.bib",
   "cite_by": "apalike",
   "current_citInitial": 1,
   "eqLabelWithNumbers": true,
   "eqNumInitial": 1,
   "hotkeys": {
    "equation": "Ctrl-E",
    "itemize": "Ctrl-I"
   },
   "labels_anchors": false,
   "latex_user_defs": false,
   "report_style_numbering": false,
   "user_envs_cfg": false
  },
  "toc": {
   "base_numbering": 1,
   "nav_menu": {},
   "number_sections": true,
   "sideBar": true,
   "skip_h1_title": false,
   "title_cell": "Table of Contents",
   "title_sidebar": "Contents",
   "toc_cell": true,
   "toc_position": {},
   "toc_section_display": true,
   "toc_window_display": false
  }
 },
 "nbformat": 4,
 "nbformat_minor": 2
}
